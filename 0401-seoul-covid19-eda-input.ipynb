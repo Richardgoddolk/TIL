{
 "cells": [
  {
   "cell_type": "markdown",
   "metadata": {},
   "source": [
    "## 서울시에서 공개한 코로나19 발생동향 분석\n",
    "* http://www.seoul.go.kr/coronaV/coronaStatus.do\n",
    "\n",
    "## 분석에 사용할 Pandas 주요기능\n",
    "* Pandas cheat sheet 를 함께 보세요! : [Pandas_Cheat_Sheet.pdf](https://pandas.pydata.org/Pandas_Cheat_Sheet.pdf)\n",
    "\n",
    "* 파일 불러오기\n",
    "    * to_csv(\"파일명\", index=False) : csv 파일로 저장하기\n",
    "    * read_csv(\"파일명\") : csv 파일 불러오기\n",
    "    \n",
    "* Pandas를 통한 파일 저장과 불러오기\n",
    "    * shape를 통한 행과 열의 수 보기\n",
    "    * head, tail, sample 을 통한 일부 데이터 가져오기\n",
    "    \n",
    "* DataFrame의 info(), describe() 등을 통한 요약과 기술통계 값 구하기\n",
    "    * info()\n",
    "    * describe()\n",
    "    * nunique()\n",
    "    * index\n",
    "    * columns\n",
    "    * values\n",
    "    \n",
    "* Pandas의  DataFrame과 Series의 이해\n",
    "    * Series : 1차원 벡터구조\n",
    "    * DataFrame : 2차원 행렬구조\n",
    "    \n",
    "* 색인하기\n",
    "    * [컬럼]\n",
    "    * .loc[행]\n",
    "    * .loc[행, 열]\n",
    "    * .loc[조건식, 열]\n",
    "    \n",
    "* DataFrame의 데이터 타입 이해하기\n",
    "    * 날짜 데이터의 변환\n",
    "    \n",
    "* DataFrame 다루기\n",
    "    * 열(column) 인덱싱\n",
    "    * 행(index) 인덱싱\n",
    "    * 행, 열 인덱싱\n",
    "    * 정렬하기 : sort_values 사용하기\n",
    "    * 조건식 사용하기\n",
    "\n",
    "* 빈도수 구하기\n",
    "    * 한 개의 변수 : series.value_counts()\n",
    "    * 두 개의 변수 : pd.crosstab()\n",
    "\n",
    "* groupby 와 pivot_table\n",
    "    * 다양한 연산식의 사용\n"
   ]
  },
  {
   "cell_type": "markdown",
   "metadata": {},
   "source": [
    "## 라이브러리 로드"
   ]
  },
  {
   "cell_type": "code",
   "execution_count": 5,
   "metadata": {},
   "outputs": [],
   "source": [
    "# pandas, numpy, matplotlib.pyplot 불러오기\n",
    "\n",
    "import pandas as pd\n",
    "import numpy as np\n",
    "import matplotlib.pyplot as plt"
   ]
  },
  {
   "cell_type": "markdown",
   "metadata": {},
   "source": [
    "## 시각화 기본 명칭 확인하기\n",
    "* [Anatomy of a figure — Matplotlib documentation](https://matplotlib.org/stable/gallery/showcase/anatomy.html)\n",
    "\n",
    "## 시각화 한글폰트 설정하기"
   ]
  },
  {
   "cell_type": "code",
   "execution_count": 13,
   "metadata": {},
   "outputs": [
    {
     "name": "stderr",
     "output_type": "stream",
     "text": [
      "C:\\Users\\mayo9\\AppData\\Local\\Temp/ipykernel_9452/306103839.py:39: DeprecationWarning: `set_matplotlib_formats` is deprecated since IPython 7.23, directly use `matplotlib_inline.backend_inline.set_matplotlib_formats()`\n",
      "  set_matplotlib_formats(\"retina\")\n"
     ]
    }
   ],
   "source": [
    "# 윈도우 : \"Malgun Gothic\"\n",
    "# 맥 : \"AppleGothic\"\n",
    "def get_font_family():\n",
    "    \"\"\"\n",
    "    시스템 환경에 따른 기본 폰트명을 반환하는 함수\n",
    "    \"\"\"\n",
    "    import platform\n",
    "    system_name = platform.system()\n",
    "    # colab 사용자는 system_name이 'Linux'로 확인\n",
    "\n",
    "    if system_name == \"Darwin\" :\n",
    "        font_family = \"AppleGothic\"\n",
    "    elif system_name == \"Windows\":\n",
    "        font_family = \"Malgun Gothic\"\n",
    "    else:\n",
    "        !apt-get install fonts-nanum -qq  > /dev/null\n",
    "        !fc-cache -fv\n",
    "\n",
    "        import matplotlib as mpl\n",
    "        mpl.font_manager._rebuild()\n",
    "        findfont = mpl.font_manager.fontManager.findfont\n",
    "        mpl.font_manager.findfont = findfont\n",
    "        mpl.backends.backend_agg.findfont = findfont\n",
    "        \n",
    "        font_family = \"NanumBarunGothic\"\n",
    "    return font_family\n",
    "\n",
    "\n",
    "plt.style.use(\"seaborn-whitegrid\")\n",
    "#plt.style.use(\"ggplot\") -> 그래프 스타일 빨간색\n",
    "\n",
    "# 폰트설정\n",
    "plt.rc(\"font\", family=get_font_family())\n",
    "# 마이너스폰트 설정\n",
    "plt.rc(\"axes\", unicode_minus=False)\n",
    "\n",
    "# 그래프에 retina display 적용\n",
    "from IPython.display import set_matplotlib_formats\n",
    "\n",
    "set_matplotlib_formats(\"retina\")"
   ]
  },
  {
   "cell_type": "code",
   "execution_count": 11,
   "metadata": {},
   "outputs": [
    {
     "name": "stdout",
     "output_type": "stream",
     "text": [
      "['Solarize_Light2', '_classic_test_patch', 'bmh', 'classic', 'dark_background', 'fast', 'fivethirtyeight', 'ggplot', 'grayscale', 'seaborn', 'seaborn-bright', 'seaborn-colorblind', 'seaborn-dark', 'seaborn-dark-palette', 'seaborn-darkgrid', 'seaborn-deep', 'seaborn-muted', 'seaborn-notebook', 'seaborn-paper', 'seaborn-pastel', 'seaborn-poster', 'seaborn-talk', 'seaborn-ticks', 'seaborn-white', 'seaborn-whitegrid', 'tableau-colorblind10']\n"
     ]
    }
   ],
   "source": [
    "print(plt.style.available)"
   ]
  },
  {
   "cell_type": "code",
   "execution_count": 14,
   "metadata": {},
   "outputs": [
    {
     "data": {
      "text/plain": [
       "<AxesSubplot:title={'center':'한글'}>"
      ]
     },
     "execution_count": 14,
     "metadata": {},
     "output_type": "execute_result"
    },
    {
     "data": {
      "image/png": "[encoded data removed]",
      "text/plain": [
       "<Figure size 432x288 with 1 Axes>"
      ]
     },
     "metadata": {
      "image/png": {
       "height": 262,
       "width": 362
      }
     },
     "output_type": "display_data"
    }
   ],
   "source": [
    "# 그래프 그려보기\n",
    "pd.Series([1, 3, 5, -7, 9]).plot(title=\"한글\")"
   ]
  },
  {
   "cell_type": "markdown",
   "metadata": {},
   "source": [
    "## 파일 불러오기\n",
    "<img src=\"https://pandas.pydata.org/docs/_images/02_io_readwrite.svg\">"
   ]
  },
  {
   "cell_type": "code",
   "execution_count": 15,
   "metadata": {},
   "outputs": [
    {
     "data": {
      "text/plain": [
       "(200000, 7)"
      ]
     },
     "execution_count": 15,
     "metadata": {},
     "output_type": "execute_result"
    }
   ],
   "source": [
    "# seoul-covid19-2021-12-18.csv 불러오기\n",
    "# df_01 변수에 담아 재사용합니다.\n",
    "# df_01\n",
    "df_01 = pd.read_csv(\"data/seoul-covid19-2021-12-18.csv\")\n",
    "df_01.shape  # 결과 값 : 하루에 20만명까지 확진자가 나왔다."
   ]
  },
  {
   "cell_type": "markdown",
   "metadata": {},
   "source": [
    "## head, tail, sample 로 일부 데이터만 보기"
   ]
  },
  {
   "cell_type": "code",
   "execution_count": 17,
   "metadata": {},
   "outputs": [
    {
     "data": {
      "text/html": [
       "<div>\n",
       "<style scoped>\n",
       "    .dataframe tbody tr th:only-of-type {\n",
       "        vertical-align: middle;\n",
       "    }\n",
       "\n",
       "    .dataframe tbody tr th {\n",
       "        vertical-align: top;\n",
       "    }\n",
       "\n",
       "    .dataframe thead th {\n",
       "        text-align: right;\n",
       "    }\n",
       "</style>\n",
       "<table border=\"1\" class=\"dataframe\">\n",
       "  <thead>\n",
       "    <tr style=\"text-align: right;\">\n",
       "      <th></th>\n",
       "      <th>연번</th>\n",
       "      <th>환자</th>\n",
       "      <th>확진일</th>\n",
       "      <th>거주지</th>\n",
       "      <th>여행력</th>\n",
       "      <th>접촉력</th>\n",
       "      <th>퇴원현황</th>\n",
       "    </tr>\n",
       "  </thead>\n",
       "  <tbody>\n",
       "    <tr>\n",
       "      <th>0</th>\n",
       "      <td>200000</td>\n",
       "      <td>561465</td>\n",
       "      <td>2021-12-18</td>\n",
       "      <td>중구</td>\n",
       "      <td>-</td>\n",
       "      <td>기타 확진자 접촉</td>\n",
       "      <td>NaN</td>\n",
       "    </tr>\n",
       "    <tr>\n",
       "      <th>1</th>\n",
       "      <td>199999</td>\n",
       "      <td>562278</td>\n",
       "      <td>2021-12-18</td>\n",
       "      <td>구로구</td>\n",
       "      <td>-</td>\n",
       "      <td>구로구 소재 요양시설 관련('21.11.)</td>\n",
       "      <td>NaN</td>\n",
       "    </tr>\n",
       "    <tr>\n",
       "      <th>2</th>\n",
       "      <td>199998</td>\n",
       "      <td>562213</td>\n",
       "      <td>2021-12-18</td>\n",
       "      <td>금천구</td>\n",
       "      <td>-</td>\n",
       "      <td>기타 확진자 접촉</td>\n",
       "      <td>NaN</td>\n",
       "    </tr>\n",
       "    <tr>\n",
       "      <th>3</th>\n",
       "      <td>199997</td>\n",
       "      <td>562362</td>\n",
       "      <td>2021-12-18</td>\n",
       "      <td>중구</td>\n",
       "      <td>-</td>\n",
       "      <td>감염경로 조사중</td>\n",
       "      <td>NaN</td>\n",
       "    </tr>\n",
       "    <tr>\n",
       "      <th>4</th>\n",
       "      <td>199996</td>\n",
       "      <td>560491</td>\n",
       "      <td>2021-12-18</td>\n",
       "      <td>중구</td>\n",
       "      <td>-</td>\n",
       "      <td>기타 확진자 접촉</td>\n",
       "      <td>NaN</td>\n",
       "    </tr>\n",
       "  </tbody>\n",
       "</table>\n",
       "</div>"
      ],
      "text/plain": [
       "       연번      환자         확진일  거주지 여행력                      접촉력 퇴원현황\n",
       "0  200000  561465  2021-12-18   중구   -                기타 확진자 접촉  NaN\n",
       "1  199999  562278  2021-12-18  구로구   -  구로구 소재 요양시설 관련('21.11.)  NaN\n",
       "2  199998  562213  2021-12-18  금천구   -                기타 확진자 접촉  NaN\n",
       "3  199997  562362  2021-12-18   중구   -                 감염경로 조사중  NaN\n",
       "4  199996  560491  2021-12-18   중구   -                기타 확진자 접촉  NaN"
      ]
     },
     "execution_count": 17,
     "metadata": {},
     "output_type": "execute_result"
    }
   ],
   "source": [
    "df_01.head()  \n",
    "#강사님 조언 : 아래 도메인을 보면, 컬럼 별로 무엇을 의미하는지 파악이 어렵다 -> 담당자에게 빠르게 물어보는게 현명하다!, 필요한 질문은 꼭 하라!"
   ]
  },
  {
   "cell_type": "code",
   "execution_count": 16,
   "metadata": {},
   "outputs": [
    {
     "data": {
      "text/plain": [
       "(18646, 7)"
      ]
     },
     "execution_count": 16,
     "metadata": {},
     "output_type": "execute_result"
    }
   ],
   "source": [
    "# seoul-covid19-2021-12-26.csv 불러오기\n",
    "# df_02 변수에 담아 재사용합니다.\n",
    "# df_02\n",
    "df_02 = pd.read_csv(\"data/seoul-covid19-2021-12-26.csv\")\n",
    "df_02.shape"
   ]
  },
  {
   "cell_type": "code",
   "execution_count": 18,
   "metadata": {},
   "outputs": [
    {
     "data": {
      "text/html": [
       "<div>\n",
       "<style scoped>\n",
       "    .dataframe tbody tr th:only-of-type {\n",
       "        vertical-align: middle;\n",
       "    }\n",
       "\n",
       "    .dataframe tbody tr th {\n",
       "        vertical-align: top;\n",
       "    }\n",
       "\n",
       "    .dataframe thead th {\n",
       "        text-align: right;\n",
       "    }\n",
       "</style>\n",
       "<table border=\"1\" class=\"dataframe\">\n",
       "  <thead>\n",
       "    <tr style=\"text-align: right;\">\n",
       "      <th></th>\n",
       "      <th>연번</th>\n",
       "      <th>환자</th>\n",
       "      <th>확진일</th>\n",
       "      <th>거주지</th>\n",
       "      <th>여행력</th>\n",
       "      <th>접촉력</th>\n",
       "      <th>퇴원현황</th>\n",
       "    </tr>\n",
       "  </thead>\n",
       "  <tbody>\n",
       "    <tr>\n",
       "      <th>0</th>\n",
       "      <td>218646</td>\n",
       "      <td>611159</td>\n",
       "      <td>2021-12-26</td>\n",
       "      <td>노원구</td>\n",
       "      <td>-</td>\n",
       "      <td>감염경로 조사중</td>\n",
       "      <td>NaN</td>\n",
       "    </tr>\n",
       "    <tr>\n",
       "      <th>1</th>\n",
       "      <td>218645</td>\n",
       "      <td>610703</td>\n",
       "      <td>2021-12-26</td>\n",
       "      <td>노원구</td>\n",
       "      <td>-</td>\n",
       "      <td>감염경로 조사중</td>\n",
       "      <td>NaN</td>\n",
       "    </tr>\n",
       "    <tr>\n",
       "      <th>2</th>\n",
       "      <td>218644</td>\n",
       "      <td>611537</td>\n",
       "      <td>2021-12-26</td>\n",
       "      <td>송파구</td>\n",
       "      <td>-</td>\n",
       "      <td>감염경로 조사중</td>\n",
       "      <td>NaN</td>\n",
       "    </tr>\n",
       "    <tr>\n",
       "      <th>3</th>\n",
       "      <td>218643</td>\n",
       "      <td>607530</td>\n",
       "      <td>2021-12-26</td>\n",
       "      <td>송파구</td>\n",
       "      <td>-</td>\n",
       "      <td>감염경로 조사중</td>\n",
       "      <td>NaN</td>\n",
       "    </tr>\n",
       "    <tr>\n",
       "      <th>4</th>\n",
       "      <td>218642</td>\n",
       "      <td>607522</td>\n",
       "      <td>2021-12-26</td>\n",
       "      <td>송파구</td>\n",
       "      <td>-</td>\n",
       "      <td>감염경로 조사중</td>\n",
       "      <td>NaN</td>\n",
       "    </tr>\n",
       "  </tbody>\n",
       "</table>\n",
       "</div>"
      ],
      "text/plain": [
       "       연번      환자         확진일  거주지 여행력       접촉력 퇴원현황\n",
       "0  218646  611159  2021-12-26  노원구   -  감염경로 조사중  NaN\n",
       "1  218645  610703  2021-12-26  노원구   -  감염경로 조사중  NaN\n",
       "2  218644  611537  2021-12-26  송파구   -  감염경로 조사중  NaN\n",
       "3  218643  607530  2021-12-26  송파구   -  감염경로 조사중  NaN\n",
       "4  218642  607522  2021-12-26  송파구   -  감염경로 조사중  NaN"
      ]
     },
     "execution_count": 18,
     "metadata": {},
     "output_type": "execute_result"
    }
   ],
   "source": [
    "# 일부데이터만 가져와보기\n",
    "df_02.head()"
   ]
  },
  {
   "cell_type": "markdown",
   "metadata": {},
   "source": [
    "## concat 으로 여러 개의 데이터프레임 합치기\n",
    "\n",
    "\n",
    "* axis = 0\n",
    "\n",
    "<img src=\"https://pandas.pydata.org/docs/_images/merging_concat_basic.png\">\n",
    "\n",
    "* axis = 1 \n",
    "<img src=\"https://pandas.pydata.org/docs/_images/merging_concat_axis1.png\">\n",
    "\n",
    "* 결측치를 제외하기 join=\"inner\"\n",
    "<img src=\"https://pandas.pydata.org/docs/_images/merging_concat_axis1_inner.png\">\n",
    "\n",
    "\n",
    "* [Merge, join, concatenate and compare documentation](https://pandas.pydata.org/docs/user_guide/merging.html#merge-join-concatenate-and-compare)"
   ]
  },
  {
   "cell_type": "code",
   "execution_count": null,
   "metadata": {},
   "outputs": [],
   "source": [
    "#axis = 0 : 컬럼의 길이가 같을때!\n",
    "#axis = 1 : 인덱스 값이 같을때!"
   ]
  },
  {
   "cell_type": "code",
   "execution_count": 19,
   "metadata": {},
   "outputs": [
    {
     "data": {
      "text/plain": [
       "(218646, 7)"
      ]
     },
     "execution_count": 19,
     "metadata": {},
     "output_type": "execute_result"
    }
   ],
   "source": [
    "# pd.concat 으로 [df_01, df_02] 합치고 df 변수에 할당하기\n",
    "# df\n",
    "df = pd.concat([df_01, df_02])\n",
    "df.shape"
   ]
  },
  {
   "cell_type": "markdown",
   "metadata": {},
   "source": [
    "## 합친 데이터 확인하기"
   ]
  },
  {
   "cell_type": "code",
   "execution_count": 20,
   "metadata": {},
   "outputs": [
    {
     "data": {
      "text/html": [
       "<div>\n",
       "<style scoped>\n",
       "    .dataframe tbody tr th:only-of-type {\n",
       "        vertical-align: middle;\n",
       "    }\n",
       "\n",
       "    .dataframe tbody tr th {\n",
       "        vertical-align: top;\n",
       "    }\n",
       "\n",
       "    .dataframe thead th {\n",
       "        text-align: right;\n",
       "    }\n",
       "</style>\n",
       "<table border=\"1\" class=\"dataframe\">\n",
       "  <thead>\n",
       "    <tr style=\"text-align: right;\">\n",
       "      <th></th>\n",
       "      <th>연번</th>\n",
       "      <th>환자</th>\n",
       "      <th>확진일</th>\n",
       "      <th>거주지</th>\n",
       "      <th>여행력</th>\n",
       "      <th>접촉력</th>\n",
       "      <th>퇴원현황</th>\n",
       "    </tr>\n",
       "  </thead>\n",
       "  <tbody>\n",
       "    <tr>\n",
       "      <th>0</th>\n",
       "      <td>200000</td>\n",
       "      <td>561465</td>\n",
       "      <td>2021-12-18</td>\n",
       "      <td>중구</td>\n",
       "      <td>-</td>\n",
       "      <td>기타 확진자 접촉</td>\n",
       "      <td>NaN</td>\n",
       "    </tr>\n",
       "    <tr>\n",
       "      <th>1</th>\n",
       "      <td>199999</td>\n",
       "      <td>562278</td>\n",
       "      <td>2021-12-18</td>\n",
       "      <td>구로구</td>\n",
       "      <td>-</td>\n",
       "      <td>구로구 소재 요양시설 관련('21.11.)</td>\n",
       "      <td>NaN</td>\n",
       "    </tr>\n",
       "    <tr>\n",
       "      <th>2</th>\n",
       "      <td>199998</td>\n",
       "      <td>562213</td>\n",
       "      <td>2021-12-18</td>\n",
       "      <td>금천구</td>\n",
       "      <td>-</td>\n",
       "      <td>기타 확진자 접촉</td>\n",
       "      <td>NaN</td>\n",
       "    </tr>\n",
       "    <tr>\n",
       "      <th>3</th>\n",
       "      <td>199997</td>\n",
       "      <td>562362</td>\n",
       "      <td>2021-12-18</td>\n",
       "      <td>중구</td>\n",
       "      <td>-</td>\n",
       "      <td>감염경로 조사중</td>\n",
       "      <td>NaN</td>\n",
       "    </tr>\n",
       "    <tr>\n",
       "      <th>4</th>\n",
       "      <td>199996</td>\n",
       "      <td>560491</td>\n",
       "      <td>2021-12-18</td>\n",
       "      <td>중구</td>\n",
       "      <td>-</td>\n",
       "      <td>기타 확진자 접촉</td>\n",
       "      <td>NaN</td>\n",
       "    </tr>\n",
       "  </tbody>\n",
       "</table>\n",
       "</div>"
      ],
      "text/plain": [
       "       연번      환자         확진일  거주지 여행력                      접촉력 퇴원현황\n",
       "0  200000  561465  2021-12-18   중구   -                기타 확진자 접촉  NaN\n",
       "1  199999  562278  2021-12-18  구로구   -  구로구 소재 요양시설 관련('21.11.)  NaN\n",
       "2  199998  562213  2021-12-18  금천구   -                기타 확진자 접촉  NaN\n",
       "3  199997  562362  2021-12-18   중구   -                 감염경로 조사중  NaN\n",
       "4  199996  560491  2021-12-18   중구   -                기타 확진자 접촉  NaN"
      ]
     },
     "execution_count": 20,
     "metadata": {},
     "output_type": "execute_result"
    }
   ],
   "source": [
    "# head, tail, sample 을 통해 데이터 확인하기\n",
    "df.head()"
   ]
  },
  {
   "cell_type": "code",
   "execution_count": 21,
   "metadata": {
    "scrolled": true
   },
   "outputs": [
    {
     "data": {
      "text/html": [
       "<div>\n",
       "<style scoped>\n",
       "    .dataframe tbody tr th:only-of-type {\n",
       "        vertical-align: middle;\n",
       "    }\n",
       "\n",
       "    .dataframe tbody tr th {\n",
       "        vertical-align: top;\n",
       "    }\n",
       "\n",
       "    .dataframe thead th {\n",
       "        text-align: right;\n",
       "    }\n",
       "</style>\n",
       "<table border=\"1\" class=\"dataframe\">\n",
       "  <thead>\n",
       "    <tr style=\"text-align: right;\">\n",
       "      <th></th>\n",
       "      <th>연번</th>\n",
       "      <th>환자</th>\n",
       "      <th>확진일</th>\n",
       "      <th>거주지</th>\n",
       "      <th>여행력</th>\n",
       "      <th>접촉력</th>\n",
       "      <th>퇴원현황</th>\n",
       "    </tr>\n",
       "  </thead>\n",
       "  <tbody>\n",
       "    <tr>\n",
       "      <th>18641</th>\n",
       "      <td>200005</td>\n",
       "      <td>562113</td>\n",
       "      <td>2021-12-18</td>\n",
       "      <td>중랑구</td>\n",
       "      <td>-</td>\n",
       "      <td>강남구 소재 빌딩 관련('21.12.(2))</td>\n",
       "      <td>NaN</td>\n",
       "    </tr>\n",
       "    <tr>\n",
       "      <th>18642</th>\n",
       "      <td>200004</td>\n",
       "      <td>562220</td>\n",
       "      <td>2021-12-18</td>\n",
       "      <td>송파구</td>\n",
       "      <td>-</td>\n",
       "      <td>기타 확진자 접촉</td>\n",
       "      <td>NaN</td>\n",
       "    </tr>\n",
       "    <tr>\n",
       "      <th>18643</th>\n",
       "      <td>200003</td>\n",
       "      <td>560264</td>\n",
       "      <td>2021-12-18</td>\n",
       "      <td>동작구</td>\n",
       "      <td>-</td>\n",
       "      <td>감염경로 조사중</td>\n",
       "      <td>퇴원</td>\n",
       "    </tr>\n",
       "    <tr>\n",
       "      <th>18644</th>\n",
       "      <td>200002</td>\n",
       "      <td>562971</td>\n",
       "      <td>2021-12-18</td>\n",
       "      <td>중구</td>\n",
       "      <td>-</td>\n",
       "      <td>기타 확진자 접촉</td>\n",
       "      <td>NaN</td>\n",
       "    </tr>\n",
       "    <tr>\n",
       "      <th>18645</th>\n",
       "      <td>200001</td>\n",
       "      <td>561831</td>\n",
       "      <td>2021-12-18</td>\n",
       "      <td>중구</td>\n",
       "      <td>-</td>\n",
       "      <td>기타 확진자 접촉</td>\n",
       "      <td>NaN</td>\n",
       "    </tr>\n",
       "  </tbody>\n",
       "</table>\n",
       "</div>"
      ],
      "text/plain": [
       "           연번      환자         확진일  거주지 여행력                       접촉력 퇴원현황\n",
       "18641  200005  562113  2021-12-18  중랑구   -  강남구 소재 빌딩 관련('21.12.(2))  NaN\n",
       "18642  200004  562220  2021-12-18  송파구   -                 기타 확진자 접촉  NaN\n",
       "18643  200003  560264  2021-12-18  동작구   -                  감염경로 조사중   퇴원\n",
       "18644  200002  562971  2021-12-18   중구   -                 기타 확진자 접촉  NaN\n",
       "18645  200001  561831  2021-12-18   중구   -                 기타 확진자 접촉  NaN"
      ]
     },
     "execution_count": 21,
     "metadata": {},
     "output_type": "execute_result"
    }
   ],
   "source": [
    "df.tail()"
   ]
  },
  {
   "cell_type": "code",
   "execution_count": 23,
   "metadata": {},
   "outputs": [
    {
     "data": {
      "text/html": [
       "<div>\n",
       "<style scoped>\n",
       "    .dataframe tbody tr th:only-of-type {\n",
       "        vertical-align: middle;\n",
       "    }\n",
       "\n",
       "    .dataframe tbody tr th {\n",
       "        vertical-align: top;\n",
       "    }\n",
       "\n",
       "    .dataframe thead th {\n",
       "        text-align: right;\n",
       "    }\n",
       "</style>\n",
       "<table border=\"1\" class=\"dataframe\">\n",
       "  <thead>\n",
       "    <tr style=\"text-align: right;\">\n",
       "      <th></th>\n",
       "      <th>연번</th>\n",
       "      <th>환자</th>\n",
       "      <th>확진일</th>\n",
       "      <th>거주지</th>\n",
       "      <th>여행력</th>\n",
       "      <th>접촉력</th>\n",
       "      <th>퇴원현황</th>\n",
       "    </tr>\n",
       "  </thead>\n",
       "  <tbody>\n",
       "    <tr>\n",
       "      <th>192201</th>\n",
       "      <td>7799</td>\n",
       "      <td>31501</td>\n",
       "      <td>2020-11-24</td>\n",
       "      <td>중랑구</td>\n",
       "      <td>-</td>\n",
       "      <td>감염경로 조사중</td>\n",
       "      <td>퇴원</td>\n",
       "    </tr>\n",
       "    <tr>\n",
       "      <th>56718</th>\n",
       "      <td>143282</td>\n",
       "      <td>421937</td>\n",
       "      <td>2021-11-23</td>\n",
       "      <td>동작구</td>\n",
       "      <td>-</td>\n",
       "      <td>동작구 소재 시장 관련('21.11.)</td>\n",
       "      <td>퇴원</td>\n",
       "    </tr>\n",
       "    <tr>\n",
       "      <th>41554</th>\n",
       "      <td>158446</td>\n",
       "      <td>455537</td>\n",
       "      <td>2021-12-01</td>\n",
       "      <td>기타</td>\n",
       "      <td>-</td>\n",
       "      <td>감염경로 조사중</td>\n",
       "      <td>NaN</td>\n",
       "    </tr>\n",
       "    <tr>\n",
       "      <th>73251</th>\n",
       "      <td>126749</td>\n",
       "      <td>382788</td>\n",
       "      <td>2021-11-08</td>\n",
       "      <td>노원구</td>\n",
       "      <td>-</td>\n",
       "      <td>기타 확진자 접촉</td>\n",
       "      <td>퇴원</td>\n",
       "    </tr>\n",
       "    <tr>\n",
       "      <th>9878</th>\n",
       "      <td>190122</td>\n",
       "      <td>535282</td>\n",
       "      <td>2021-12-14</td>\n",
       "      <td>송파구</td>\n",
       "      <td>-</td>\n",
       "      <td>감염경로 조사중</td>\n",
       "      <td>NaN</td>\n",
       "    </tr>\n",
       "    <tr>\n",
       "      <th>51752</th>\n",
       "      <td>148248</td>\n",
       "      <td>433890</td>\n",
       "      <td>2021-11-26</td>\n",
       "      <td>영등포구</td>\n",
       "      <td>-</td>\n",
       "      <td>기타 확진자 접촉</td>\n",
       "      <td>퇴원</td>\n",
       "    </tr>\n",
       "    <tr>\n",
       "      <th>13872</th>\n",
       "      <td>186128</td>\n",
       "      <td>526905</td>\n",
       "      <td>2021-12-13</td>\n",
       "      <td>마포구</td>\n",
       "      <td>-</td>\n",
       "      <td>기타 확진자 접촉</td>\n",
       "      <td>퇴원</td>\n",
       "    </tr>\n",
       "    <tr>\n",
       "      <th>16607</th>\n",
       "      <td>202039</td>\n",
       "      <td>567770</td>\n",
       "      <td>2021-12-19</td>\n",
       "      <td>강서구</td>\n",
       "      <td>중국</td>\n",
       "      <td>해외유입</td>\n",
       "      <td>NaN</td>\n",
       "    </tr>\n",
       "    <tr>\n",
       "      <th>39578</th>\n",
       "      <td>160422</td>\n",
       "      <td>462066</td>\n",
       "      <td>2021-12-02</td>\n",
       "      <td>노원구</td>\n",
       "      <td>-</td>\n",
       "      <td>감염경로 조사중</td>\n",
       "      <td>퇴원</td>\n",
       "    </tr>\n",
       "    <tr>\n",
       "      <th>110714</th>\n",
       "      <td>89286</td>\n",
       "      <td>281755</td>\n",
       "      <td>2021-09-16</td>\n",
       "      <td>강동구</td>\n",
       "      <td>-</td>\n",
       "      <td>감염경로 조사중</td>\n",
       "      <td>퇴원</td>\n",
       "    </tr>\n",
       "  </tbody>\n",
       "</table>\n",
       "</div>"
      ],
      "text/plain": [
       "            연번      환자         확진일   거주지 여행력                    접촉력 퇴원현황\n",
       "192201    7799   31501  2020-11-24   중랑구   -               감염경로 조사중   퇴원\n",
       "56718   143282  421937  2021-11-23   동작구   -  동작구 소재 시장 관련('21.11.)   퇴원\n",
       "41554   158446  455537  2021-12-01    기타   -               감염경로 조사중  NaN\n",
       "73251   126749  382788  2021-11-08   노원구   -              기타 확진자 접촉   퇴원\n",
       "9878    190122  535282  2021-12-14   송파구   -               감염경로 조사중  NaN\n",
       "51752   148248  433890  2021-11-26  영등포구   -              기타 확진자 접촉   퇴원\n",
       "13872   186128  526905  2021-12-13   마포구   -              기타 확진자 접촉   퇴원\n",
       "16607   202039  567770  2021-12-19   강서구  중국                   해외유입  NaN\n",
       "39578   160422  462066  2021-12-02   노원구   -               감염경로 조사중   퇴원\n",
       "110714   89286  281755  2021-09-16   강동구   -               감염경로 조사중   퇴원"
      ]
     },
     "execution_count": 23,
     "metadata": {},
     "output_type": "execute_result"
    }
   ],
   "source": [
    "df.sample(10)"
   ]
  },
  {
   "cell_type": "markdown",
   "metadata": {},
   "source": [
    "## 중복 제거하기"
   ]
  },
  {
   "cell_type": "code",
   "execution_count": 24,
   "metadata": {},
   "outputs": [
    {
     "data": {
      "text/html": [
       "<div>\n",
       "<style scoped>\n",
       "    .dataframe tbody tr th:only-of-type {\n",
       "        vertical-align: middle;\n",
       "    }\n",
       "\n",
       "    .dataframe tbody tr th {\n",
       "        vertical-align: top;\n",
       "    }\n",
       "\n",
       "    .dataframe thead th {\n",
       "        text-align: right;\n",
       "    }\n",
       "</style>\n",
       "<table border=\"1\" class=\"dataframe\">\n",
       "  <thead>\n",
       "    <tr style=\"text-align: right;\">\n",
       "      <th></th>\n",
       "      <th>연번</th>\n",
       "      <th>환자</th>\n",
       "      <th>확진일</th>\n",
       "      <th>거주지</th>\n",
       "      <th>여행력</th>\n",
       "      <th>접촉력</th>\n",
       "      <th>퇴원현황</th>\n",
       "    </tr>\n",
       "  </thead>\n",
       "  <tbody>\n",
       "  </tbody>\n",
       "</table>\n",
       "</div>"
      ],
      "text/plain": [
       "Empty DataFrame\n",
       "Columns: [연번, 환자, 확진일, 거주지, 여행력, 접촉력, 퇴원현황]\n",
       "Index: []"
      ]
     },
     "execution_count": 24,
     "metadata": {},
     "output_type": "execute_result"
    }
   ],
   "source": [
    "df[df.duplicated()] #중복된 데이터 드랍"
   ]
  },
  {
   "cell_type": "markdown",
   "metadata": {},
   "source": [
    "## 인덱스 값 설정하기\n",
    "* 전체 데이터프레임의 행의 갯수와 \"연번\"의 유일값을 확인하면 중복값이 없는 것으로 확인할 수 있습니다.\n",
    "* shape와 nunique()로 행의 수와 유일값이 일치하는지 확인합니다."
   ]
  },
  {
   "cell_type": "code",
   "execution_count": 25,
   "metadata": {},
   "outputs": [
    {
     "data": {
      "text/plain": [
       "(218646, 7)"
      ]
     },
     "execution_count": 25,
     "metadata": {},
     "output_type": "execute_result"
    }
   ],
   "source": [
    "# shape\n",
    "df.shape"
   ]
  },
  {
   "cell_type": "code",
   "execution_count": 27,
   "metadata": {},
   "outputs": [
    {
     "data": {
      "text/plain": [
       "218646"
      ]
     },
     "execution_count": 27,
     "metadata": {},
     "output_type": "execute_result"
    }
   ],
   "source": [
    "# 연번의 nunique()\n",
    "df[\"연번\"].nunique()"
   ]
  },
  {
   "cell_type": "code",
   "execution_count": 31,
   "metadata": {},
   "outputs": [
    {
     "data": {
      "text/html": [
       "<div>\n",
       "<style scoped>\n",
       "    .dataframe tbody tr th:only-of-type {\n",
       "        vertical-align: middle;\n",
       "    }\n",
       "\n",
       "    .dataframe tbody tr th {\n",
       "        vertical-align: top;\n",
       "    }\n",
       "\n",
       "    .dataframe thead th {\n",
       "        text-align: right;\n",
       "    }\n",
       "</style>\n",
       "<table border=\"1\" class=\"dataframe\">\n",
       "  <thead>\n",
       "    <tr style=\"text-align: right;\">\n",
       "      <th></th>\n",
       "      <th>환자</th>\n",
       "      <th>확진일</th>\n",
       "      <th>거주지</th>\n",
       "      <th>여행력</th>\n",
       "      <th>접촉력</th>\n",
       "      <th>퇴원현황</th>\n",
       "    </tr>\n",
       "    <tr>\n",
       "      <th>연번</th>\n",
       "      <th></th>\n",
       "      <th></th>\n",
       "      <th></th>\n",
       "      <th></th>\n",
       "      <th></th>\n",
       "      <th></th>\n",
       "    </tr>\n",
       "  </thead>\n",
       "  <tbody>\n",
       "    <tr>\n",
       "      <th>200000</th>\n",
       "      <td>561465</td>\n",
       "      <td>2021-12-18</td>\n",
       "      <td>중구</td>\n",
       "      <td>-</td>\n",
       "      <td>기타 확진자 접촉</td>\n",
       "      <td>NaN</td>\n",
       "    </tr>\n",
       "    <tr>\n",
       "      <th>199999</th>\n",
       "      <td>562278</td>\n",
       "      <td>2021-12-18</td>\n",
       "      <td>구로구</td>\n",
       "      <td>-</td>\n",
       "      <td>구로구 소재 요양시설 관련('21.11.)</td>\n",
       "      <td>NaN</td>\n",
       "    </tr>\n",
       "    <tr>\n",
       "      <th>199998</th>\n",
       "      <td>562213</td>\n",
       "      <td>2021-12-18</td>\n",
       "      <td>금천구</td>\n",
       "      <td>-</td>\n",
       "      <td>기타 확진자 접촉</td>\n",
       "      <td>NaN</td>\n",
       "    </tr>\n",
       "    <tr>\n",
       "      <th>199997</th>\n",
       "      <td>562362</td>\n",
       "      <td>2021-12-18</td>\n",
       "      <td>중구</td>\n",
       "      <td>-</td>\n",
       "      <td>감염경로 조사중</td>\n",
       "      <td>NaN</td>\n",
       "    </tr>\n",
       "    <tr>\n",
       "      <th>199996</th>\n",
       "      <td>560491</td>\n",
       "      <td>2021-12-18</td>\n",
       "      <td>중구</td>\n",
       "      <td>-</td>\n",
       "      <td>기타 확진자 접촉</td>\n",
       "      <td>NaN</td>\n",
       "    </tr>\n",
       "    <tr>\n",
       "      <th>...</th>\n",
       "      <td>...</td>\n",
       "      <td>...</td>\n",
       "      <td>...</td>\n",
       "      <td>...</td>\n",
       "      <td>...</td>\n",
       "      <td>...</td>\n",
       "    </tr>\n",
       "    <tr>\n",
       "      <th>200005</th>\n",
       "      <td>562113</td>\n",
       "      <td>2021-12-18</td>\n",
       "      <td>중랑구</td>\n",
       "      <td>-</td>\n",
       "      <td>강남구 소재 빌딩 관련('21.12.(2))</td>\n",
       "      <td>NaN</td>\n",
       "    </tr>\n",
       "    <tr>\n",
       "      <th>200004</th>\n",
       "      <td>562220</td>\n",
       "      <td>2021-12-18</td>\n",
       "      <td>송파구</td>\n",
       "      <td>-</td>\n",
       "      <td>기타 확진자 접촉</td>\n",
       "      <td>NaN</td>\n",
       "    </tr>\n",
       "    <tr>\n",
       "      <th>200003</th>\n",
       "      <td>560264</td>\n",
       "      <td>2021-12-18</td>\n",
       "      <td>동작구</td>\n",
       "      <td>-</td>\n",
       "      <td>감염경로 조사중</td>\n",
       "      <td>퇴원</td>\n",
       "    </tr>\n",
       "    <tr>\n",
       "      <th>200002</th>\n",
       "      <td>562971</td>\n",
       "      <td>2021-12-18</td>\n",
       "      <td>중구</td>\n",
       "      <td>-</td>\n",
       "      <td>기타 확진자 접촉</td>\n",
       "      <td>NaN</td>\n",
       "    </tr>\n",
       "    <tr>\n",
       "      <th>200001</th>\n",
       "      <td>561831</td>\n",
       "      <td>2021-12-18</td>\n",
       "      <td>중구</td>\n",
       "      <td>-</td>\n",
       "      <td>기타 확진자 접촉</td>\n",
       "      <td>NaN</td>\n",
       "    </tr>\n",
       "  </tbody>\n",
       "</table>\n",
       "<p>218646 rows × 6 columns</p>\n",
       "</div>"
      ],
      "text/plain": [
       "            환자         확진일  거주지 여행력                       접촉력 퇴원현황\n",
       "연번                                                                \n",
       "200000  561465  2021-12-18   중구   -                 기타 확진자 접촉  NaN\n",
       "199999  562278  2021-12-18  구로구   -   구로구 소재 요양시설 관련('21.11.)  NaN\n",
       "199998  562213  2021-12-18  금천구   -                 기타 확진자 접촉  NaN\n",
       "199997  562362  2021-12-18   중구   -                  감염경로 조사중  NaN\n",
       "199996  560491  2021-12-18   중구   -                 기타 확진자 접촉  NaN\n",
       "...        ...         ...  ...  ..                       ...  ...\n",
       "200005  562113  2021-12-18  중랑구   -  강남구 소재 빌딩 관련('21.12.(2))  NaN\n",
       "200004  562220  2021-12-18  송파구   -                 기타 확진자 접촉  NaN\n",
       "200003  560264  2021-12-18  동작구   -                  감염경로 조사중   퇴원\n",
       "200002  562971  2021-12-18   중구   -                 기타 확진자 접촉  NaN\n",
       "200001  561831  2021-12-18   중구   -                 기타 확진자 접촉  NaN\n",
       "\n",
       "[218646 rows x 6 columns]"
      ]
     },
     "execution_count": 31,
     "metadata": {},
     "output_type": "execute_result"
    }
   ],
   "source": [
    "# set_index 를 통해 인덱스 값을 변경합니다.\n",
    "df\n",
    "# 밑의 표에서 연번 앞의 순번은 자동으로 생성된것, 유니크한게 없기 때문에(위 셀) 필요 없다\n",
    "df = df.set_index(\"연번\")\n",
    "df"
   ]
  },
  {
   "cell_type": "markdown",
   "metadata": {},
   "source": [
    "## 연번 순으로 정렬하기"
   ]
  },
  {
   "cell_type": "code",
   "execution_count": 42,
   "metadata": {},
   "outputs": [
    {
     "data": {
      "text/html": [
       "<div>\n",
       "<style scoped>\n",
       "    .dataframe tbody tr th:only-of-type {\n",
       "        vertical-align: middle;\n",
       "    }\n",
       "\n",
       "    .dataframe tbody tr th {\n",
       "        vertical-align: top;\n",
       "    }\n",
       "\n",
       "    .dataframe thead th {\n",
       "        text-align: right;\n",
       "    }\n",
       "</style>\n",
       "<table border=\"1\" class=\"dataframe\">\n",
       "  <thead>\n",
       "    <tr style=\"text-align: right;\">\n",
       "      <th></th>\n",
       "      <th>환자</th>\n",
       "      <th>확진일</th>\n",
       "      <th>거주지</th>\n",
       "      <th>여행력</th>\n",
       "      <th>접촉력</th>\n",
       "      <th>퇴원현황</th>\n",
       "    </tr>\n",
       "    <tr>\n",
       "      <th>연번</th>\n",
       "      <th></th>\n",
       "      <th></th>\n",
       "      <th></th>\n",
       "      <th></th>\n",
       "      <th></th>\n",
       "      <th></th>\n",
       "    </tr>\n",
       "  </thead>\n",
       "  <tbody>\n",
       "    <tr>\n",
       "      <th>218646</th>\n",
       "      <td>611159</td>\n",
       "      <td>2021-12-26</td>\n",
       "      <td>노원구</td>\n",
       "      <td>-</td>\n",
       "      <td>감염경로 조사중</td>\n",
       "      <td>NaN</td>\n",
       "    </tr>\n",
       "    <tr>\n",
       "      <th>218645</th>\n",
       "      <td>610703</td>\n",
       "      <td>2021-12-26</td>\n",
       "      <td>노원구</td>\n",
       "      <td>-</td>\n",
       "      <td>감염경로 조사중</td>\n",
       "      <td>NaN</td>\n",
       "    </tr>\n",
       "    <tr>\n",
       "      <th>218644</th>\n",
       "      <td>611537</td>\n",
       "      <td>2021-12-26</td>\n",
       "      <td>송파구</td>\n",
       "      <td>-</td>\n",
       "      <td>감염경로 조사중</td>\n",
       "      <td>NaN</td>\n",
       "    </tr>\n",
       "    <tr>\n",
       "      <th>218643</th>\n",
       "      <td>607530</td>\n",
       "      <td>2021-12-26</td>\n",
       "      <td>송파구</td>\n",
       "      <td>-</td>\n",
       "      <td>감염경로 조사중</td>\n",
       "      <td>NaN</td>\n",
       "    </tr>\n",
       "    <tr>\n",
       "      <th>218642</th>\n",
       "      <td>607522</td>\n",
       "      <td>2021-12-26</td>\n",
       "      <td>송파구</td>\n",
       "      <td>-</td>\n",
       "      <td>감염경로 조사중</td>\n",
       "      <td>NaN</td>\n",
       "    </tr>\n",
       "    <tr>\n",
       "      <th>...</th>\n",
       "      <td>...</td>\n",
       "      <td>...</td>\n",
       "      <td>...</td>\n",
       "      <td>...</td>\n",
       "      <td>...</td>\n",
       "      <td>...</td>\n",
       "    </tr>\n",
       "    <tr>\n",
       "      <th>5</th>\n",
       "      <td>9</td>\n",
       "      <td>2020-01-31</td>\n",
       "      <td>성북구</td>\n",
       "      <td>-</td>\n",
       "      <td>기타 확진자 접촉</td>\n",
       "      <td>퇴원</td>\n",
       "    </tr>\n",
       "    <tr>\n",
       "      <th>4</th>\n",
       "      <td>7</td>\n",
       "      <td>2020-01-30</td>\n",
       "      <td>마포구</td>\n",
       "      <td>중국</td>\n",
       "      <td>해외유입</td>\n",
       "      <td>퇴원</td>\n",
       "    </tr>\n",
       "    <tr>\n",
       "      <th>3</th>\n",
       "      <td>6</td>\n",
       "      <td>2020-01-30</td>\n",
       "      <td>종로구</td>\n",
       "      <td>-</td>\n",
       "      <td>종로구 집단발병</td>\n",
       "      <td>퇴원</td>\n",
       "    </tr>\n",
       "    <tr>\n",
       "      <th>2</th>\n",
       "      <td>5</td>\n",
       "      <td>2020-01-30</td>\n",
       "      <td>중랑구</td>\n",
       "      <td>중국</td>\n",
       "      <td>해외유입</td>\n",
       "      <td>퇴원</td>\n",
       "    </tr>\n",
       "    <tr>\n",
       "      <th>1</th>\n",
       "      <td>2</td>\n",
       "      <td>2020-01-24</td>\n",
       "      <td>강서구</td>\n",
       "      <td>중국</td>\n",
       "      <td>해외유입</td>\n",
       "      <td>퇴원</td>\n",
       "    </tr>\n",
       "  </tbody>\n",
       "</table>\n",
       "<p>218646 rows × 6 columns</p>\n",
       "</div>"
      ],
      "text/plain": [
       "            환자         확진일  거주지 여행력        접촉력 퇴원현황\n",
       "연번                                                 \n",
       "218646  611159  2021-12-26  노원구   -   감염경로 조사중  NaN\n",
       "218645  610703  2021-12-26  노원구   -   감염경로 조사중  NaN\n",
       "218644  611537  2021-12-26  송파구   -   감염경로 조사중  NaN\n",
       "218643  607530  2021-12-26  송파구   -   감염경로 조사중  NaN\n",
       "218642  607522  2021-12-26  송파구   -   감염경로 조사중  NaN\n",
       "...        ...         ...  ...  ..        ...  ...\n",
       "5            9  2020-01-31  성북구   -  기타 확진자 접촉   퇴원\n",
       "4            7  2020-01-30  마포구  중국       해외유입   퇴원\n",
       "3            6  2020-01-30  종로구   -   종로구 집단발병   퇴원\n",
       "2            5  2020-01-30  중랑구  중국       해외유입   퇴원\n",
       "1            2  2020-01-24  강서구  중국       해외유입   퇴원\n",
       "\n",
       "[218646 rows x 6 columns]"
      ]
     },
     "execution_count": 42,
     "metadata": {},
     "output_type": "execute_result"
    }
   ],
   "source": [
    "# sort_index 를 통해 인덱스값 기준으로 정렬합니다.\n",
    "df = df.sort_index(ascending = False) # 괄호 안에 ascending = False : 역순 정렬 의미!. 비워놓으면 정순 정렬임\n",
    "df"
   ]
  },
  {
   "cell_type": "code",
   "execution_count": 43,
   "metadata": {},
   "outputs": [
    {
     "data": {
      "text/html": [
       "<div>\n",
       "<style scoped>\n",
       "    .dataframe tbody tr th:only-of-type {\n",
       "        vertical-align: middle;\n",
       "    }\n",
       "\n",
       "    .dataframe tbody tr th {\n",
       "        vertical-align: top;\n",
       "    }\n",
       "\n",
       "    .dataframe thead th {\n",
       "        text-align: right;\n",
       "    }\n",
       "</style>\n",
       "<table border=\"1\" class=\"dataframe\">\n",
       "  <thead>\n",
       "    <tr style=\"text-align: right;\">\n",
       "      <th></th>\n",
       "      <th>환자</th>\n",
       "      <th>확진일</th>\n",
       "      <th>거주지</th>\n",
       "      <th>여행력</th>\n",
       "      <th>접촉력</th>\n",
       "      <th>퇴원현황</th>\n",
       "    </tr>\n",
       "    <tr>\n",
       "      <th>연번</th>\n",
       "      <th></th>\n",
       "      <th></th>\n",
       "      <th></th>\n",
       "      <th></th>\n",
       "      <th></th>\n",
       "      <th></th>\n",
       "    </tr>\n",
       "  </thead>\n",
       "  <tbody>\n",
       "    <tr>\n",
       "      <th>218646</th>\n",
       "      <td>611159</td>\n",
       "      <td>2021-12-26</td>\n",
       "      <td>노원구</td>\n",
       "      <td>-</td>\n",
       "      <td>감염경로 조사중</td>\n",
       "      <td>NaN</td>\n",
       "    </tr>\n",
       "    <tr>\n",
       "      <th>218645</th>\n",
       "      <td>610703</td>\n",
       "      <td>2021-12-26</td>\n",
       "      <td>노원구</td>\n",
       "      <td>-</td>\n",
       "      <td>감염경로 조사중</td>\n",
       "      <td>NaN</td>\n",
       "    </tr>\n",
       "    <tr>\n",
       "      <th>218644</th>\n",
       "      <td>611537</td>\n",
       "      <td>2021-12-26</td>\n",
       "      <td>송파구</td>\n",
       "      <td>-</td>\n",
       "      <td>감염경로 조사중</td>\n",
       "      <td>NaN</td>\n",
       "    </tr>\n",
       "    <tr>\n",
       "      <th>218643</th>\n",
       "      <td>607530</td>\n",
       "      <td>2021-12-26</td>\n",
       "      <td>송파구</td>\n",
       "      <td>-</td>\n",
       "      <td>감염경로 조사중</td>\n",
       "      <td>NaN</td>\n",
       "    </tr>\n",
       "    <tr>\n",
       "      <th>218642</th>\n",
       "      <td>607522</td>\n",
       "      <td>2021-12-26</td>\n",
       "      <td>송파구</td>\n",
       "      <td>-</td>\n",
       "      <td>감염경로 조사중</td>\n",
       "      <td>NaN</td>\n",
       "    </tr>\n",
       "  </tbody>\n",
       "</table>\n",
       "</div>"
      ],
      "text/plain": [
       "            환자         확진일  거주지 여행력       접촉력 퇴원현황\n",
       "연번                                                \n",
       "218646  611159  2021-12-26  노원구   -  감염경로 조사중  NaN\n",
       "218645  610703  2021-12-26  노원구   -  감염경로 조사중  NaN\n",
       "218644  611537  2021-12-26  송파구   -  감염경로 조사중  NaN\n",
       "218643  607530  2021-12-26  송파구   -  감염경로 조사중  NaN\n",
       "218642  607522  2021-12-26  송파구   -  감염경로 조사중  NaN"
      ]
     },
     "execution_count": 43,
     "metadata": {},
     "output_type": "execute_result"
    }
   ],
   "source": [
    "# head 로 미리보기 합니다.\n",
    "df.head()"
   ]
  },
  {
   "cell_type": "code",
   "execution_count": 44,
   "metadata": {},
   "outputs": [
    {
     "data": {
      "text/html": [
       "<div>\n",
       "<style scoped>\n",
       "    .dataframe tbody tr th:only-of-type {\n",
       "        vertical-align: middle;\n",
       "    }\n",
       "\n",
       "    .dataframe tbody tr th {\n",
       "        vertical-align: top;\n",
       "    }\n",
       "\n",
       "    .dataframe thead th {\n",
       "        text-align: right;\n",
       "    }\n",
       "</style>\n",
       "<table border=\"1\" class=\"dataframe\">\n",
       "  <thead>\n",
       "    <tr style=\"text-align: right;\">\n",
       "      <th></th>\n",
       "      <th>환자</th>\n",
       "      <th>확진일</th>\n",
       "      <th>거주지</th>\n",
       "      <th>여행력</th>\n",
       "      <th>접촉력</th>\n",
       "      <th>퇴원현황</th>\n",
       "    </tr>\n",
       "    <tr>\n",
       "      <th>연번</th>\n",
       "      <th></th>\n",
       "      <th></th>\n",
       "      <th></th>\n",
       "      <th></th>\n",
       "      <th></th>\n",
       "      <th></th>\n",
       "    </tr>\n",
       "  </thead>\n",
       "  <tbody>\n",
       "    <tr>\n",
       "      <th>10</th>\n",
       "      <td>21</td>\n",
       "      <td>2020-02-05</td>\n",
       "      <td>성북구</td>\n",
       "      <td>-</td>\n",
       "      <td>종로구 집단발병</td>\n",
       "      <td>퇴원</td>\n",
       "    </tr>\n",
       "    <tr>\n",
       "      <th>9</th>\n",
       "      <td>19</td>\n",
       "      <td>2020-02-05</td>\n",
       "      <td>송파구</td>\n",
       "      <td>아시아</td>\n",
       "      <td>해외유입</td>\n",
       "      <td>퇴원</td>\n",
       "    </tr>\n",
       "    <tr>\n",
       "      <th>8</th>\n",
       "      <td>13</td>\n",
       "      <td>2020-02-02</td>\n",
       "      <td>타시도</td>\n",
       "      <td>중국</td>\n",
       "      <td>해외유입</td>\n",
       "      <td>퇴원</td>\n",
       "    </tr>\n",
       "    <tr>\n",
       "      <th>7</th>\n",
       "      <td>11</td>\n",
       "      <td>2020-01-31</td>\n",
       "      <td>종로구</td>\n",
       "      <td>-</td>\n",
       "      <td>종로구 집단발병</td>\n",
       "      <td>퇴원</td>\n",
       "    </tr>\n",
       "    <tr>\n",
       "      <th>6</th>\n",
       "      <td>10</td>\n",
       "      <td>2020-01-31</td>\n",
       "      <td>종로구</td>\n",
       "      <td>-</td>\n",
       "      <td>종로구 집단발병</td>\n",
       "      <td>퇴원</td>\n",
       "    </tr>\n",
       "    <tr>\n",
       "      <th>5</th>\n",
       "      <td>9</td>\n",
       "      <td>2020-01-31</td>\n",
       "      <td>성북구</td>\n",
       "      <td>-</td>\n",
       "      <td>기타 확진자 접촉</td>\n",
       "      <td>퇴원</td>\n",
       "    </tr>\n",
       "    <tr>\n",
       "      <th>4</th>\n",
       "      <td>7</td>\n",
       "      <td>2020-01-30</td>\n",
       "      <td>마포구</td>\n",
       "      <td>중국</td>\n",
       "      <td>해외유입</td>\n",
       "      <td>퇴원</td>\n",
       "    </tr>\n",
       "    <tr>\n",
       "      <th>3</th>\n",
       "      <td>6</td>\n",
       "      <td>2020-01-30</td>\n",
       "      <td>종로구</td>\n",
       "      <td>-</td>\n",
       "      <td>종로구 집단발병</td>\n",
       "      <td>퇴원</td>\n",
       "    </tr>\n",
       "    <tr>\n",
       "      <th>2</th>\n",
       "      <td>5</td>\n",
       "      <td>2020-01-30</td>\n",
       "      <td>중랑구</td>\n",
       "      <td>중국</td>\n",
       "      <td>해외유입</td>\n",
       "      <td>퇴원</td>\n",
       "    </tr>\n",
       "    <tr>\n",
       "      <th>1</th>\n",
       "      <td>2</td>\n",
       "      <td>2020-01-24</td>\n",
       "      <td>강서구</td>\n",
       "      <td>중국</td>\n",
       "      <td>해외유입</td>\n",
       "      <td>퇴원</td>\n",
       "    </tr>\n",
       "  </tbody>\n",
       "</table>\n",
       "</div>"
      ],
      "text/plain": [
       "    환자         확진일  거주지  여행력        접촉력 퇴원현황\n",
       "연번                                          \n",
       "10  21  2020-02-05  성북구    -   종로구 집단발병   퇴원\n",
       "9   19  2020-02-05  송파구  아시아       해외유입   퇴원\n",
       "8   13  2020-02-02  타시도   중국       해외유입   퇴원\n",
       "7   11  2020-01-31  종로구    -   종로구 집단발병   퇴원\n",
       "6   10  2020-01-31  종로구    -   종로구 집단발병   퇴원\n",
       "5    9  2020-01-31  성북구    -  기타 확진자 접촉   퇴원\n",
       "4    7  2020-01-30  마포구   중국       해외유입   퇴원\n",
       "3    6  2020-01-30  종로구    -   종로구 집단발병   퇴원\n",
       "2    5  2020-01-30  중랑구   중국       해외유입   퇴원\n",
       "1    2  2020-01-24  강서구   중국       해외유입   퇴원"
      ]
     },
     "execution_count": 44,
     "metadata": {},
     "output_type": "execute_result"
    }
   ],
   "source": [
    "# tail로 미리보기 합니다.\n",
    "df.tail(10)"
   ]
  },
  {
   "cell_type": "markdown",
   "metadata": {},
   "source": [
    "## 판다스의 attributes\n",
    "* [Series — pandas documentation](https://pandas.pydata.org/docs/reference/series.html#attributes)\n",
    "* [DataFrame — pandas documentation](https://pandas.pydata.org/docs/reference/frame.html#attributes-and-underlying-data)\n"
   ]
  },
  {
   "cell_type": "code",
   "execution_count": 45,
   "metadata": {},
   "outputs": [
    {
     "data": {
      "text/plain": [
       "(218646, 6)"
      ]
     },
     "execution_count": 45,
     "metadata": {},
     "output_type": "execute_result"
    }
   ],
   "source": [
    "# shape\n",
    "df.shape"
   ]
  },
  {
   "cell_type": "code",
   "execution_count": 51,
   "metadata": {},
   "outputs": [
    {
     "data": {
      "text/plain": [
       "환자       int64\n",
       "확진일     object\n",
       "거주지     object\n",
       "여행력     object\n",
       "접촉력     object\n",
       "퇴원현황    object\n",
       "dtype: object"
      ]
     },
     "execution_count": 51,
     "metadata": {},
     "output_type": "execute_result"
    }
   ],
   "source": [
    "# dtypes\n",
    "df.dtypes"
   ]
  },
  {
   "cell_type": "code",
   "execution_count": 53,
   "metadata": {},
   "outputs": [
    {
     "data": {
      "text/plain": [
       "Index(['환자', '확진일', '거주지', '여행력', '접촉력', '퇴원현황'], dtype='object')"
      ]
     },
     "execution_count": 53,
     "metadata": {},
     "output_type": "execute_result"
    }
   ],
   "source": [
    "# columns\n",
    "df.columns"
   ]
  },
  {
   "cell_type": "code",
   "execution_count": 62,
   "metadata": {},
   "outputs": [
    {
     "data": {
      "text/plain": [
       "Int64Index([     1,      2,      3,      4,      5,      6,      7,      8,\n",
       "                 9,     10,\n",
       "            ...\n",
       "            218637, 218638, 218639, 218640, 218641, 218642, 218643, 218644,\n",
       "            218645, 218646],\n",
       "           dtype='int64', name='연번', length=218646)"
      ]
     },
     "execution_count": 62,
     "metadata": {},
     "output_type": "execute_result"
    }
   ],
   "source": [
    "# index\n",
    "df.index # index 는 괄호가 안들어감!!! attrubute 값은 괄호가 안들어간다! DataFrame — pandas documentation 여기에 보면 있음"
   ]
  },
  {
   "cell_type": "code",
   "execution_count": 59,
   "metadata": {},
   "outputs": [
    {
     "data": {
      "text/html": [
       "<div>\n",
       "<style scoped>\n",
       "    .dataframe tbody tr th:only-of-type {\n",
       "        vertical-align: middle;\n",
       "    }\n",
       "\n",
       "    .dataframe tbody tr th {\n",
       "        vertical-align: top;\n",
       "    }\n",
       "\n",
       "    .dataframe thead th {\n",
       "        text-align: right;\n",
       "    }\n",
       "</style>\n",
       "<table border=\"1\" class=\"dataframe\">\n",
       "  <thead>\n",
       "    <tr style=\"text-align: right;\">\n",
       "      <th></th>\n",
       "      <th>환자</th>\n",
       "      <th>확진일</th>\n",
       "      <th>거주지</th>\n",
       "      <th>여행력</th>\n",
       "      <th>접촉력</th>\n",
       "      <th>퇴원현황</th>\n",
       "    </tr>\n",
       "    <tr>\n",
       "      <th>연번</th>\n",
       "      <th></th>\n",
       "      <th></th>\n",
       "      <th></th>\n",
       "      <th></th>\n",
       "      <th></th>\n",
       "      <th></th>\n",
       "    </tr>\n",
       "  </thead>\n",
       "  <tbody>\n",
       "    <tr>\n",
       "      <th>1</th>\n",
       "      <td>2</td>\n",
       "      <td>2020-01-24</td>\n",
       "      <td>강서구</td>\n",
       "      <td>중국</td>\n",
       "      <td>해외유입</td>\n",
       "      <td>퇴원</td>\n",
       "    </tr>\n",
       "    <tr>\n",
       "      <th>2</th>\n",
       "      <td>5</td>\n",
       "      <td>2020-01-30</td>\n",
       "      <td>중랑구</td>\n",
       "      <td>중국</td>\n",
       "      <td>해외유입</td>\n",
       "      <td>퇴원</td>\n",
       "    </tr>\n",
       "    <tr>\n",
       "      <th>3</th>\n",
       "      <td>6</td>\n",
       "      <td>2020-01-30</td>\n",
       "      <td>종로구</td>\n",
       "      <td>-</td>\n",
       "      <td>종로구 집단발병</td>\n",
       "      <td>퇴원</td>\n",
       "    </tr>\n",
       "    <tr>\n",
       "      <th>4</th>\n",
       "      <td>7</td>\n",
       "      <td>2020-01-30</td>\n",
       "      <td>마포구</td>\n",
       "      <td>중국</td>\n",
       "      <td>해외유입</td>\n",
       "      <td>퇴원</td>\n",
       "    </tr>\n",
       "    <tr>\n",
       "      <th>5</th>\n",
       "      <td>9</td>\n",
       "      <td>2020-01-31</td>\n",
       "      <td>성북구</td>\n",
       "      <td>-</td>\n",
       "      <td>기타 확진자 접촉</td>\n",
       "      <td>퇴원</td>\n",
       "    </tr>\n",
       "    <tr>\n",
       "      <th>...</th>\n",
       "      <td>...</td>\n",
       "      <td>...</td>\n",
       "      <td>...</td>\n",
       "      <td>...</td>\n",
       "      <td>...</td>\n",
       "      <td>...</td>\n",
       "    </tr>\n",
       "    <tr>\n",
       "      <th>218642</th>\n",
       "      <td>607522</td>\n",
       "      <td>2021-12-26</td>\n",
       "      <td>송파구</td>\n",
       "      <td>-</td>\n",
       "      <td>감염경로 조사중</td>\n",
       "      <td>NaN</td>\n",
       "    </tr>\n",
       "    <tr>\n",
       "      <th>218643</th>\n",
       "      <td>607530</td>\n",
       "      <td>2021-12-26</td>\n",
       "      <td>송파구</td>\n",
       "      <td>-</td>\n",
       "      <td>감염경로 조사중</td>\n",
       "      <td>NaN</td>\n",
       "    </tr>\n",
       "    <tr>\n",
       "      <th>218644</th>\n",
       "      <td>611537</td>\n",
       "      <td>2021-12-26</td>\n",
       "      <td>송파구</td>\n",
       "      <td>-</td>\n",
       "      <td>감염경로 조사중</td>\n",
       "      <td>NaN</td>\n",
       "    </tr>\n",
       "    <tr>\n",
       "      <th>218645</th>\n",
       "      <td>610703</td>\n",
       "      <td>2021-12-26</td>\n",
       "      <td>노원구</td>\n",
       "      <td>-</td>\n",
       "      <td>감염경로 조사중</td>\n",
       "      <td>NaN</td>\n",
       "    </tr>\n",
       "    <tr>\n",
       "      <th>218646</th>\n",
       "      <td>611159</td>\n",
       "      <td>2021-12-26</td>\n",
       "      <td>노원구</td>\n",
       "      <td>-</td>\n",
       "      <td>감염경로 조사중</td>\n",
       "      <td>NaN</td>\n",
       "    </tr>\n",
       "  </tbody>\n",
       "</table>\n",
       "<p>218646 rows × 6 columns</p>\n",
       "</div>"
      ],
      "text/plain": [
       "            환자         확진일  거주지 여행력        접촉력 퇴원현황\n",
       "연번                                                 \n",
       "1            2  2020-01-24  강서구  중국       해외유입   퇴원\n",
       "2            5  2020-01-30  중랑구  중국       해외유입   퇴원\n",
       "3            6  2020-01-30  종로구   -   종로구 집단발병   퇴원\n",
       "4            7  2020-01-30  마포구  중국       해외유입   퇴원\n",
       "5            9  2020-01-31  성북구   -  기타 확진자 접촉   퇴원\n",
       "...        ...         ...  ...  ..        ...  ...\n",
       "218642  607522  2021-12-26  송파구   -   감염경로 조사중  NaN\n",
       "218643  607530  2021-12-26  송파구   -   감염경로 조사중  NaN\n",
       "218644  611537  2021-12-26  송파구   -   감염경로 조사중  NaN\n",
       "218645  610703  2021-12-26  노원구   -   감염경로 조사중  NaN\n",
       "218646  611159  2021-12-26  노원구   -   감염경로 조사중  NaN\n",
       "\n",
       "[218646 rows x 6 columns]"
      ]
     },
     "execution_count": 59,
     "metadata": {},
     "output_type": "execute_result"
    }
   ],
   "source": [
    "df = df.sort_index()\n",
    "df"
   ]
  },
  {
   "cell_type": "markdown",
   "metadata": {},
   "source": [
    "## 데이터 요약"
   ]
  },
  {
   "cell_type": "code",
   "execution_count": 63,
   "metadata": {},
   "outputs": [
    {
     "name": "stdout",
     "output_type": "stream",
     "text": [
      "<class 'pandas.core.frame.DataFrame'>\n",
      "Int64Index: 218646 entries, 1 to 218646\n",
      "Data columns (total 6 columns):\n",
      " #   Column  Non-Null Count   Dtype \n",
      "---  ------  --------------   ----- \n",
      " 0   환자      218646 non-null  int64 \n",
      " 1   확진일     218646 non-null  object\n",
      " 2   거주지     218646 non-null  object\n",
      " 3   여행력     218646 non-null  object\n",
      " 4   접촉력     218646 non-null  object\n",
      " 5   퇴원현황    163497 non-null  object\n",
      "dtypes: int64(1), object(5)\n",
      "memory usage: 11.7+ MB\n"
     ]
    }
   ],
   "source": [
    "# info를 통해 데이터를 요약합니다.\n",
    "df.info()  \n",
    "# 인덱스가 1ㅇ서부터 2218646 까지 이어진다!\n",
    "#데이터 타입도 나옴\n",
    "# 메모리 사용양은 11메가 정도"
   ]
  },
  {
   "cell_type": "markdown",
   "metadata": {},
   "source": [
    "## 결측치 보기"
   ]
  },
  {
   "cell_type": "code",
   "execution_count": 65,
   "metadata": {},
   "outputs": [
    {
     "data": {
      "text/plain": [
       "환자          0\n",
       "확진일         0\n",
       "거주지         0\n",
       "여행력         0\n",
       "접촉력         0\n",
       "퇴원현황    55149\n",
       "dtype: int64"
      ]
     },
     "execution_count": 65,
     "metadata": {},
     "output_type": "execute_result"
    }
   ],
   "source": [
    "# 결측치의 합계를 구합니다.\n",
    "# isnull()\n",
    "df.isnull().sum()\n",
    "# df.isnull() 실행해고보고, 뒤에 .sum() 해보고 실행해보기!!!"
   ]
  },
  {
   "cell_type": "code",
   "execution_count": 66,
   "metadata": {},
   "outputs": [
    {
     "data": {
      "text/plain": [
       "환자      0.00000\n",
       "확진일     0.00000\n",
       "거주지     0.00000\n",
       "여행력     0.00000\n",
       "접촉력     0.00000\n",
       "퇴원현황    0.25223\n",
       "dtype: float64"
      ]
     },
     "execution_count": 66,
     "metadata": {},
     "output_type": "execute_result"
    }
   ],
   "source": [
    "# 평균(mean)을 통해 결측치의 비율을 구합니다.\n",
    "df.isnull().mean()\n",
    "# 100분위로 보고 싶으면 뒤에 * 100 붙이면 됨!"
   ]
  },
  {
   "cell_type": "code",
   "execution_count": 68,
   "metadata": {},
   "outputs": [
    {
     "data": {
      "text/plain": [
       "환자       0.000000\n",
       "확진일      0.000000\n",
       "거주지      0.000000\n",
       "여행력      0.000000\n",
       "접촉력      0.000000\n",
       "퇴원현황    25.222963\n",
       "dtype: float64"
      ]
     },
     "execution_count": 68,
     "metadata": {},
     "output_type": "execute_result"
    }
   ],
   "source": [
    "df.isnull().mean() * 100"
   ]
  },
  {
   "cell_type": "markdown",
   "metadata": {},
   "source": [
    "## 기술통계"
   ]
  },
  {
   "cell_type": "code",
   "execution_count": 69,
   "metadata": {},
   "outputs": [
    {
     "data": {
      "text/html": [
       "<div>\n",
       "<style scoped>\n",
       "    .dataframe tbody tr th:only-of-type {\n",
       "        vertical-align: middle;\n",
       "    }\n",
       "\n",
       "    .dataframe tbody tr th {\n",
       "        vertical-align: top;\n",
       "    }\n",
       "\n",
       "    .dataframe thead th {\n",
       "        text-align: right;\n",
       "    }\n",
       "</style>\n",
       "<table border=\"1\" class=\"dataframe\">\n",
       "  <thead>\n",
       "    <tr style=\"text-align: right;\">\n",
       "      <th></th>\n",
       "      <th>환자</th>\n",
       "    </tr>\n",
       "  </thead>\n",
       "  <tbody>\n",
       "    <tr>\n",
       "      <th>count</th>\n",
       "      <td>218646.000000</td>\n",
       "    </tr>\n",
       "    <tr>\n",
       "      <th>mean</th>\n",
       "      <td>322462.160977</td>\n",
       "    </tr>\n",
       "    <tr>\n",
       "      <th>std</th>\n",
       "      <td>173903.371149</td>\n",
       "    </tr>\n",
       "    <tr>\n",
       "      <th>min</th>\n",
       "      <td>2.000000</td>\n",
       "    </tr>\n",
       "    <tr>\n",
       "      <th>25%</th>\n",
       "      <td>168409.250000</td>\n",
       "    </tr>\n",
       "    <tr>\n",
       "      <th>50%</th>\n",
       "      <td>336181.500000</td>\n",
       "    </tr>\n",
       "    <tr>\n",
       "      <th>75%</th>\n",
       "      <td>470149.500000</td>\n",
       "    </tr>\n",
       "    <tr>\n",
       "      <th>max</th>\n",
       "      <td>611669.000000</td>\n",
       "    </tr>\n",
       "  </tbody>\n",
       "</table>\n",
       "</div>"
      ],
      "text/plain": [
       "                  환자\n",
       "count  218646.000000\n",
       "mean   322462.160977\n",
       "std    173903.371149\n",
       "min         2.000000\n",
       "25%    168409.250000\n",
       "50%    336181.500000\n",
       "75%    470149.500000\n",
       "max    611669.000000"
      ]
     },
     "execution_count": 69,
     "metadata": {},
     "output_type": "execute_result"
    }
   ],
   "source": [
    "# describe()로 기술통계 값을 구합니다.\n",
    "df.describe()\n",
    "#std : 표준편차"
   ]
  },
  {
   "cell_type": "code",
   "execution_count": 70,
   "metadata": {},
   "outputs": [
    {
     "data": {
      "text/html": [
       "<div>\n",
       "<style scoped>\n",
       "    .dataframe tbody tr th:only-of-type {\n",
       "        vertical-align: middle;\n",
       "    }\n",
       "\n",
       "    .dataframe tbody tr th {\n",
       "        vertical-align: top;\n",
       "    }\n",
       "\n",
       "    .dataframe thead th {\n",
       "        text-align: right;\n",
       "    }\n",
       "</style>\n",
       "<table border=\"1\" class=\"dataframe\">\n",
       "  <thead>\n",
       "    <tr style=\"text-align: right;\">\n",
       "      <th></th>\n",
       "      <th>확진일</th>\n",
       "      <th>거주지</th>\n",
       "      <th>여행력</th>\n",
       "      <th>접촉력</th>\n",
       "      <th>퇴원현황</th>\n",
       "    </tr>\n",
       "  </thead>\n",
       "  <tbody>\n",
       "    <tr>\n",
       "      <th>count</th>\n",
       "      <td>218646</td>\n",
       "      <td>218646</td>\n",
       "      <td>218646</td>\n",
       "      <td>218646</td>\n",
       "      <td>163497</td>\n",
       "    </tr>\n",
       "    <tr>\n",
       "      <th>unique</th>\n",
       "      <td>671</td>\n",
       "      <td>34</td>\n",
       "      <td>183</td>\n",
       "      <td>1417</td>\n",
       "      <td>2</td>\n",
       "    </tr>\n",
       "    <tr>\n",
       "      <th>top</th>\n",
       "      <td>2021-12-14</td>\n",
       "      <td>송파구</td>\n",
       "      <td>-</td>\n",
       "      <td>기타 확진자 접촉</td>\n",
       "      <td>퇴원</td>\n",
       "    </tr>\n",
       "    <tr>\n",
       "      <th>freq</th>\n",
       "      <td>3165</td>\n",
       "      <td>13235</td>\n",
       "      <td>215575</td>\n",
       "      <td>90055</td>\n",
       "      <td>161849</td>\n",
       "    </tr>\n",
       "  </tbody>\n",
       "</table>\n",
       "</div>"
      ],
      "text/plain": [
       "               확진일     거주지     여행력        접촉력    퇴원현황\n",
       "count       218646  218646  218646     218646  163497\n",
       "unique         671      34     183       1417       2\n",
       "top     2021-12-14     송파구       -  기타 확진자 접촉      퇴원\n",
       "freq          3165   13235  215575      90055  161849"
      ]
     },
     "execution_count": 70,
     "metadata": {},
     "output_type": "execute_result"
    }
   ],
   "source": [
    "# describe(include=\"object\") 로 문자 데이터에 대한 기술통계 값을 구합니다.\n",
    "df.describe(include=\"object\")"
   ]
  },
  {
   "cell_type": "markdown",
   "metadata": {},
   "source": [
    "## 날짜 데이터 타입 변경하기\n",
    "\n",
    "* 확진일 Series 형태로 가져오기\n",
    "<img src=\"https://pandas.pydata.org/docs/_images/01_table_series.svg\">"
   ]
  },
  {
   "cell_type": "code",
   "execution_count": 102,
   "metadata": {},
   "outputs": [
    {
     "data": {
      "text/plain": [
       "연번\n",
       "1        2020-01-24\n",
       "2        2020-01-30\n",
       "3        2020-01-30\n",
       "4        2020-01-30\n",
       "5        2020-01-31\n",
       "            ...    \n",
       "218642   2021-12-26\n",
       "218643   2021-12-26\n",
       "218644   2021-12-26\n",
       "218645   2021-12-26\n",
       "218646   2021-12-26\n",
       "Name: 확진일, Length: 218646, dtype: datetime64[ns]"
      ]
     },
     "execution_count": 102,
     "metadata": {},
     "output_type": "execute_result"
    }
   ],
   "source": [
    "# 확진일 Series 형태로 가져오기\n",
    "df[\"확진일\"]\n",
    "# 아래 보면 type 이 object 임 -> 데이터 타입으로 쓸 수가 없음"
   ]
  },
  {
   "cell_type": "code",
   "execution_count": 106,
   "metadata": {},
   "outputs": [
    {
     "data": {
      "text/plain": [
       "count                           218646\n",
       "mean     2021-08-28 00:20:41.195356928\n",
       "min                2020-01-24 00:00:00\n",
       "25%                2021-07-11 00:00:00\n",
       "50%                2021-10-13 00:00:00\n",
       "75%                2021-12-04 00:00:00\n",
       "max                2021-12-26 00:00:00\n",
       "Name: 확진일, dtype: object"
      ]
     },
     "execution_count": 106,
     "metadata": {},
     "output_type": "execute_result"
    }
   ],
   "source": [
    "# pd.to_datetime 을 통한 데이터 타입 변경하기\n",
    "df[\"확진일\"] = pd.to_datetime(df[\"확진일\"])\n",
    "df[\"확진일\"].describe(datetime_is_numeric=True)"
   ]
  },
  {
   "cell_type": "code",
   "execution_count": 108,
   "metadata": {},
   "outputs": [
    {
     "data": {
      "text/plain": [
       "연번\n",
       "1   2020-01-24\n",
       "2   2020-01-30\n",
       "3   2020-01-30\n",
       "4   2020-01-30\n",
       "5   2020-01-31\n",
       "Name: 확진일, dtype: datetime64[ns]"
      ]
     },
     "execution_count": 108,
     "metadata": {},
     "output_type": "execute_result"
    }
   ],
   "source": [
    "# df[\"확진일\"]을 head() 로 일부만 가져와서 타입이  datetime64 형태로 변경되었는지 확인하기\n",
    "df[\"확진일\"].head()"
   ]
  },
  {
   "cell_type": "markdown",
   "metadata": {},
   "source": [
    "## 파생변수 만들기\n",
    "### 연, 월, 일, 요일 만들기"
   ]
  },
  {
   "cell_type": "code",
   "execution_count": 105,
   "metadata": {},
   "outputs": [
    {
     "data": {
      "text/html": [
       "<div>\n",
       "<style scoped>\n",
       "    .dataframe tbody tr th:only-of-type {\n",
       "        vertical-align: middle;\n",
       "    }\n",
       "\n",
       "    .dataframe tbody tr th {\n",
       "        vertical-align: top;\n",
       "    }\n",
       "\n",
       "    .dataframe thead th {\n",
       "        text-align: right;\n",
       "    }\n",
       "</style>\n",
       "<table border=\"1\" class=\"dataframe\">\n",
       "  <thead>\n",
       "    <tr style=\"text-align: right;\">\n",
       "      <th></th>\n",
       "      <th>환자</th>\n",
       "      <th>확진일</th>\n",
       "      <th>거주지</th>\n",
       "      <th>여행력</th>\n",
       "      <th>접촉력</th>\n",
       "      <th>퇴원현황</th>\n",
       "      <th>연도</th>\n",
       "    </tr>\n",
       "    <tr>\n",
       "      <th>연번</th>\n",
       "      <th></th>\n",
       "      <th></th>\n",
       "      <th></th>\n",
       "      <th></th>\n",
       "      <th></th>\n",
       "      <th></th>\n",
       "      <th></th>\n",
       "    </tr>\n",
       "  </thead>\n",
       "  <tbody>\n",
       "    <tr>\n",
       "      <th>1</th>\n",
       "      <td>2</td>\n",
       "      <td>2020-01-24</td>\n",
       "      <td>강서구</td>\n",
       "      <td>중국</td>\n",
       "      <td>해외유입</td>\n",
       "      <td>퇴원</td>\n",
       "      <td>2020</td>\n",
       "    </tr>\n",
       "    <tr>\n",
       "      <th>2</th>\n",
       "      <td>5</td>\n",
       "      <td>2020-01-30</td>\n",
       "      <td>중랑구</td>\n",
       "      <td>중국</td>\n",
       "      <td>해외유입</td>\n",
       "      <td>퇴원</td>\n",
       "      <td>2020</td>\n",
       "    </tr>\n",
       "    <tr>\n",
       "      <th>3</th>\n",
       "      <td>6</td>\n",
       "      <td>2020-01-30</td>\n",
       "      <td>종로구</td>\n",
       "      <td>-</td>\n",
       "      <td>종로구 집단발병</td>\n",
       "      <td>퇴원</td>\n",
       "      <td>2020</td>\n",
       "    </tr>\n",
       "    <tr>\n",
       "      <th>4</th>\n",
       "      <td>7</td>\n",
       "      <td>2020-01-30</td>\n",
       "      <td>마포구</td>\n",
       "      <td>중국</td>\n",
       "      <td>해외유입</td>\n",
       "      <td>퇴원</td>\n",
       "      <td>2020</td>\n",
       "    </tr>\n",
       "    <tr>\n",
       "      <th>5</th>\n",
       "      <td>9</td>\n",
       "      <td>2020-01-31</td>\n",
       "      <td>성북구</td>\n",
       "      <td>-</td>\n",
       "      <td>기타 확진자 접촉</td>\n",
       "      <td>퇴원</td>\n",
       "      <td>2020</td>\n",
       "    </tr>\n",
       "  </tbody>\n",
       "</table>\n",
       "</div>"
      ],
      "text/plain": [
       "    환자        확진일  거주지 여행력        접촉력 퇴원현황    연도\n",
       "연번                                              \n",
       "1    2 2020-01-24  강서구  중국       해외유입   퇴원  2020\n",
       "2    5 2020-01-30  중랑구  중국       해외유입   퇴원  2020\n",
       "3    6 2020-01-30  종로구   -   종로구 집단발병   퇴원  2020\n",
       "4    7 2020-01-30  마포구  중국       해외유입   퇴원  2020\n",
       "5    9 2020-01-31  성북구   -  기타 확진자 접촉   퇴원  2020"
      ]
     },
     "execution_count": 105,
     "metadata": {},
     "output_type": "execute_result"
    }
   ],
   "source": [
    "# 연도 파생변수 만들기\n",
    "# df[\"연도\"]\n",
    "df[\"연도\"] = df[\"확진일\"].dt.year  # dt.year -> 연도만 추출! dt.month -> 월만 추출!\n",
    "df.head()"
   ]
  },
  {
   "cell_type": "code",
   "execution_count": 111,
   "metadata": {},
   "outputs": [
    {
     "data": {
      "text/html": [
       "<div>\n",
       "<style scoped>\n",
       "    .dataframe tbody tr th:only-of-type {\n",
       "        vertical-align: middle;\n",
       "    }\n",
       "\n",
       "    .dataframe tbody tr th {\n",
       "        vertical-align: top;\n",
       "    }\n",
       "\n",
       "    .dataframe thead th {\n",
       "        text-align: right;\n",
       "    }\n",
       "</style>\n",
       "<table border=\"1\" class=\"dataframe\">\n",
       "  <thead>\n",
       "    <tr style=\"text-align: right;\">\n",
       "      <th></th>\n",
       "      <th>환자</th>\n",
       "      <th>확진일</th>\n",
       "      <th>거주지</th>\n",
       "      <th>여행력</th>\n",
       "      <th>접촉력</th>\n",
       "      <th>퇴원현황</th>\n",
       "      <th>연도</th>\n",
       "      <th>월</th>\n",
       "      <th>일</th>\n",
       "      <th>요일</th>\n",
       "    </tr>\n",
       "    <tr>\n",
       "      <th>연번</th>\n",
       "      <th></th>\n",
       "      <th></th>\n",
       "      <th></th>\n",
       "      <th></th>\n",
       "      <th></th>\n",
       "      <th></th>\n",
       "      <th></th>\n",
       "      <th></th>\n",
       "      <th></th>\n",
       "      <th></th>\n",
       "    </tr>\n",
       "  </thead>\n",
       "  <tbody>\n",
       "    <tr>\n",
       "      <th>1</th>\n",
       "      <td>2</td>\n",
       "      <td>2020-01-24</td>\n",
       "      <td>강서구</td>\n",
       "      <td>중국</td>\n",
       "      <td>해외유입</td>\n",
       "      <td>퇴원</td>\n",
       "      <td>2020</td>\n",
       "      <td>1</td>\n",
       "      <td>24</td>\n",
       "      <td>4</td>\n",
       "    </tr>\n",
       "    <tr>\n",
       "      <th>2</th>\n",
       "      <td>5</td>\n",
       "      <td>2020-01-30</td>\n",
       "      <td>중랑구</td>\n",
       "      <td>중국</td>\n",
       "      <td>해외유입</td>\n",
       "      <td>퇴원</td>\n",
       "      <td>2020</td>\n",
       "      <td>1</td>\n",
       "      <td>30</td>\n",
       "      <td>3</td>\n",
       "    </tr>\n",
       "    <tr>\n",
       "      <th>3</th>\n",
       "      <td>6</td>\n",
       "      <td>2020-01-30</td>\n",
       "      <td>종로구</td>\n",
       "      <td>-</td>\n",
       "      <td>종로구 집단발병</td>\n",
       "      <td>퇴원</td>\n",
       "      <td>2020</td>\n",
       "      <td>1</td>\n",
       "      <td>30</td>\n",
       "      <td>3</td>\n",
       "    </tr>\n",
       "    <tr>\n",
       "      <th>4</th>\n",
       "      <td>7</td>\n",
       "      <td>2020-01-30</td>\n",
       "      <td>마포구</td>\n",
       "      <td>중국</td>\n",
       "      <td>해외유입</td>\n",
       "      <td>퇴원</td>\n",
       "      <td>2020</td>\n",
       "      <td>1</td>\n",
       "      <td>30</td>\n",
       "      <td>3</td>\n",
       "    </tr>\n",
       "    <tr>\n",
       "      <th>5</th>\n",
       "      <td>9</td>\n",
       "      <td>2020-01-31</td>\n",
       "      <td>성북구</td>\n",
       "      <td>-</td>\n",
       "      <td>기타 확진자 접촉</td>\n",
       "      <td>퇴원</td>\n",
       "      <td>2020</td>\n",
       "      <td>1</td>\n",
       "      <td>31</td>\n",
       "      <td>4</td>\n",
       "    </tr>\n",
       "  </tbody>\n",
       "</table>\n",
       "</div>"
      ],
      "text/plain": [
       "    환자        확진일  거주지 여행력        접촉력 퇴원현황    연도  월   일  요일\n",
       "연번                                                         \n",
       "1    2 2020-01-24  강서구  중국       해외유입   퇴원  2020  1  24   4\n",
       "2    5 2020-01-30  중랑구  중국       해외유입   퇴원  2020  1  30   3\n",
       "3    6 2020-01-30  종로구   -   종로구 집단발병   퇴원  2020  1  30   3\n",
       "4    7 2020-01-30  마포구  중국       해외유입   퇴원  2020  1  30   3\n",
       "5    9 2020-01-31  성북구   -  기타 확진자 접촉   퇴원  2020  1  31   4"
      ]
     },
     "execution_count": 111,
     "metadata": {},
     "output_type": "execute_result"
    }
   ],
   "source": [
    "# 월(month), 일(day), 요일(dayofweek) 만들기\n",
    "df[\"월\"] = df[\"확진일\"].dt.month\n",
    "df[\"일\"] = df[\"확진일\"].dt.day\n",
    "df[\"요일\"] = df[\"확진일\"].dt.dayofweek\n",
    "df.head()"
   ]
  },
  {
   "cell_type": "code",
   "execution_count": 112,
   "metadata": {},
   "outputs": [
    {
     "data": {
      "text/html": [
       "<div>\n",
       "<style scoped>\n",
       "    .dataframe tbody tr th:only-of-type {\n",
       "        vertical-align: middle;\n",
       "    }\n",
       "\n",
       "    .dataframe tbody tr th {\n",
       "        vertical-align: top;\n",
       "    }\n",
       "\n",
       "    .dataframe thead th {\n",
       "        text-align: right;\n",
       "    }\n",
       "</style>\n",
       "<table border=\"1\" class=\"dataframe\">\n",
       "  <thead>\n",
       "    <tr style=\"text-align: right;\">\n",
       "      <th></th>\n",
       "      <th>환자</th>\n",
       "      <th>확진일</th>\n",
       "      <th>거주지</th>\n",
       "      <th>여행력</th>\n",
       "      <th>접촉력</th>\n",
       "      <th>퇴원현황</th>\n",
       "      <th>연도</th>\n",
       "      <th>월</th>\n",
       "      <th>일</th>\n",
       "      <th>요일</th>\n",
       "    </tr>\n",
       "    <tr>\n",
       "      <th>연번</th>\n",
       "      <th></th>\n",
       "      <th></th>\n",
       "      <th></th>\n",
       "      <th></th>\n",
       "      <th></th>\n",
       "      <th></th>\n",
       "      <th></th>\n",
       "      <th></th>\n",
       "      <th></th>\n",
       "      <th></th>\n",
       "    </tr>\n",
       "  </thead>\n",
       "  <tbody>\n",
       "    <tr>\n",
       "      <th>1</th>\n",
       "      <td>2</td>\n",
       "      <td>2020-01-24</td>\n",
       "      <td>강서구</td>\n",
       "      <td>중국</td>\n",
       "      <td>해외유입</td>\n",
       "      <td>퇴원</td>\n",
       "      <td>2020</td>\n",
       "      <td>1</td>\n",
       "      <td>24</td>\n",
       "      <td>4</td>\n",
       "    </tr>\n",
       "    <tr>\n",
       "      <th>2</th>\n",
       "      <td>5</td>\n",
       "      <td>2020-01-30</td>\n",
       "      <td>중랑구</td>\n",
       "      <td>중국</td>\n",
       "      <td>해외유입</td>\n",
       "      <td>퇴원</td>\n",
       "      <td>2020</td>\n",
       "      <td>1</td>\n",
       "      <td>30</td>\n",
       "      <td>3</td>\n",
       "    </tr>\n",
       "    <tr>\n",
       "      <th>3</th>\n",
       "      <td>6</td>\n",
       "      <td>2020-01-30</td>\n",
       "      <td>종로구</td>\n",
       "      <td>-</td>\n",
       "      <td>종로구 집단발병</td>\n",
       "      <td>퇴원</td>\n",
       "      <td>2020</td>\n",
       "      <td>1</td>\n",
       "      <td>30</td>\n",
       "      <td>3</td>\n",
       "    </tr>\n",
       "    <tr>\n",
       "      <th>4</th>\n",
       "      <td>7</td>\n",
       "      <td>2020-01-30</td>\n",
       "      <td>마포구</td>\n",
       "      <td>중국</td>\n",
       "      <td>해외유입</td>\n",
       "      <td>퇴원</td>\n",
       "      <td>2020</td>\n",
       "      <td>1</td>\n",
       "      <td>30</td>\n",
       "      <td>3</td>\n",
       "    </tr>\n",
       "    <tr>\n",
       "      <th>5</th>\n",
       "      <td>9</td>\n",
       "      <td>2020-01-31</td>\n",
       "      <td>성북구</td>\n",
       "      <td>-</td>\n",
       "      <td>기타 확진자 접촉</td>\n",
       "      <td>퇴원</td>\n",
       "      <td>2020</td>\n",
       "      <td>1</td>\n",
       "      <td>31</td>\n",
       "      <td>4</td>\n",
       "    </tr>\n",
       "  </tbody>\n",
       "</table>\n",
       "</div>"
      ],
      "text/plain": [
       "    환자        확진일  거주지 여행력        접촉력 퇴원현황    연도  월   일  요일\n",
       "연번                                                         \n",
       "1    2 2020-01-24  강서구  중국       해외유입   퇴원  2020  1  24   4\n",
       "2    5 2020-01-30  중랑구  중국       해외유입   퇴원  2020  1  30   3\n",
       "3    6 2020-01-30  종로구   -   종로구 집단발병   퇴원  2020  1  30   3\n",
       "4    7 2020-01-30  마포구  중국       해외유입   퇴원  2020  1  30   3\n",
       "5    9 2020-01-31  성북구   -  기타 확진자 접촉   퇴원  2020  1  31   4"
      ]
     },
     "execution_count": 112,
     "metadata": {},
     "output_type": "execute_result"
    }
   ],
   "source": [
    "# 확진일, 연도, 월, 일, 요일 컬럼만 가져오기\n",
    "# head 로 일부만 가져와 파생변수가 잘 생성되었는지 확인하기\n",
    "df.head()"
   ]
  },
  {
   "cell_type": "markdown",
   "metadata": {},
   "source": [
    "### 연도-월 만들기"
   ]
  },
  {
   "cell_type": "code",
   "execution_count": 114,
   "metadata": {},
   "outputs": [
    {
     "data": {
      "text/plain": [
       "연번\n",
       "1          2020-1\n",
       "2          2020-1\n",
       "3          2020-1\n",
       "4          2020-1\n",
       "5          2020-1\n",
       "           ...   \n",
       "218642    2021-12\n",
       "218643    2021-12\n",
       "218644    2021-12\n",
       "218645    2021-12\n",
       "218646    2021-12\n",
       "Length: 218646, dtype: object"
      ]
     },
     "execution_count": 114,
     "metadata": {},
     "output_type": "execute_result"
    }
   ],
   "source": [
    "# 연도-월 파생변수 만들기 -> 그룹화하고, 변화 추이를 보기 위해 만든 것!\n",
    "# astype(str) 을 통해 수치 데이터를 문자 데이터로 변환하고 문자열 연결하기\n",
    "# df[\"연도월\"]\n",
    "df[\"연도\"].astype(str) + \"-\" + df[\"월\"].astype(str) "
   ]
  },
  {
   "cell_type": "code",
   "execution_count": 116,
   "metadata": {},
   "outputs": [
    {
     "data": {
      "text/plain": [
       "연번\n",
       "1         2020-01\n",
       "2         2020-01\n",
       "3         2020-01\n",
       "4         2020-01\n",
       "5         2020-01\n",
       "           ...   \n",
       "218642    2021-12\n",
       "218643    2021-12\n",
       "218644    2021-12\n",
       "218645    2021-12\n",
       "218646    2021-12\n",
       "Name: 확진일, Length: 218646, dtype: object"
      ]
     },
     "execution_count": 116,
     "metadata": {},
     "output_type": "execute_result"
    }
   ],
   "source": [
    "# 문자열 슬라이싱으로도 만들 수 있습니다.\n",
    "# df[\"연도월\"]\n",
    "df[\"확진일\"].astype(str).str[:7]"
   ]
  },
  {
   "cell_type": "code",
   "execution_count": 117,
   "metadata": {},
   "outputs": [
    {
     "data": {
      "text/html": [
       "<div>\n",
       "<style scoped>\n",
       "    .dataframe tbody tr th:only-of-type {\n",
       "        vertical-align: middle;\n",
       "    }\n",
       "\n",
       "    .dataframe tbody tr th {\n",
       "        vertical-align: top;\n",
       "    }\n",
       "\n",
       "    .dataframe thead th {\n",
       "        text-align: right;\n",
       "    }\n",
       "</style>\n",
       "<table border=\"1\" class=\"dataframe\">\n",
       "  <thead>\n",
       "    <tr style=\"text-align: right;\">\n",
       "      <th></th>\n",
       "      <th>퇴원현황</th>\n",
       "      <th>연도</th>\n",
       "      <th>월</th>\n",
       "      <th>일</th>\n",
       "      <th>요일</th>\n",
       "    </tr>\n",
       "    <tr>\n",
       "      <th>연번</th>\n",
       "      <th></th>\n",
       "      <th></th>\n",
       "      <th></th>\n",
       "      <th></th>\n",
       "      <th></th>\n",
       "    </tr>\n",
       "  </thead>\n",
       "  <tbody>\n",
       "    <tr>\n",
       "      <th>1</th>\n",
       "      <td>퇴원</td>\n",
       "      <td>2020</td>\n",
       "      <td>1</td>\n",
       "      <td>24</td>\n",
       "      <td>4</td>\n",
       "    </tr>\n",
       "    <tr>\n",
       "      <th>2</th>\n",
       "      <td>퇴원</td>\n",
       "      <td>2020</td>\n",
       "      <td>1</td>\n",
       "      <td>30</td>\n",
       "      <td>3</td>\n",
       "    </tr>\n",
       "    <tr>\n",
       "      <th>3</th>\n",
       "      <td>퇴원</td>\n",
       "      <td>2020</td>\n",
       "      <td>1</td>\n",
       "      <td>30</td>\n",
       "      <td>3</td>\n",
       "    </tr>\n",
       "    <tr>\n",
       "      <th>4</th>\n",
       "      <td>퇴원</td>\n",
       "      <td>2020</td>\n",
       "      <td>1</td>\n",
       "      <td>30</td>\n",
       "      <td>3</td>\n",
       "    </tr>\n",
       "    <tr>\n",
       "      <th>5</th>\n",
       "      <td>퇴원</td>\n",
       "      <td>2020</td>\n",
       "      <td>1</td>\n",
       "      <td>31</td>\n",
       "      <td>4</td>\n",
       "    </tr>\n",
       "    <tr>\n",
       "      <th>...</th>\n",
       "      <td>...</td>\n",
       "      <td>...</td>\n",
       "      <td>...</td>\n",
       "      <td>...</td>\n",
       "      <td>...</td>\n",
       "    </tr>\n",
       "    <tr>\n",
       "      <th>218642</th>\n",
       "      <td>NaN</td>\n",
       "      <td>2021</td>\n",
       "      <td>12</td>\n",
       "      <td>26</td>\n",
       "      <td>6</td>\n",
       "    </tr>\n",
       "    <tr>\n",
       "      <th>218643</th>\n",
       "      <td>NaN</td>\n",
       "      <td>2021</td>\n",
       "      <td>12</td>\n",
       "      <td>26</td>\n",
       "      <td>6</td>\n",
       "    </tr>\n",
       "    <tr>\n",
       "      <th>218644</th>\n",
       "      <td>NaN</td>\n",
       "      <td>2021</td>\n",
       "      <td>12</td>\n",
       "      <td>26</td>\n",
       "      <td>6</td>\n",
       "    </tr>\n",
       "    <tr>\n",
       "      <th>218645</th>\n",
       "      <td>NaN</td>\n",
       "      <td>2021</td>\n",
       "      <td>12</td>\n",
       "      <td>26</td>\n",
       "      <td>6</td>\n",
       "    </tr>\n",
       "    <tr>\n",
       "      <th>218646</th>\n",
       "      <td>NaN</td>\n",
       "      <td>2021</td>\n",
       "      <td>12</td>\n",
       "      <td>26</td>\n",
       "      <td>6</td>\n",
       "    </tr>\n",
       "  </tbody>\n",
       "</table>\n",
       "<p>218646 rows × 5 columns</p>\n",
       "</div>"
      ],
      "text/plain": [
       "       퇴원현황    연도   월   일  요일\n",
       "연번                           \n",
       "1        퇴원  2020   1  24   4\n",
       "2        퇴원  2020   1  30   3\n",
       "3        퇴원  2020   1  30   3\n",
       "4        퇴원  2020   1  30   3\n",
       "5        퇴원  2020   1  31   4\n",
       "...     ...   ...  ..  ..  ..\n",
       "218642  NaN  2021  12  26   6\n",
       "218643  NaN  2021  12  26   6\n",
       "218644  NaN  2021  12  26   6\n",
       "218645  NaN  2021  12  26   6\n",
       "218646  NaN  2021  12  26   6\n",
       "\n",
       "[218646 rows x 5 columns]"
      ]
     },
     "execution_count": 117,
     "metadata": {},
     "output_type": "execute_result"
    }
   ],
   "source": [
    "# df[\"연도월\"]이 잘 생성되었는지 확인하기\n",
    "df.iloc[:, -5:]"
   ]
  },
  {
   "cell_type": "markdown",
   "metadata": {},
   "source": [
    "### 요일 한글로 만들기\n",
    "* 함수와 Series의 map 활용"
   ]
  },
  {
   "cell_type": "code",
   "execution_count": 118,
   "metadata": {},
   "outputs": [
    {
     "data": {
      "text/plain": [
       "'화'"
      ]
     },
     "execution_count": 118,
     "metadata": {},
     "output_type": "execute_result"
    }
   ],
   "source": [
    "dayofweek = \"월화수목금토일\" # 0번이 월요일, 7번이 일요일임!\n",
    "dayofweek[1]"
   ]
  },
  {
   "cell_type": "code",
   "execution_count": 119,
   "metadata": {},
   "outputs": [
    {
     "data": {
      "text/plain": [
       "연번\n",
       "1        2020-01-24\n",
       "2        2020-01-30\n",
       "3        2020-01-30\n",
       "4        2020-01-30\n",
       "5        2020-01-31\n",
       "            ...    \n",
       "218642   2021-12-26\n",
       "218643   2021-12-26\n",
       "218644   2021-12-26\n",
       "218645   2021-12-26\n",
       "218646   2021-12-26\n",
       "Name: 확진일, Length: 218646, dtype: datetime64[ns]"
      ]
     },
     "execution_count": 119,
     "metadata": {},
     "output_type": "execute_result"
    }
   ],
   "source": [
    "df[\"확진일\"]"
   ]
  },
  {
   "cell_type": "code",
   "execution_count": 120,
   "metadata": {},
   "outputs": [],
   "source": [
    "#find_dayofweek 함수로 요일 숫자를 넘겨주면 요일명을 반환하는 함수\n",
    "\n",
    "def find_dayofweek(day_no):\n",
    "    dayofweek = \"월화수목금토일\"\n",
    "    return dayofweek[day_no]"
   ]
  },
  {
   "cell_type": "code",
   "execution_count": 123,
   "metadata": {},
   "outputs": [
    {
     "data": {
      "text/plain": [
       "'금'"
      ]
     },
     "execution_count": 123,
     "metadata": {},
     "output_type": "execute_result"
    }
   ],
   "source": [
    "# 함수가 잘 만들어졌는지 확인하기\n",
    "day_no = 4\n",
    "find_dayofweek(day_no)"
   ]
  },
  {
   "cell_type": "code",
   "execution_count": 125,
   "metadata": {},
   "outputs": [],
   "source": [
    "# map을 사용해서 요일 컬럼을 요일명으로 변환하고 \"요일명\"이라는 새로운 컬럼에 저장하기\n",
    "# df[\"요일명\"]\n",
    "df[\"요일명\"] = df[\"요일\"].map(find_dayofweek) # map = mapping"
   ]
  },
  {
   "cell_type": "code",
   "execution_count": 126,
   "metadata": {},
   "outputs": [
    {
     "data": {
      "text/html": [
       "<div>\n",
       "<style scoped>\n",
       "    .dataframe tbody tr th:only-of-type {\n",
       "        vertical-align: middle;\n",
       "    }\n",
       "\n",
       "    .dataframe tbody tr th {\n",
       "        vertical-align: top;\n",
       "    }\n",
       "\n",
       "    .dataframe thead th {\n",
       "        text-align: right;\n",
       "    }\n",
       "</style>\n",
       "<table border=\"1\" class=\"dataframe\">\n",
       "  <thead>\n",
       "    <tr style=\"text-align: right;\">\n",
       "      <th></th>\n",
       "      <th>요일</th>\n",
       "      <th>요일명</th>\n",
       "    </tr>\n",
       "    <tr>\n",
       "      <th>연번</th>\n",
       "      <th></th>\n",
       "      <th></th>\n",
       "    </tr>\n",
       "  </thead>\n",
       "  <tbody>\n",
       "    <tr>\n",
       "      <th>167097</th>\n",
       "      <td>0</td>\n",
       "      <td>월</td>\n",
       "    </tr>\n",
       "    <tr>\n",
       "      <th>111853</th>\n",
       "      <td>6</td>\n",
       "      <td>일</td>\n",
       "    </tr>\n",
       "    <tr>\n",
       "      <th>37578</th>\n",
       "      <td>2</td>\n",
       "      <td>수</td>\n",
       "    </tr>\n",
       "    <tr>\n",
       "      <th>28076</th>\n",
       "      <td>4</td>\n",
       "      <td>금</td>\n",
       "    </tr>\n",
       "    <tr>\n",
       "      <th>39568</th>\n",
       "      <td>5</td>\n",
       "      <td>토</td>\n",
       "    </tr>\n",
       "  </tbody>\n",
       "</table>\n",
       "</div>"
      ],
      "text/plain": [
       "        요일 요일명\n",
       "연번            \n",
       "167097   0   월\n",
       "111853   6   일\n",
       "37578    2   수\n",
       "28076    4   금\n",
       "39568    5   토"
      ]
     },
     "execution_count": 126,
     "metadata": {},
     "output_type": "execute_result"
    }
   ],
   "source": [
    "# [\"요일\", \"요일명\"]을 sample(5) 로 임의의 5개만 불러와 잘 변환이 되었는지 확인하기\n",
    "df[[\"요일\", \"요일명\"]].sample(5)"
   ]
  },
  {
   "cell_type": "markdown",
   "metadata": {},
   "source": [
    "## 전체 수치 변수 히스토그램 그리기"
   ]
  },
  {
   "cell_type": "code",
   "execution_count": 132,
   "metadata": {},
   "outputs": [
    {
     "data": {
      "image/png": "[encoded data removed]",
      "text/plain": [
       "<Figure size 864x432 with 6 Axes>"
      ]
     },
     "metadata": {
      "image/png": {
       "height": 371,
       "width": 728
      }
     },
     "output_type": "display_data"
    }
   ],
   "source": [
    "# df.hist로 히스토그램 그리기\n",
    "df.hist(figsize=(12,6), bins=100) #figsize : 그래프 크기, bins : 막대의 개수\n",
    "plt.show()\n",
    "\n",
    "#연, 월은 범주형 데이터 (연속된 수치형 데이터가 아니다 -> 지금 막대기 2개로 설정해도 연은 2개, 월은 12개만 나옴!) \n"
   ]
  },
  {
   "cell_type": "markdown",
   "metadata": {},
   "source": [
    "## value_counts로 하나의 변수에 대한 빈도수 구하기\n",
    "### 연도"
   ]
  },
  {
   "cell_type": "code",
   "execution_count": 135,
   "metadata": {},
   "outputs": [
    {
     "data": {
      "text/plain": [
       "2021    199253\n",
       "2020     19393\n",
       "Name: 연도, dtype: int64"
      ]
     },
     "execution_count": 135,
     "metadata": {},
     "output_type": "execute_result"
    }
   ],
   "source": [
    "# \"연도\" 컬럼을 통해 빈도수 구하기\n",
    "df[\"연도\"].value_counts() # 뒤에 .sort_index().pct_change() 붙이면, 전년도 성장률 나옴!"
   ]
  },
  {
   "cell_type": "code",
   "execution_count": 137,
   "metadata": {},
   "outputs": [
    {
     "data": {
      "text/plain": [
       "2020        NaN\n",
       "2021    9.27448\n",
       "Name: 연도, dtype: float64"
      ]
     },
     "execution_count": 137,
     "metadata": {},
     "output_type": "execute_result"
    }
   ],
   "source": [
    "df[\"연도\"].value_counts().sort_index().pct_change() #pct_change = 퍼센트 체인지!"
   ]
  },
  {
   "cell_type": "code",
   "execution_count": 138,
   "metadata": {},
   "outputs": [
    {
     "data": {
      "text/plain": [
       "2020         NaN\n",
       "2021    179860.0\n",
       "Name: 연도, dtype: float64"
      ]
     },
     "execution_count": 138,
     "metadata": {},
     "output_type": "execute_result"
    }
   ],
   "source": [
    "df[\"연도\"].value_counts().sort_index().diff() #전해 대비 증감량"
   ]
  },
  {
   "cell_type": "code",
   "execution_count": 144,
   "metadata": {
    "scrolled": true
   },
   "outputs": [
    {
     "data": {
      "text/plain": [
       "2021    91.130412\n",
       "2020     8.869588\n",
       "Name: 연도, dtype: float64"
      ]
     },
     "execution_count": 144,
     "metadata": {},
     "output_type": "execute_result"
    }
   ],
   "source": [
    "# \"연도\" 컬럼의 비율 구하기\n",
    "df[\"연도\"].value_counts(normalize=True) * 100"
   ]
  },
  {
   "cell_type": "code",
   "execution_count": 146,
   "metadata": {},
   "outputs": [],
   "source": [
    "df[\"연도월\"] = df[\"확진일\"].astype(str).str[:7]"
   ]
  },
  {
   "cell_type": "markdown",
   "metadata": {},
   "source": [
    "### 연도월"
   ]
  },
  {
   "cell_type": "code",
   "execution_count": 147,
   "metadata": {
    "scrolled": true
   },
   "outputs": [
    {
     "data": {
      "text/plain": [
       "2020-01      7\n",
       "2020-02     80\n",
       "2020-03    391\n",
       "2020-04    156\n",
       "2020-05    229\n",
       "Name: 연도월, dtype: int64"
      ]
     },
     "execution_count": 147,
     "metadata": {},
     "output_type": "execute_result"
    }
   ],
   "source": [
    "# 연도월에 대한 빈도수 구하기\n",
    "# 빈도수를 구하고 sort_index 로 정렬합니다.\n",
    "# year_month\n",
    "year_month = df[\"연도월\"].value_counts().sort_index()\n",
    "year_month[:5]"
   ]
  },
  {
   "cell_type": "code",
   "execution_count": 148,
   "metadata": {},
   "outputs": [
    {
     "data": {
      "text/plain": [
       "<AxesSubplot:>"
      ]
     },
     "execution_count": 148,
     "metadata": {},
     "output_type": "execute_result"
    },
    {
     "data": {
      "image/png": "[encoded data removed]",
      "text/plain": [
       "<Figure size 864x72 with 1 Axes>"
      ]
     },
     "metadata": {
      "image/png": {
       "height": 82,
       "width": 715
      }
     },
     "output_type": "display_data"
    }
   ],
   "source": [
    "# 연도월을 시각화 합니다.\n",
    "year_month.plot(figsize=(12,1))"
   ]
  },
  {
   "cell_type": "code",
   "execution_count": 150,
   "metadata": {},
   "outputs": [
    {
     "data": {
      "text/plain": [
       "<AxesSubplot:>"
      ]
     },
     "execution_count": 150,
     "metadata": {},
     "output_type": "execute_result"
    },
    {
     "data": {
      "image/png": "[encoded data removed]",
      "text/plain": [
       "<Figure size 864x72 with 1 Axes>"
      ]
     },
     "metadata": {
      "image/png": {
       "height": 109,
       "width": 714
      }
     },
     "output_type": "display_data"
    }
   ],
   "source": [
    "# 연도월을 막대 그래프로 시각화 합니다.\n",
    "year_month.plot.bar(figsize=(12,1))"
   ]
  },
  {
   "cell_type": "markdown",
   "metadata": {},
   "source": [
    "### 요일별 빈도수 구하기"
   ]
  },
  {
   "cell_type": "code",
   "execution_count": 157,
   "metadata": {},
   "outputs": [
    {
     "data": {
      "text/plain": [
       "0    24516\n",
       "1    35471\n",
       "2    34548\n",
       "3    34030\n",
       "4    33655\n",
       "5    30692\n",
       "6    25734\n",
       "Name: 요일, dtype: int64"
      ]
     },
     "execution_count": 157,
     "metadata": {},
     "output_type": "execute_result"
    }
   ],
   "source": [
    "# 빈도수 구하고 인덱스 번호로 정렬합니다.\n",
    "# weekday_count 변수에 담아 재사용합니다.\n",
    "# weekday_count\n",
    "weekday_count = df[\"요일\"].value_counts().sort_index()\n",
    "weekday_count"
   ]
  },
  {
   "cell_type": "code",
   "execution_count": 158,
   "metadata": {},
   "outputs": [
    {
     "name": "stdout",
     "output_type": "stream",
     "text": [
      "월\n",
      "화\n",
      "수\n",
      "목\n",
      "금\n",
      "토\n",
      "일\n"
     ]
    }
   ],
   "source": [
    "# 리스트컴프리헨션 사용해서 리스트 만들기\n",
    "# \"월화수목금토일\" 리스트로 만들어 weekday_list 변수로 재사용하기\n",
    "# weekday_list\n",
    "for w in \"월화수목금토일\" :\n",
    "    print(w)"
   ]
  },
  {
   "cell_type": "code",
   "execution_count": 159,
   "metadata": {},
   "outputs": [
    {
     "data": {
      "text/plain": [
       "['월', '화', '수', '목', '금', '토', '일']"
      ]
     },
     "execution_count": 159,
     "metadata": {},
     "output_type": "execute_result"
    }
   ],
   "source": [
    "# 인덱스 값을 요일명으로 변경하고 시각화 합니다.\n",
    "# weekday_count.index\n",
    "[w for w in \"월화수목금토일\"] \n",
    "#{} 으로 하면 딕셔너리 리스트, [] 쓰면 리스트 컨프리헨션\n",
    "# 한번만 쓴 사람은 없다! 아주 편리하다!"
   ]
  },
  {
   "cell_type": "markdown",
   "metadata": {},
   "source": [
    "### 확진일 빈도수 구하기"
   ]
  },
  {
   "cell_type": "code",
   "execution_count": 160,
   "metadata": {},
   "outputs": [
    {
     "data": {
      "text/plain": [
       "2020-01-24    1\n",
       "2020-01-30    3\n",
       "Name: 확진일, dtype: int64"
      ]
     },
     "execution_count": 160,
     "metadata": {},
     "output_type": "execute_result"
    }
   ],
   "source": [
    "# df[\"확진일\"] 빈도수 구하고 인덱스 값인 날짜로 정렬하기\n",
    "# day_count\n",
    "\n",
    "day_count = df[\"확진일\"].value_counts().sort_index()\n",
    "day_count[:2]"
   ]
  },
  {
   "cell_type": "code",
   "execution_count": 161,
   "metadata": {},
   "outputs": [
    {
     "data": {
      "text/plain": [
       "<AxesSubplot:>"
      ]
     },
     "execution_count": 161,
     "metadata": {},
     "output_type": "execute_result"
    },
    {
     "data": {
      "image/png": "[encoded data removed]",
      "text/plain": [
       "<Figure size 864x144 with 1 Axes>"
      ]
     },
     "metadata": {
      "image/png": {
       "height": 143,
       "width": 710
      }
     },
     "output_type": "display_data"
    }
   ],
   "source": [
    "# 선 그래프로 시각화 하기\n",
    "\n",
    "day_count.plot(figsize=(12,2))"
   ]
  },
  {
   "cell_type": "markdown",
   "metadata": {},
   "source": [
    "## 전체 확진일 데이터 만들기\n",
    "### tail로 초기 데이터 보기"
   ]
  },
  {
   "cell_type": "code",
   "execution_count": 164,
   "metadata": {
    "scrolled": true
   },
   "outputs": [
    {
     "data": {
      "text/plain": [
       "<AxesSubplot:>"
      ]
     },
     "execution_count": 164,
     "metadata": {},
     "output_type": "execute_result"
    },
    {
     "data": {
      "image/png": "[encoded data removed]",
      "text/plain": [
       "<Figure size 864x144 with 1 Axes>"
      ]
     },
     "metadata": {
      "image/png": {
       "height": 212,
       "width": 693
      }
     },
     "output_type": "display_data"
    }
   ],
   "source": [
    "# head(10)로 10번째 확진 데이터를 봅니다.\n",
    "day_count.head(10).plot.bar(figsize=(12,2), rot=60)"
   ]
  },
  {
   "cell_type": "code",
   "execution_count": 165,
   "metadata": {
    "scrolled": true
   },
   "outputs": [
    {
     "name": "stderr",
     "output_type": "stream",
     "text": [
      "C:\\Users\\mayo9\\AppData\\Local\\Temp/ipykernel_9452/117358153.py:1: FutureWarning: Series.dt.weekofyear and Series.dt.week have been deprecated.  Please use Series.dt.isocalendar().week instead.\n",
      "  df[\"주\"] = df[\"확진일\"].dt.week\n"
     ]
    }
   ],
   "source": [
    "# 주단위로 보려면!!!\n",
    "df[\"주\"] = df[\"확진일\"].dt.week "
   ]
  },
  {
   "cell_type": "code",
   "execution_count": 166,
   "metadata": {
    "scrolled": true
   },
   "outputs": [
    {
     "data": {
      "text/plain": [
       "<AxesSubplot:>"
      ]
     },
     "execution_count": 166,
     "metadata": {},
     "output_type": "execute_result"
    },
    {
     "data": {
      "image/png": "[encoded data removed]",
      "text/plain": [
       "<Figure size 432x288 with 1 Axes>"
      ]
     },
     "metadata": {
      "image/png": {
       "height": 245,
       "width": 380
      }
     },
     "output_type": "display_data"
    }
   ],
   "source": [
    "df[\"주\"].value_counts().sort_index().plot()"
   ]
  },
  {
   "cell_type": "code",
   "execution_count": 167,
   "metadata": {},
   "outputs": [
    {
     "data": {
      "text/plain": [
       "<AxesSubplot:xlabel='주'>"
      ]
     },
     "execution_count": 167,
     "metadata": {},
     "output_type": "execute_result"
    },
    {
     "data": {
      "image/png": "[encoded data removed]",
      "text/plain": [
       "<Figure size 432x288 with 1 Axes>"
      ]
     },
     "metadata": {
      "image/png": {
       "height": 262,
       "width": 380
      }
     },
     "output_type": "display_data"
    }
   ],
   "source": [
    "pd.crosstab(df[\"연도\"], df[\"주\"]).T.plot() \n",
    "#T : 줄바꿈! , T.plot 이 seaborn 의 hue 와 같다!\n",
    "#강사님 피셜 : seaborn 보다 pandas 시각화가 더 쉽고 좋다!\n",
    "# 마지막에 갑자기 떨어진 이유는, 주차별로 지정했기 때문!"
   ]
  },
  {
   "cell_type": "markdown",
   "metadata": {},
   "source": [
    "### iloc를 통해 첫 확진일과 마지막 확진일자 찾기"
   ]
  },
  {
   "cell_type": "code",
   "execution_count": 185,
   "metadata": {},
   "outputs": [
    {
     "data": {
      "text/plain": [
       "Timestamp('2021-12-26 00:00:00')"
      ]
     },
     "execution_count": 185,
     "metadata": {},
     "output_type": "execute_result"
    }
   ],
   "source": [
    "last_day = df.iloc[-1][\"확진일\"]\n",
    "last_day"
   ]
  },
  {
   "cell_type": "code",
   "execution_count": 186,
   "metadata": {},
   "outputs": [
    {
     "data": {
      "text/plain": [
       "Timestamp('2020-01-24 00:00:00')"
      ]
     },
     "execution_count": 186,
     "metadata": {},
     "output_type": "execute_result"
    }
   ],
   "source": [
    "first_day = df.iloc[0][\"확진일\"]\n",
    "first_day"
   ]
  },
  {
   "cell_type": "markdown",
   "metadata": {},
   "source": [
    "### date_range로 전체 기간 데이터 만들기"
   ]
  },
  {
   "cell_type": "code",
   "execution_count": 187,
   "metadata": {},
   "outputs": [
    {
     "data": {
      "text/plain": [
       "DatetimeIndex(['2020-01-24', '2020-01-25', '2020-01-26', '2020-01-27',\n",
       "               '2020-01-28', '2020-01-29', '2020-01-30', '2020-01-31',\n",
       "               '2020-02-01', '2020-02-02',\n",
       "               ...\n",
       "               '2021-12-17', '2021-12-18', '2021-12-19', '2021-12-20',\n",
       "               '2021-12-21', '2021-12-22', '2021-12-23', '2021-12-24',\n",
       "               '2021-12-25', '2021-12-26'],\n",
       "              dtype='datetime64[ns]', length=703, freq='D')"
      ]
     },
     "execution_count": 187,
     "metadata": {},
     "output_type": "execute_result"
    }
   ],
   "source": [
    "# pd.date_range 로 전체 기간을 생성합니다.\n",
    "# all_day\n",
    "all_day = pd.date_range(first_day, last_day)\n",
    "all_day"
   ]
  },
  {
   "cell_type": "code",
   "execution_count": 188,
   "metadata": {},
   "outputs": [
    {
     "data": {
      "text/html": [
       "<div>\n",
       "<style scoped>\n",
       "    .dataframe tbody tr th:only-of-type {\n",
       "        vertical-align: middle;\n",
       "    }\n",
       "\n",
       "    .dataframe tbody tr th {\n",
       "        vertical-align: top;\n",
       "    }\n",
       "\n",
       "    .dataframe thead th {\n",
       "        text-align: right;\n",
       "    }\n",
       "</style>\n",
       "<table border=\"1\" class=\"dataframe\">\n",
       "  <thead>\n",
       "    <tr style=\"text-align: right;\">\n",
       "      <th></th>\n",
       "      <th>0</th>\n",
       "    </tr>\n",
       "  </thead>\n",
       "  <tbody>\n",
       "    <tr>\n",
       "      <th>2020-01-24</th>\n",
       "      <td>2020-01-24</td>\n",
       "    </tr>\n",
       "    <tr>\n",
       "      <th>2020-01-25</th>\n",
       "      <td>2020-01-25</td>\n",
       "    </tr>\n",
       "  </tbody>\n",
       "</table>\n",
       "</div>"
      ],
      "text/plain": [
       "                    0\n",
       "2020-01-24 2020-01-24\n",
       "2020-01-25 2020-01-25"
      ]
     },
     "execution_count": 188,
     "metadata": {},
     "output_type": "execute_result"
    }
   ],
   "source": [
    "# all_day 를 데이터프레임으로 변환합니다.\n",
    "df_all_day = all_day.to_frame()\n",
    "df_all_day[:2]"
   ]
  },
  {
   "cell_type": "code",
   "execution_count": 189,
   "metadata": {},
   "outputs": [
    {
     "data": {
      "text/html": [
       "<div>\n",
       "<style scoped>\n",
       "    .dataframe tbody tr th:only-of-type {\n",
       "        vertical-align: middle;\n",
       "    }\n",
       "\n",
       "    .dataframe tbody tr th {\n",
       "        vertical-align: top;\n",
       "    }\n",
       "\n",
       "    .dataframe thead th {\n",
       "        text-align: right;\n",
       "    }\n",
       "</style>\n",
       "<table border=\"1\" class=\"dataframe\">\n",
       "  <thead>\n",
       "    <tr style=\"text-align: right;\">\n",
       "      <th></th>\n",
       "      <th>0</th>\n",
       "      <th>확진수</th>\n",
       "    </tr>\n",
       "  </thead>\n",
       "  <tbody>\n",
       "    <tr>\n",
       "      <th>2020-01-24</th>\n",
       "      <td>2020-01-24</td>\n",
       "      <td>1.0</td>\n",
       "    </tr>\n",
       "    <tr>\n",
       "      <th>2020-01-25</th>\n",
       "      <td>2020-01-25</td>\n",
       "      <td>NaN</td>\n",
       "    </tr>\n",
       "    <tr>\n",
       "      <th>2020-01-26</th>\n",
       "      <td>2020-01-26</td>\n",
       "      <td>NaN</td>\n",
       "    </tr>\n",
       "    <tr>\n",
       "      <th>2020-01-27</th>\n",
       "      <td>2020-01-27</td>\n",
       "      <td>NaN</td>\n",
       "    </tr>\n",
       "    <tr>\n",
       "      <th>2020-01-28</th>\n",
       "      <td>2020-01-28</td>\n",
       "      <td>NaN</td>\n",
       "    </tr>\n",
       "    <tr>\n",
       "      <th>...</th>\n",
       "      <td>...</td>\n",
       "      <td>...</td>\n",
       "    </tr>\n",
       "    <tr>\n",
       "      <th>2021-12-22</th>\n",
       "      <td>2021-12-22</td>\n",
       "      <td>2719.0</td>\n",
       "    </tr>\n",
       "    <tr>\n",
       "      <th>2021-12-23</th>\n",
       "      <td>2021-12-23</td>\n",
       "      <td>2346.0</td>\n",
       "    </tr>\n",
       "    <tr>\n",
       "      <th>2021-12-24</th>\n",
       "      <td>2021-12-24</td>\n",
       "      <td>2123.0</td>\n",
       "    </tr>\n",
       "    <tr>\n",
       "      <th>2021-12-25</th>\n",
       "      <td>2021-12-25</td>\n",
       "      <td>1917.0</td>\n",
       "    </tr>\n",
       "    <tr>\n",
       "      <th>2021-12-26</th>\n",
       "      <td>2021-12-26</td>\n",
       "      <td>1496.0</td>\n",
       "    </tr>\n",
       "  </tbody>\n",
       "</table>\n",
       "<p>703 rows × 2 columns</p>\n",
       "</div>"
      ],
      "text/plain": [
       "                    0     확진수\n",
       "2020-01-24 2020-01-24     1.0\n",
       "2020-01-25 2020-01-25     NaN\n",
       "2020-01-26 2020-01-26     NaN\n",
       "2020-01-27 2020-01-27     NaN\n",
       "2020-01-28 2020-01-28     NaN\n",
       "...               ...     ...\n",
       "2021-12-22 2021-12-22  2719.0\n",
       "2021-12-23 2021-12-23  2346.0\n",
       "2021-12-24 2021-12-24  2123.0\n",
       "2021-12-25 2021-12-25  1917.0\n",
       "2021-12-26 2021-12-26  1496.0\n",
       "\n",
       "[703 rows x 2 columns]"
      ]
     },
     "execution_count": 189,
     "metadata": {},
     "output_type": "execute_result"
    }
   ],
   "source": [
    "# \"확진수\" 라는 컬럼을 생성해서 위에서 구한 day_count 를 추가합니다.\n",
    "# 확진자가 없는 날도 인덱스에 생성이 됩니다.\n",
    "df_all_day[\"확진수\"] = day_count\n",
    "df_all_day"
   ]
  },
  {
   "cell_type": "code",
   "execution_count": 191,
   "metadata": {},
   "outputs": [],
   "source": [
    "# 필요 없는 0 컬럼을 삭제합니다.\n",
    "# del df_all_day[0]\n",
    "del df_all_day[0]"
   ]
  },
  {
   "cell_type": "markdown",
   "metadata": {},
   "source": [
    "### 결측치 채우기"
   ]
  },
  {
   "cell_type": "code",
   "execution_count": 192,
   "metadata": {},
   "outputs": [],
   "source": [
    "# 비어있는 값은 확진자가 없었던 날이기 때문에 fillna로 0으로 채웁니다.\n",
    "df_all_day[\"확진수\"] = df_all_day[\"확진수\"].fillna(0).astype(int)"
   ]
  },
  {
   "cell_type": "code",
   "execution_count": 193,
   "metadata": {},
   "outputs": [
    {
     "data": {
      "text/plain": [
       "<AxesSubplot:>"
      ]
     },
     "execution_count": 193,
     "metadata": {},
     "output_type": "execute_result"
    },
    {
     "data": {
      "image/png": "[encoded data removed]",
      "text/plain": [
       "<Figure size 720x144 with 1 Axes>"
      ]
     },
     "metadata": {
      "image/png": {
       "height": 219,
       "width": 581
      }
     },
     "output_type": "display_data"
    }
   ],
   "source": [
    "# day_count 에서 초기 30개의 데이터에 대해서 슬라이싱 해서 시각화 합니다.\n",
    "df_all_day[:30].plot.bar(figsize=(10,2))"
   ]
  },
  {
   "cell_type": "markdown",
   "metadata": {},
   "source": [
    "### 누적 확진 수 구하기"
   ]
  },
  {
   "cell_type": "code",
   "execution_count": 194,
   "metadata": {},
   "outputs": [
    {
     "data": {
      "text/html": [
       "<div>\n",
       "<style scoped>\n",
       "    .dataframe tbody tr th:only-of-type {\n",
       "        vertical-align: middle;\n",
       "    }\n",
       "\n",
       "    .dataframe tbody tr th {\n",
       "        vertical-align: top;\n",
       "    }\n",
       "\n",
       "    .dataframe thead th {\n",
       "        text-align: right;\n",
       "    }\n",
       "</style>\n",
       "<table border=\"1\" class=\"dataframe\">\n",
       "  <thead>\n",
       "    <tr style=\"text-align: right;\">\n",
       "      <th></th>\n",
       "      <th>환자</th>\n",
       "      <th>확진일</th>\n",
       "      <th>거주지</th>\n",
       "      <th>여행력</th>\n",
       "      <th>접촉력</th>\n",
       "      <th>퇴원현황</th>\n",
       "      <th>연도</th>\n",
       "      <th>월</th>\n",
       "      <th>일</th>\n",
       "      <th>요일</th>\n",
       "      <th>요일명</th>\n",
       "      <th>연도월</th>\n",
       "      <th>주</th>\n",
       "    </tr>\n",
       "    <tr>\n",
       "      <th>연번</th>\n",
       "      <th></th>\n",
       "      <th></th>\n",
       "      <th></th>\n",
       "      <th></th>\n",
       "      <th></th>\n",
       "      <th></th>\n",
       "      <th></th>\n",
       "      <th></th>\n",
       "      <th></th>\n",
       "      <th></th>\n",
       "      <th></th>\n",
       "      <th></th>\n",
       "      <th></th>\n",
       "    </tr>\n",
       "  </thead>\n",
       "  <tbody>\n",
       "    <tr>\n",
       "      <th>1</th>\n",
       "      <td>2</td>\n",
       "      <td>2020-01-24</td>\n",
       "      <td>강서구</td>\n",
       "      <td>중국</td>\n",
       "      <td>해외유입</td>\n",
       "      <td>퇴원</td>\n",
       "      <td>2020</td>\n",
       "      <td>1</td>\n",
       "      <td>24</td>\n",
       "      <td>4</td>\n",
       "      <td>금</td>\n",
       "      <td>2020-01</td>\n",
       "      <td>4</td>\n",
       "    </tr>\n",
       "    <tr>\n",
       "      <th>2</th>\n",
       "      <td>5</td>\n",
       "      <td>2020-01-30</td>\n",
       "      <td>중랑구</td>\n",
       "      <td>중국</td>\n",
       "      <td>해외유입</td>\n",
       "      <td>퇴원</td>\n",
       "      <td>2020</td>\n",
       "      <td>1</td>\n",
       "      <td>30</td>\n",
       "      <td>3</td>\n",
       "      <td>목</td>\n",
       "      <td>2020-01</td>\n",
       "      <td>5</td>\n",
       "    </tr>\n",
       "    <tr>\n",
       "      <th>3</th>\n",
       "      <td>6</td>\n",
       "      <td>2020-01-30</td>\n",
       "      <td>종로구</td>\n",
       "      <td>-</td>\n",
       "      <td>종로구 집단발병</td>\n",
       "      <td>퇴원</td>\n",
       "      <td>2020</td>\n",
       "      <td>1</td>\n",
       "      <td>30</td>\n",
       "      <td>3</td>\n",
       "      <td>목</td>\n",
       "      <td>2020-01</td>\n",
       "      <td>5</td>\n",
       "    </tr>\n",
       "    <tr>\n",
       "      <th>4</th>\n",
       "      <td>7</td>\n",
       "      <td>2020-01-30</td>\n",
       "      <td>마포구</td>\n",
       "      <td>중국</td>\n",
       "      <td>해외유입</td>\n",
       "      <td>퇴원</td>\n",
       "      <td>2020</td>\n",
       "      <td>1</td>\n",
       "      <td>30</td>\n",
       "      <td>3</td>\n",
       "      <td>목</td>\n",
       "      <td>2020-01</td>\n",
       "      <td>5</td>\n",
       "    </tr>\n",
       "    <tr>\n",
       "      <th>5</th>\n",
       "      <td>9</td>\n",
       "      <td>2020-01-31</td>\n",
       "      <td>성북구</td>\n",
       "      <td>-</td>\n",
       "      <td>기타 확진자 접촉</td>\n",
       "      <td>퇴원</td>\n",
       "      <td>2020</td>\n",
       "      <td>1</td>\n",
       "      <td>31</td>\n",
       "      <td>4</td>\n",
       "      <td>금</td>\n",
       "      <td>2020-01</td>\n",
       "      <td>5</td>\n",
       "    </tr>\n",
       "    <tr>\n",
       "      <th>...</th>\n",
       "      <td>...</td>\n",
       "      <td>...</td>\n",
       "      <td>...</td>\n",
       "      <td>...</td>\n",
       "      <td>...</td>\n",
       "      <td>...</td>\n",
       "      <td>...</td>\n",
       "      <td>...</td>\n",
       "      <td>...</td>\n",
       "      <td>...</td>\n",
       "      <td>...</td>\n",
       "      <td>...</td>\n",
       "      <td>...</td>\n",
       "    </tr>\n",
       "    <tr>\n",
       "      <th>218642</th>\n",
       "      <td>607522</td>\n",
       "      <td>2021-12-26</td>\n",
       "      <td>송파구</td>\n",
       "      <td>-</td>\n",
       "      <td>감염경로 조사중</td>\n",
       "      <td>NaN</td>\n",
       "      <td>2021</td>\n",
       "      <td>12</td>\n",
       "      <td>26</td>\n",
       "      <td>6</td>\n",
       "      <td>일</td>\n",
       "      <td>2021-12</td>\n",
       "      <td>51</td>\n",
       "    </tr>\n",
       "    <tr>\n",
       "      <th>218643</th>\n",
       "      <td>607530</td>\n",
       "      <td>2021-12-26</td>\n",
       "      <td>송파구</td>\n",
       "      <td>-</td>\n",
       "      <td>감염경로 조사중</td>\n",
       "      <td>NaN</td>\n",
       "      <td>2021</td>\n",
       "      <td>12</td>\n",
       "      <td>26</td>\n",
       "      <td>6</td>\n",
       "      <td>일</td>\n",
       "      <td>2021-12</td>\n",
       "      <td>51</td>\n",
       "    </tr>\n",
       "    <tr>\n",
       "      <th>218644</th>\n",
       "      <td>611537</td>\n",
       "      <td>2021-12-26</td>\n",
       "      <td>송파구</td>\n",
       "      <td>-</td>\n",
       "      <td>감염경로 조사중</td>\n",
       "      <td>NaN</td>\n",
       "      <td>2021</td>\n",
       "      <td>12</td>\n",
       "      <td>26</td>\n",
       "      <td>6</td>\n",
       "      <td>일</td>\n",
       "      <td>2021-12</td>\n",
       "      <td>51</td>\n",
       "    </tr>\n",
       "    <tr>\n",
       "      <th>218645</th>\n",
       "      <td>610703</td>\n",
       "      <td>2021-12-26</td>\n",
       "      <td>노원구</td>\n",
       "      <td>-</td>\n",
       "      <td>감염경로 조사중</td>\n",
       "      <td>NaN</td>\n",
       "      <td>2021</td>\n",
       "      <td>12</td>\n",
       "      <td>26</td>\n",
       "      <td>6</td>\n",
       "      <td>일</td>\n",
       "      <td>2021-12</td>\n",
       "      <td>51</td>\n",
       "    </tr>\n",
       "    <tr>\n",
       "      <th>218646</th>\n",
       "      <td>611159</td>\n",
       "      <td>2021-12-26</td>\n",
       "      <td>노원구</td>\n",
       "      <td>-</td>\n",
       "      <td>감염경로 조사중</td>\n",
       "      <td>NaN</td>\n",
       "      <td>2021</td>\n",
       "      <td>12</td>\n",
       "      <td>26</td>\n",
       "      <td>6</td>\n",
       "      <td>일</td>\n",
       "      <td>2021-12</td>\n",
       "      <td>51</td>\n",
       "    </tr>\n",
       "  </tbody>\n",
       "</table>\n",
       "<p>218646 rows × 13 columns</p>\n",
       "</div>"
      ],
      "text/plain": [
       "            환자        확진일  거주지 여행력        접촉력 퇴원현황    연도   월   일  요일 요일명  \\\n",
       "연번                                                                         \n",
       "1            2 2020-01-24  강서구  중국       해외유입   퇴원  2020   1  24   4   금   \n",
       "2            5 2020-01-30  중랑구  중국       해외유입   퇴원  2020   1  30   3   목   \n",
       "3            6 2020-01-30  종로구   -   종로구 집단발병   퇴원  2020   1  30   3   목   \n",
       "4            7 2020-01-30  마포구  중국       해외유입   퇴원  2020   1  30   3   목   \n",
       "5            9 2020-01-31  성북구   -  기타 확진자 접촉   퇴원  2020   1  31   4   금   \n",
       "...        ...        ...  ...  ..        ...  ...   ...  ..  ..  ..  ..   \n",
       "218642  607522 2021-12-26  송파구   -   감염경로 조사중  NaN  2021  12  26   6   일   \n",
       "218643  607530 2021-12-26  송파구   -   감염경로 조사중  NaN  2021  12  26   6   일   \n",
       "218644  611537 2021-12-26  송파구   -   감염경로 조사중  NaN  2021  12  26   6   일   \n",
       "218645  610703 2021-12-26  노원구   -   감염경로 조사중  NaN  2021  12  26   6   일   \n",
       "218646  611159 2021-12-26  노원구   -   감염경로 조사중  NaN  2021  12  26   6   일   \n",
       "\n",
       "            연도월   주  \n",
       "연번                   \n",
       "1       2020-01   4  \n",
       "2       2020-01   5  \n",
       "3       2020-01   5  \n",
       "4       2020-01   5  \n",
       "5       2020-01   5  \n",
       "...         ...  ..  \n",
       "218642  2021-12  51  \n",
       "218643  2021-12  51  \n",
       "218644  2021-12  51  \n",
       "218645  2021-12  51  \n",
       "218646  2021-12  51  \n",
       "\n",
       "[218646 rows x 13 columns]"
      ]
     },
     "execution_count": 194,
     "metadata": {},
     "output_type": "execute_result"
    }
   ],
   "source": [
    "# df\n",
    "df"
   ]
  },
  {
   "cell_type": "code",
   "execution_count": 196,
   "metadata": {},
   "outputs": [
    {
     "data": {
      "text/html": [
       "<div>\n",
       "<style scoped>\n",
       "    .dataframe tbody tr th:only-of-type {\n",
       "        vertical-align: middle;\n",
       "    }\n",
       "\n",
       "    .dataframe tbody tr th {\n",
       "        vertical-align: top;\n",
       "    }\n",
       "\n",
       "    .dataframe thead th {\n",
       "        text-align: right;\n",
       "    }\n",
       "</style>\n",
       "<table border=\"1\" class=\"dataframe\">\n",
       "  <thead>\n",
       "    <tr style=\"text-align: right;\">\n",
       "      <th></th>\n",
       "      <th>확진수</th>\n",
       "      <th>누적확진수</th>\n",
       "    </tr>\n",
       "  </thead>\n",
       "  <tbody>\n",
       "    <tr>\n",
       "      <th>2020-01-24</th>\n",
       "      <td>1</td>\n",
       "      <td>1</td>\n",
       "    </tr>\n",
       "    <tr>\n",
       "      <th>2020-01-25</th>\n",
       "      <td>0</td>\n",
       "      <td>1</td>\n",
       "    </tr>\n",
       "  </tbody>\n",
       "</table>\n",
       "</div>"
      ],
      "text/plain": [
       "            확진수  누적확진수\n",
       "2020-01-24    1      1\n",
       "2020-01-25    0      1"
      ]
     },
     "execution_count": 196,
     "metadata": {},
     "output_type": "execute_result"
    }
   ],
   "source": [
    "# cumsum 으로 \"누적확진수\" 구해서 새로운 변수에 담기\n",
    "# df_all_day[\"누적확진수\"]\n",
    "df_all_day[\"누적확진수\"] = df_all_day[\"확진수\"].cumsum() #cumsum : 누적 확진자 수!\n",
    "df_all_day[:2]"
   ]
  },
  {
   "cell_type": "code",
   "execution_count": 197,
   "metadata": {},
   "outputs": [
    {
     "data": {
      "text/plain": [
       "<AxesSubplot:>"
      ]
     },
     "execution_count": 197,
     "metadata": {},
     "output_type": "execute_result"
    },
    {
     "data": {
      "image/png": "[encoded data removed]",
      "text/plain": [
       "<Figure size 720x144 with 1 Axes>"
      ]
     },
     "metadata": {
      "image/png": {
       "height": 149,
       "width": 608
      }
     },
     "output_type": "display_data"
    }
   ],
   "source": [
    "# 시각화 하기\n",
    "df_all_day[\"누적확진수\"].plot(figsize = (10,2))"
   ]
  },
  {
   "cell_type": "markdown",
   "metadata": {},
   "source": [
    "## 거주지"
   ]
  },
  {
   "cell_type": "code",
   "execution_count": 202,
   "metadata": {},
   "outputs": [
    {
     "data": {
      "text/plain": [
       "송파구     13235\n",
       "강남구     12150\n",
       "타시도     11320\n",
       "관악구     10992\n",
       "구로구     10346\n",
       "영등포구    10225\n",
       "강서구     10150\n",
       "은평구      9393\n",
       "노원구      9327\n",
       "성북구      9142\n",
       "동대문구     9091\n",
       "강동구      8882\n",
       "동작구      8558\n",
       "중랑구      8236\n",
       "서초구      8087\n",
       "양천구      7709\n",
       "마포구      7370\n",
       "광진구      6819\n",
       "도봉구      6501\n",
       "강북구      6449\n",
       "서대문구     5946\n",
       "금천구      5635\n",
       "성동구      5530\n",
       "용산구      5137\n",
       "기타       4995\n",
       "종로구      3838\n",
       "중구       3570\n",
       "양천구         5\n",
       "용산구         2\n",
       "동작구         2\n",
       "타시도         1\n",
       "금천구         1\n",
       "마포구         1\n",
       "강동구         1\n",
       "Name: 거주지, dtype: int64"
      ]
     },
     "execution_count": 202,
     "metadata": {},
     "output_type": "execute_result"
    }
   ],
   "source": [
    "# 거주지 빈도수 구하기\n",
    "df[\"거주지\"].value_counts()\n",
    "\n",
    "# 왜 마지막에 하나씩 나오는건가 ? -> "
   ]
  },
  {
   "cell_type": "markdown",
   "metadata": {},
   "source": [
    "### 타시도, 기타 전처리"
   ]
  },
  {
   "cell_type": "code",
   "execution_count": 203,
   "metadata": {},
   "outputs": [
    {
     "data": {
      "text/html": [
       "<div>\n",
       "<style scoped>\n",
       "    .dataframe tbody tr th:only-of-type {\n",
       "        vertical-align: middle;\n",
       "    }\n",
       "\n",
       "    .dataframe tbody tr th {\n",
       "        vertical-align: top;\n",
       "    }\n",
       "\n",
       "    .dataframe thead th {\n",
       "        text-align: right;\n",
       "    }\n",
       "</style>\n",
       "<table border=\"1\" class=\"dataframe\">\n",
       "  <thead>\n",
       "    <tr style=\"text-align: right;\">\n",
       "      <th></th>\n",
       "      <th>환자</th>\n",
       "      <th>확진일</th>\n",
       "      <th>거주지</th>\n",
       "      <th>여행력</th>\n",
       "      <th>접촉력</th>\n",
       "      <th>퇴원현황</th>\n",
       "      <th>연도</th>\n",
       "      <th>월</th>\n",
       "      <th>일</th>\n",
       "      <th>요일</th>\n",
       "      <th>요일명</th>\n",
       "      <th>연도월</th>\n",
       "      <th>주</th>\n",
       "      <th>거주구</th>\n",
       "    </tr>\n",
       "    <tr>\n",
       "      <th>연번</th>\n",
       "      <th></th>\n",
       "      <th></th>\n",
       "      <th></th>\n",
       "      <th></th>\n",
       "      <th></th>\n",
       "      <th></th>\n",
       "      <th></th>\n",
       "      <th></th>\n",
       "      <th></th>\n",
       "      <th></th>\n",
       "      <th></th>\n",
       "      <th></th>\n",
       "      <th></th>\n",
       "      <th></th>\n",
       "    </tr>\n",
       "  </thead>\n",
       "  <tbody>\n",
       "    <tr>\n",
       "      <th>1</th>\n",
       "      <td>2</td>\n",
       "      <td>2020-01-24</td>\n",
       "      <td>강서구</td>\n",
       "      <td>중국</td>\n",
       "      <td>해외유입</td>\n",
       "      <td>퇴원</td>\n",
       "      <td>2020</td>\n",
       "      <td>1</td>\n",
       "      <td>24</td>\n",
       "      <td>4</td>\n",
       "      <td>금</td>\n",
       "      <td>2020-01</td>\n",
       "      <td>4</td>\n",
       "      <td>강서구</td>\n",
       "    </tr>\n",
       "    <tr>\n",
       "      <th>2</th>\n",
       "      <td>5</td>\n",
       "      <td>2020-01-30</td>\n",
       "      <td>중랑구</td>\n",
       "      <td>중국</td>\n",
       "      <td>해외유입</td>\n",
       "      <td>퇴원</td>\n",
       "      <td>2020</td>\n",
       "      <td>1</td>\n",
       "      <td>30</td>\n",
       "      <td>3</td>\n",
       "      <td>목</td>\n",
       "      <td>2020-01</td>\n",
       "      <td>5</td>\n",
       "      <td>중랑구</td>\n",
       "    </tr>\n",
       "  </tbody>\n",
       "</table>\n",
       "</div>"
      ],
      "text/plain": [
       "    환자        확진일  거주지 여행력   접촉력 퇴원현황    연도  월   일  요일 요일명      연도월  주  거주구\n",
       "연번                                                                         \n",
       "1    2 2020-01-24  강서구  중국  해외유입   퇴원  2020  1  24   4   금  2020-01  4  강서구\n",
       "2    5 2020-01-30  중랑구  중국  해외유입   퇴원  2020  1  30   3   목  2020-01  5  중랑구"
      ]
     },
     "execution_count": 203,
     "metadata": {},
     "output_type": "execute_result"
    }
   ],
   "source": [
    "# \"거주지\" => \"거주구\"로 사본 생성\n",
    "# df[\"거주구\"]\n",
    "\n",
    "df[\"거주구\"] = df[\"거주지\"]\n",
    "df.head(2)"
   ]
  },
  {
   "cell_type": "code",
   "execution_count": 204,
   "metadata": {},
   "outputs": [],
   "source": [
    "# 텍스트 앞뒤 공백 제거하기\n",
    "df[\"거주구\"] = df[\"거주구\"].str.strip()"
   ]
  },
  {
   "cell_type": "code",
   "execution_count": 205,
   "metadata": {},
   "outputs": [],
   "source": [
    "# 타시도 => 기타로 변경하기\n",
    "df[\"거주구\"] = df[\"거주구\"].replace(\"타시도\", \"기타\")"
   ]
  },
  {
   "cell_type": "code",
   "execution_count": 206,
   "metadata": {},
   "outputs": [
    {
     "data": {
      "text/plain": [
       "기타      16316\n",
       "송파구     13235\n",
       "강남구     12150\n",
       "관악구     10992\n",
       "구로구     10346\n",
       "영등포구    10225\n",
       "강서구     10150\n",
       "은평구      9393\n",
       "노원구      9327\n",
       "성북구      9142\n",
       "동대문구     9091\n",
       "강동구      8883\n",
       "동작구      8560\n",
       "중랑구      8236\n",
       "서초구      8087\n",
       "양천구      7714\n",
       "마포구      7371\n",
       "광진구      6819\n",
       "도봉구      6501\n",
       "강북구      6449\n",
       "서대문구     5946\n",
       "금천구      5636\n",
       "성동구      5530\n",
       "용산구      5139\n",
       "종로구      3838\n",
       "중구       3570\n",
       "Name: 거주구, dtype: int64"
      ]
     },
     "execution_count": 206,
     "metadata": {},
     "output_type": "execute_result"
    }
   ],
   "source": [
    "# \"거주구\" 빈도수 구하기\n",
    "df[\"거주구\"].value_counts()"
   ]
  },
  {
   "cell_type": "code",
   "execution_count": 213,
   "metadata": {
    "scrolled": true
   },
   "outputs": [
    {
     "data": {
      "image/png": "[encoded data removed]",
      "text/plain": [
       "<Figure size 504x432 with 1 Axes>"
      ]
     },
     "metadata": {
      "image/png": {
       "height": 354,
       "width": 448
      }
     },
     "output_type": "display_data"
    }
   ],
   "source": [
    "# gu_count 변수에 담긴 값 시각화 하기\n",
    "gu_count = df[\"거주구\"].value_counts().plot.barh(figsize=(7, 6))"
   ]
  },
  {
   "cell_type": "code",
   "execution_count": 212,
   "metadata": {},
   "outputs": [
    {
     "data": {
      "image/png": "[encoded data removed]",
      "text/plain": [
       "<Figure size 504x432 with 1 Axes>"
      ]
     },
     "metadata": {
      "image/png": {
       "height": 371,
       "width": 448
      }
     },
     "output_type": "display_data"
    }
   ],
   "source": [
    "_ = gu_count = df[\"거주구\"].value_counts().plot.barh(figsize=(7, 6), title=\"구별 확진 수\") \n",
    "# 앞에 언더바 한 것은, 안쓰는 변수값 할당, 셀과 그래프 사이에 로그가 안뜨고 깔끔하게 나옴!"
   ]
  },
  {
   "cell_type": "markdown",
   "metadata": {},
   "source": [
    "## 두 개의 변수에 대한 빈도수 구하기\n",
    "### 연도, 퇴원현황 두 개의 변수에 대한 빈도수 구하기"
   ]
  },
  {
   "cell_type": "code",
   "execution_count": 215,
   "metadata": {},
   "outputs": [
    {
     "data": {
      "text/html": [
       "<div>\n",
       "<style scoped>\n",
       "    .dataframe tbody tr th:only-of-type {\n",
       "        vertical-align: middle;\n",
       "    }\n",
       "\n",
       "    .dataframe tbody tr th {\n",
       "        vertical-align: top;\n",
       "    }\n",
       "\n",
       "    .dataframe thead th {\n",
       "        text-align: right;\n",
       "    }\n",
       "</style>\n",
       "<table border=\"1\" class=\"dataframe\">\n",
       "  <thead>\n",
       "    <tr style=\"text-align: right;\">\n",
       "      <th>퇴원현황</th>\n",
       "      <th>사망</th>\n",
       "      <th>퇴원</th>\n",
       "    </tr>\n",
       "    <tr>\n",
       "      <th>연도</th>\n",
       "      <th></th>\n",
       "      <th></th>\n",
       "    </tr>\n",
       "  </thead>\n",
       "  <tbody>\n",
       "    <tr>\n",
       "      <th>2020</th>\n",
       "      <td>308</td>\n",
       "      <td>19085</td>\n",
       "    </tr>\n",
       "    <tr>\n",
       "      <th>2021</th>\n",
       "      <td>1340</td>\n",
       "      <td>142764</td>\n",
       "    </tr>\n",
       "  </tbody>\n",
       "</table>\n",
       "</div>"
      ],
      "text/plain": [
       "퇴원현황    사망      퇴원\n",
       "연도                \n",
       "2020   308   19085\n",
       "2021  1340  142764"
      ]
     },
     "execution_count": 215,
     "metadata": {},
     "output_type": "execute_result"
    }
   ],
   "source": [
    "# pd.crosstab 으로 연도, 퇴원현황 두 개의 변수에 대한 빈도수 구하기\n",
    "# 연도, 퇴원현황 빈도수 구하기\n",
    "pd.crosstab(df[\"연도\"], df[\"퇴원현황\"])"
   ]
  },
  {
   "cell_type": "code",
   "execution_count": 217,
   "metadata": {},
   "outputs": [
    {
     "data": {
      "text/html": [
       "<div>\n",
       "<style scoped>\n",
       "    .dataframe tbody tr th:only-of-type {\n",
       "        vertical-align: middle;\n",
       "    }\n",
       "\n",
       "    .dataframe tbody tr th {\n",
       "        vertical-align: top;\n",
       "    }\n",
       "\n",
       "    .dataframe thead th {\n",
       "        text-align: right;\n",
       "    }\n",
       "</style>\n",
       "<table border=\"1\" class=\"dataframe\">\n",
       "  <thead>\n",
       "    <tr style=\"text-align: right;\">\n",
       "      <th>퇴원현황</th>\n",
       "      <th>사망</th>\n",
       "      <th>퇴원</th>\n",
       "    </tr>\n",
       "    <tr>\n",
       "      <th>연도</th>\n",
       "      <th></th>\n",
       "      <th></th>\n",
       "    </tr>\n",
       "  </thead>\n",
       "  <tbody>\n",
       "    <tr>\n",
       "      <th>2020</th>\n",
       "      <td>0.001884</td>\n",
       "      <td>0.11673</td>\n",
       "    </tr>\n",
       "    <tr>\n",
       "      <th>2021</th>\n",
       "      <td>0.008196</td>\n",
       "      <td>0.87319</td>\n",
       "    </tr>\n",
       "  </tbody>\n",
       "</table>\n",
       "</div>"
      ],
      "text/plain": [
       "퇴원현황        사망       퇴원\n",
       "연도                     \n",
       "2020  0.001884  0.11673\n",
       "2021  0.008196  0.87319"
      ]
     },
     "execution_count": 217,
     "metadata": {},
     "output_type": "execute_result"
    }
   ],
   "source": [
    "pd.crosstab(df[\"연도\"], df[\"퇴원현황\"], normalize=True)"
   ]
  },
  {
   "cell_type": "code",
   "execution_count": 218,
   "metadata": {},
   "outputs": [
    {
     "data": {
      "text/plain": [
       "1.0"
      ]
     },
     "execution_count": 218,
     "metadata": {},
     "output_type": "execute_result"
    }
   ],
   "source": [
    "# pd.crosstab 으로 연도, 퇴원현황 두 개의 변수에 대한 빈도 빈율 구하기\n",
    "pd.crosstab(df[\"연도\"], df[\"퇴원현황\"], normalize=True).sum().sum() # 비율 전체 값이 1이 나오도록 "
   ]
  },
  {
   "cell_type": "markdown",
   "metadata": {},
   "source": [
    "### 연도, 월 두 개의 변수에 대한 빈도수 구하기"
   ]
  },
  {
   "cell_type": "code",
   "execution_count": null,
   "metadata": {},
   "outputs": [],
   "source": [
    "# pd.crosstab 으로 연도, 월 두 개의 변수에 대한 빈도수 구하기\n",
    "아래 모두 과제!"
   ]
  },
  {
   "cell_type": "code",
   "execution_count": null,
   "metadata": {},
   "outputs": [],
   "source": [
    "# 시각화 하기\n"
   ]
  },
  {
   "cell_type": "markdown",
   "metadata": {},
   "source": [
    "### 연도, 요일 두 개의 변수에 대한 빈도수 구하기"
   ]
  },
  {
   "cell_type": "code",
   "execution_count": null,
   "metadata": {},
   "outputs": [],
   "source": [
    "# pd.crosstab 으로 연도, 요일 두 개의 변수에 대한 빈도수 구하기\n"
   ]
  },
  {
   "cell_type": "code",
   "execution_count": null,
   "metadata": {},
   "outputs": [],
   "source": [
    "# 리스트컴프리헨션 사용해서 리스트 만들기\n",
    "# weekday_list\n"
   ]
  },
  {
   "cell_type": "code",
   "execution_count": null,
   "metadata": {},
   "outputs": [],
   "source": [
    "# 컬럼명 변경하기\n"
   ]
  },
  {
   "cell_type": "markdown",
   "metadata": {},
   "source": [
    "### 거주구, 연도월에 대한 빈도수 구하기"
   ]
  },
  {
   "cell_type": "code",
   "execution_count": null,
   "metadata": {},
   "outputs": [],
   "source": [
    "# pd.crosstab 으로 두 개 변수에 대한 빈도수 구하기\n",
    "# 거주구, 연도월에 대한 빈도수 구하기\n"
   ]
  },
  {
   "cell_type": "code",
   "execution_count": null,
   "metadata": {},
   "outputs": [],
   "source": [
    "# background_gradient() 로 빈도수 표현하기\n"
   ]
  },
  {
   "cell_type": "code",
   "execution_count": null,
   "metadata": {},
   "outputs": [],
   "source": [
    "# gu_month.T 로 행과 열을 바꾼 뒤에 보기\n",
    "# background_gradient()\n"
   ]
  },
  {
   "cell_type": "markdown",
   "metadata": {},
   "source": [
    "## Boolean Indexing 으로 특정 조건 값 찾기\n",
    "### 여러 조건 비교하기"
   ]
  },
  {
   "cell_type": "code",
   "execution_count": null,
   "metadata": {},
   "outputs": [],
   "source": [
    "# 강남구에서 \"일요일\"에 확진된 데이터만 찾기\n",
    "# .loc[행]\n",
    "# .loc[행, 열]\n",
    "# .loc[조건, 열]\n"
   ]
  },
  {
   "cell_type": "code",
   "execution_count": null,
   "metadata": {},
   "outputs": [],
   "source": [
    "# 거주구가 강남구이며, 여행력이 일본인 데이터 찾기\n"
   ]
  },
  {
   "cell_type": "markdown",
   "metadata": {},
   "source": [
    "### str.contains 활용하기"
   ]
  },
  {
   "cell_type": "code",
   "execution_count": null,
   "metadata": {},
   "outputs": [],
   "source": [
    "# 접촉력의 영문자 검색을 위해 영문자를 모두 대문자로 만들고 \"접촉력_대문자\"컬럼을 생성하기\n"
   ]
  },
  {
   "cell_type": "code",
   "execution_count": null,
   "metadata": {},
   "outputs": [],
   "source": [
    "# \"접촉력_대문자\" 컬럼으로 PC방 데이터를 찾고 접촉력 컬럼에 대해서만 빈도수 구하기\n"
   ]
  },
  {
   "cell_type": "markdown",
   "metadata": {},
   "source": [
    "### isin 으로 여러 값 찾기"
   ]
  },
  {
   "cell_type": "code",
   "execution_count": null,
   "metadata": {},
   "outputs": [],
   "source": [
    "# isin 을 사용해 리스트로 여러 값을 찾아오기\n",
    "# \"거주구\"가 \"강남구\", \"서초구\", \"송파구\" 인 데이터만 찾기\n",
    "# loc를 통해 해당 조건의 \"접촉력\" 컬럼만 가져오기\n"
   ]
  },
  {
   "cell_type": "markdown",
   "metadata": {},
   "source": [
    "## 여행력"
   ]
  },
  {
   "cell_type": "code",
   "execution_count": null,
   "metadata": {},
   "outputs": [],
   "source": [
    "#  접촉력이 해외유입인 데이터에 대해 \"해외유입\" 변수 만들기\n"
   ]
  },
  {
   "cell_type": "code",
   "execution_count": null,
   "metadata": {},
   "outputs": [],
   "source": [
    "# 거주구, 해외유입 빈도수 구하기\n"
   ]
  },
  {
   "cell_type": "code",
   "execution_count": null,
   "metadata": {},
   "outputs": [],
   "source": [
    "# 거주구 해외유입 비율 구하기\n"
   ]
  },
  {
   "cell_type": "code",
   "execution_count": null,
   "metadata": {},
   "outputs": [],
   "source": [
    "# 해외유입 여부에 따라 막대그래프를 그립니다.\n",
    "# stacked=True 로 두 가지를 함께 그립니다.\n"
   ]
  },
  {
   "cell_type": "markdown",
   "metadata": {},
   "source": [
    "## pivot_table 사용하기"
   ]
  },
  {
   "cell_type": "code",
   "execution_count": null,
   "metadata": {},
   "outputs": [],
   "source": [
    "# 거주구별 해외유입 여부에 따른 빈도수 구하기\n",
    "# gu_over_count\n"
   ]
  },
  {
   "cell_type": "code",
   "execution_count": null,
   "metadata": {},
   "outputs": [],
   "source": [
    "weekday_list"
   ]
  },
  {
   "cell_type": "code",
   "execution_count": null,
   "metadata": {},
   "outputs": [],
   "source": [
    "# 거주구에 따른 요일별 확진자 빈도수\n",
    "# df_gu_weekday[weekday_list].style.bar()"
   ]
  },
  {
   "cell_type": "markdown",
   "metadata": {},
   "source": [
    "## groupby 사용하기"
   ]
  },
  {
   "cell_type": "code",
   "execution_count": null,
   "metadata": {},
   "outputs": [],
   "source": [
    "# \"거주구\", \"해외유입\" 으로 그룹화 하여 \"환자\" 컬럼으로 빈도수 구하기\n"
   ]
  },
  {
   "cell_type": "markdown",
   "metadata": {},
   "source": [
    "### Groupby의 unstack()\n",
    "* https://pandas.pydata.org/docs/reference/api/pandas.DataFrame.unstack.html\n",
    "\n",
    "<img src=\"https://pandas.pydata.org/docs/_images/reshaping_unstack.png\" width=\"600\">"
   ]
  },
  {
   "cell_type": "code",
   "execution_count": null,
   "metadata": {},
   "outputs": [],
   "source": [
    "# \"거주구\", \"해외유입\" 으로 그룹화 하여 \"환자\" 컬럼으로 빈도수 구하고\n",
    "# 마지막 인덱스를 컬럼으로 만들기\n"
   ]
  },
  {
   "cell_type": "code",
   "execution_count": null,
   "metadata": {},
   "outputs": [],
   "source": [
    "# 연도, 월을 멀티인덱스로 사용하는 빈도수 구하기\n"
   ]
  },
  {
   "cell_type": "code",
   "execution_count": null,
   "metadata": {},
   "outputs": [],
   "source": [
    "# unstack()으로 월을 컬럼으로 만들기\n"
   ]
  },
  {
   "cell_type": "code",
   "execution_count": null,
   "metadata": {},
   "outputs": [],
   "source": [
    "# [\"연도\", \"월\"] 로 그룹화 하고 \"해외유입\" 의 describe 값 보기\n"
   ]
  },
  {
   "cell_type": "code",
   "execution_count": null,
   "metadata": {},
   "outputs": [],
   "source": []
  }
 ],
 "metadata": {
  "kernelspec": {
   "display_name": "Python 3 (ipykernel)",
   "language": "python",
   "name": "python3"
  },
  "language_info": {
   "codemirror_mode": {
    "name": "ipython",
    "version": 3
   },
   "file_extension": ".py",
   "mimetype": "text/x-python",
   "name": "python",
   "nbconvert_exporter": "python",
   "pygments_lexer": "ipython3",
   "version": "3.9.7"
  },
  "toc": {
   "base_numbering": 1,
   "nav_menu": {},
   "number_sections": true,
   "sideBar": true,
   "skip_h1_title": false,
   "title_cell": "Table of Contents",
   "title_sidebar": "Contents",
   "toc_cell": false,
   "toc_position": {
    "height": "calc(100% - 180px)",
    "left": "10px",
    "top": "150px",
    "width": "230.4px"
   },
   "toc_section_display": true,
   "toc_window_display": true
  },
  "varInspector": {
   "cols": {
    "lenName": 16,
    "lenType": 16,
    "lenVar": 40
   },
   "kernels_config": {
    "python": {
     "delete_cmd_postfix": "",
     "delete_cmd_prefix": "del ",
     "library": "var_list.py",
     "varRefreshCmd": "print(var_dic_list())"
    },
    "r": {
     "delete_cmd_postfix": ") ",
     "delete_cmd_prefix": "rm(",
     "library": "var_list.r",
     "varRefreshCmd": "cat(var_dic_list()) "
    }
   },
   "types_to_exclude": [
    "module",
    "function",
    "builtin_function_or_method",
    "instance",
    "_Feature"
   ],
   "window_display": false
  }
 },
 "nbformat": 4,
 "nbformat_minor": 4
}
