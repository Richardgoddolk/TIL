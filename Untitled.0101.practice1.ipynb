{
 "cells": [
  {
   "cell_type": "markdown",
   "id": "fdfe2169",
   "metadata": {},
   "source": [
    "## 자료형\n",
    "* 숫자형(Number) : 숫자 형태로 이루어진 자료형\n",
    "* 문자열(String) : 문자, 단어 등으로 구성된 문자들의 집합을 관리하는 자료형\n",
    "* 리스트(list) : 여러개의 자료를 하나의 변수로 관리할 때 사용하는 자료형\n",
    "* 튜플(tuple) : 여러개의 자료를 하나의 변수로 관리할 때 사용되는 면에서는 list와 거의 같지만 데이터를 변경할 수 없는 자료형\n",
    "* 딕셔너리(dictionary) : 여러개의 자료를 하나의 변수로 관리하는 측면은 list나 tuple과 비슷하지만 key와 value로 이루어져 있고 순차적인 요소값으로 관리되지 않고 key값을 통해 value를 구하는 자료형\n",
    "* 집합(set) : 중복이 허용되지 않고, 순서가 없는, 집합에 관련된 것을 쉽게 처리하기 위한 자료형으로 순서가 없기때문에 자료에 접근하기 위해서는 다른 형태의 자료형으로 변환해야 한다.\n",
    "* 불(bool) : 참(True)과 거짓(False)을 나타내는 자료형. True와 False만 가질 수 있다.\n",
    "* 변수(variable) : 파이썬에서 사용되는 변수는 객체(자료형과 같은 의미)를 가리킨다.\n",
    "\n",
    "## 제어문\n",
    "* if문 : if 이후의 조건들로 상황에 맞게 수행시키기 위한 제어문\n",
    "* while문 : 반복해서 문장을 수행해야할 경우 사용되는 반복문\n",
    "* for문 : while문과 비슷한 반복문이지만 문장 구조의 이해가 용이하다.\n",
    "\n",
    "## 프로그램 입/출력\n",
    "* 함수(function) : 특정 행위를 필요할 때 반복적으로 수행해야하는 경우 공통된 부분을 하나의 코드로 대변되게 만드는 과정으로 python에서는 def라는 형식으로 시작한다.\n",
    "* 매개변수(parameter) : 함수에 입력으로 전달된 값을 받는 변수\n",
    "* 인수(argument) : 함수를 호출할 때 전달되는 입력값\n",
    "* 람다(lambda) : 함수를 생성할 때 사용되는 예약어로 def와 동일한 역할을 하며 일반적으로 함수를 한줄로 간결하게 만들 때 사용된다.\n",
    "* input : 사용자가 입력한 값을 어떤 변수에 대입하기 위한 역할을 수행한다.\n",
    "* print : 자료형을 출력하는 역할을 수행한다.\n",
    "\n",
    "\n",
    "\n",
    "## 기타\n",
    "* 클래스(class) : 코드에서 반복되는 역할을 줄이기 위해 공통된 부분을 함수처럼 따로 정리해서 사용하지만 함수와는 다르게 서로 독립적으로 생성이 된다.(이렇게 독립적으로 생성된 부분 객체라고 한다.)\n",
    "* 모듈(module) : 함수나 변수 또는 클래스는 모아 놓은 파일\n",
    "* 내장 함수(Built-in Function)  : 파이썬에서 기본적으로 제공되는 연산들\n",
    "* 라이브러리(library) : 여러가지 용도를 가지고 있는 모듈의 모음\n",
    "\n",
    "\n",
    "* 파이썬 공식 튜토리얼 : \n",
    "    * 영문 : https://docs.python.org/3/tutorial/introduction.html\n",
    "    * 한글 : https://docs.python.org/ko/3/tutorial/index.html\n",
    "\n",
    "\n",
    "## Zen of Python\n",
    "* 파이썬의 철학이 잘 담겨있는 Zen of Python 을 출력해 봅니다.\n",
    "    * \"아름다운 게 추한 것보다 낫다.\" (Beautiful is better than ugly)\n",
    "    * \"명시적인 것이 암시적인 것 보다 낫다.\" (Explicit is better than implicit)\n",
    "    * \"단순함이 복잡함보다 낫다.\" (Simple is better than complex)\n",
    "    * \"복잡함이 난해한 것보다 낫다.\" (Complex is better than complicated)\n",
    "    * \"가독성은 중요하다.\" (Readability counts)\n",
    "    "
   ]
  },
  {
   "cell_type": "code",
   "execution_count": 1,
   "id": "0ed2e060",
   "metadata": {},
   "outputs": [
    {
     "name": "stdout",
     "output_type": "stream",
     "text": [
      "The Zen of Python, by Tim Peters\n",
      "\n",
      "Beautiful is better than ugly.\n",
      "Explicit is better than implicit.\n",
      "Simple is better than complex.\n",
      "Complex is better than complicated.\n",
      "Flat is better than nested.\n",
      "Sparse is better than dense.\n",
      "Readability counts.\n",
      "Special cases aren't special enough to break the rules.\n",
      "Although practicality beats purity.\n",
      "Errors should never pass silently.\n",
      "Unless explicitly silenced.\n",
      "In the face of ambiguity, refuse the temptation to guess.\n",
      "There should be one-- and preferably only one --obvious way to do it.\n",
      "Although that way may not be obvious at first unless you're Dutch.\n",
      "Now is better than never.\n",
      "Although never is often better than *right* now.\n",
      "If the implementation is hard to explain, it's a bad idea.\n",
      "If the implementation is easy to explain, it may be a good idea.\n",
      "Namespaces are one honking great idea -- let's do more of those!\n"
     ]
    }
   ],
   "source": [
    "import this"
   ]
  },
  {
   "cell_type": "code",
   "execution_count": 2,
   "id": "980f64e3",
   "metadata": {},
   "outputs": [
    {
     "data": {
      "text/plain": [
       "int"
      ]
     },
     "execution_count": 2,
     "metadata": {},
     "output_type": "execute_result"
    }
   ],
   "source": [
    "type(1)"
   ]
  },
  {
   "cell_type": "code",
   "execution_count": 3,
   "id": "1f0bed90",
   "metadata": {},
   "outputs": [
    {
     "data": {
      "text/plain": [
       "float"
      ]
     },
     "execution_count": 3,
     "metadata": {},
     "output_type": "execute_result"
    }
   ],
   "source": [
    "type(1.0)"
   ]
  },
  {
   "cell_type": "code",
   "execution_count": 4,
   "id": "fcea45cd",
   "metadata": {},
   "outputs": [
    {
     "data": {
      "text/plain": [
       "2"
      ]
     },
     "execution_count": 4,
     "metadata": {},
     "output_type": "execute_result"
    }
   ],
   "source": [
    "1+1"
   ]
  },
  {
   "cell_type": "code",
   "execution_count": 5,
   "id": "b261bb43",
   "metadata": {},
   "outputs": [
    {
     "data": {
      "text/plain": [
       "-2"
      ]
     },
     "execution_count": 5,
     "metadata": {},
     "output_type": "execute_result"
    }
   ],
   "source": [
    "2 - 4"
   ]
  },
  {
   "cell_type": "code",
   "execution_count": 6,
   "id": "94ba85f5",
   "metadata": {},
   "outputs": [
    {
     "data": {
      "text/plain": [
       "2.5"
      ]
     },
     "execution_count": 6,
     "metadata": {},
     "output_type": "execute_result"
    }
   ],
   "source": [
    "5 / 2"
   ]
  },
  {
   "cell_type": "code",
   "execution_count": 7,
   "id": "f9680a63",
   "metadata": {},
   "outputs": [
    {
     "data": {
      "text/plain": [
       "2"
      ]
     },
     "execution_count": 7,
     "metadata": {},
     "output_type": "execute_result"
    }
   ],
   "source": [
    "# 몫만 반환!\n",
    "\n",
    "5 // 2"
   ]
  },
  {
   "cell_type": "code",
   "execution_count": 8,
   "id": "e9412d67",
   "metadata": {},
   "outputs": [
    {
     "data": {
      "text/plain": [
       "1"
      ]
     },
     "execution_count": 8,
     "metadata": {},
     "output_type": "execute_result"
    }
   ],
   "source": [
    "# 나머지만 반환!\n",
    "\n",
    "5 % 2"
   ]
  },
  {
   "cell_type": "code",
   "execution_count": 9,
   "id": "ad6cf389",
   "metadata": {},
   "outputs": [
    {
     "data": {
      "text/plain": [
       "100"
      ]
     },
     "execution_count": 9,
     "metadata": {},
     "output_type": "execute_result"
    }
   ],
   "source": [
    "width = 20\n",
    "height = 5\n",
    "\n",
    "width * height"
   ]
  },
  {
   "cell_type": "code",
   "execution_count": 10,
   "id": "4e776057",
   "metadata": {},
   "outputs": [
    {
     "ename": "SyntaxError",
     "evalue": "invalid syntax (Temp/ipykernel_13500/1901420837.py, line 1)",
     "output_type": "error",
     "traceback": [
      "\u001b[1;36m  File \u001b[1;32m\"C:\\Users\\mayo9\\AppData\\Local\\Temp/ipykernel_13500/1901420837.py\"\u001b[1;36m, line \u001b[1;32m1\u001b[0m\n\u001b[1;33m    'python's hobby'\u001b[0m\n\u001b[1;37m            ^\u001b[0m\n\u001b[1;31mSyntaxError\u001b[0m\u001b[1;31m:\u001b[0m invalid syntax\n"
     ]
    }
   ],
   "source": [
    "'python's hobby'"
   ]
  },
  {
   "cell_type": "code",
   "execution_count": 11,
   "id": "f2dbb91b",
   "metadata": {},
   "outputs": [
    {
     "data": {
      "text/plain": [
       "\"python's hobby\""
      ]
     },
     "execution_count": 11,
     "metadata": {},
     "output_type": "execute_result"
    }
   ],
   "source": [
    "\"python's hobby\""
   ]
  },
  {
   "cell_type": "code",
   "execution_count": 14,
   "id": "24f28334",
   "metadata": {},
   "outputs": [
    {
     "data": {
      "text/plain": [
       "'python\\\\s hobby'"
      ]
     },
     "execution_count": 14,
     "metadata": {},
     "output_type": "execute_result"
    }
   ],
   "source": [
    "'python\\s hobby'"
   ]
  },
  {
   "cell_type": "code",
   "execution_count": 13,
   "id": "f6810b12",
   "metadata": {},
   "outputs": [
    {
     "data": {
      "text/plain": [
       "\"python's hobby\""
      ]
     },
     "execution_count": 13,
     "metadata": {},
     "output_type": "execute_result"
    }
   ],
   "source": [
    "'python\\'s hobby'"
   ]
  },
  {
   "cell_type": "code",
   "execution_count": 16,
   "id": "c849c4b7",
   "metadata": {},
   "outputs": [
    {
     "data": {
      "text/plain": [
       "'\\n줄바꿈\\n문자를\\n표현합니다.\\n'"
      ]
     },
     "execution_count": 16,
     "metadata": {},
     "output_type": "execute_result"
    }
   ],
   "source": [
    "\"\"\"\n",
    "줄바꿈\n",
    "문자를\n",
    "표현합니다.\n",
    "\"\"\""
   ]
  },
  {
   "cell_type": "code",
   "execution_count": 17,
   "id": "8d04671b",
   "metadata": {},
   "outputs": [
    {
     "data": {
      "text/plain": [
       "'--------------------'"
      ]
     },
     "execution_count": 17,
     "metadata": {},
     "output_type": "execute_result"
    }
   ],
   "source": [
    "'-' * 20"
   ]
  },
  {
   "cell_type": "code",
   "execution_count": 19,
   "id": "3eb32d15",
   "metadata": {},
   "outputs": [
    {
     "data": {
      "text/plain": [
       "\"Python's hobby?\""
      ]
     },
     "execution_count": 19,
     "metadata": {},
     "output_type": "execute_result"
    }
   ],
   "source": [
    "word = \"Python's hobby?\"\n",
    "word"
   ]
  },
  {
   "cell_type": "code",
   "execution_count": 20,
   "id": "daf9bcca",
   "metadata": {},
   "outputs": [
    {
     "data": {
      "text/plain": [
       "'P'"
      ]
     },
     "execution_count": 20,
     "metadata": {},
     "output_type": "execute_result"
    }
   ],
   "source": [
    "word[0]"
   ]
  },
  {
   "cell_type": "code",
   "execution_count": 21,
   "id": "ca7bed65",
   "metadata": {},
   "outputs": [
    {
     "data": {
      "text/plain": [
       "'?'"
      ]
     },
     "execution_count": 21,
     "metadata": {},
     "output_type": "execute_result"
    }
   ],
   "source": [
    "word[-1]"
   ]
  },
  {
   "cell_type": "code",
   "execution_count": 22,
   "id": "c45a2e97",
   "metadata": {},
   "outputs": [
    {
     "data": {
      "text/plain": [
       "'y'"
      ]
     },
     "execution_count": 22,
     "metadata": {},
     "output_type": "execute_result"
    }
   ],
   "source": [
    "word[-2]"
   ]
  },
  {
   "cell_type": "code",
   "execution_count": 23,
   "id": "5bcc3b3f",
   "metadata": {},
   "outputs": [
    {
     "data": {
      "text/plain": [
       "\"python's hobby?\""
      ]
     },
     "execution_count": 23,
     "metadata": {},
     "output_type": "execute_result"
    }
   ],
   "source": [
    "word.lower()"
   ]
  },
  {
   "cell_type": "code",
   "execution_count": 24,
   "id": "7513e3a2",
   "metadata": {},
   "outputs": [
    {
     "data": {
      "text/plain": [
       "\"PYTHON'S HOBBY?\""
      ]
     },
     "execution_count": 24,
     "metadata": {},
     "output_type": "execute_result"
    }
   ],
   "source": [
    "word.upper()"
   ]
  },
  {
   "cell_type": "code",
   "execution_count": 25,
   "id": "71b3e2ff",
   "metadata": {},
   "outputs": [
    {
     "data": {
      "text/plain": [
       "\"Python's hobby?\""
      ]
     },
     "execution_count": 25,
     "metadata": {},
     "output_type": "execute_result"
    }
   ],
   "source": [
    "word"
   ]
  },
  {
   "cell_type": "code",
   "execution_count": 27,
   "id": "1caa7fd5",
   "metadata": {},
   "outputs": [
    {
     "data": {
      "text/plain": [
       "\"PYTHON'S HOBBY?\""
      ]
     },
     "execution_count": 27,
     "metadata": {},
     "output_type": "execute_result"
    }
   ],
   "source": [
    "word = word.upper()\n",
    "word"
   ]
  },
  {
   "cell_type": "code",
   "execution_count": 29,
   "id": "7072afd6",
   "metadata": {},
   "outputs": [
    {
     "data": {
      "text/plain": [
       "\"python's hobby?\""
      ]
     },
     "execution_count": 29,
     "metadata": {},
     "output_type": "execute_result"
    }
   ],
   "source": [
    "word = word.lower()\n",
    "word"
   ]
  },
  {
   "cell_type": "code",
   "execution_count": 30,
   "id": "34c2484e",
   "metadata": {},
   "outputs": [
    {
     "data": {
      "text/plain": [
       "[1, 4, 9, 16, 25]"
      ]
     },
     "execution_count": 30,
     "metadata": {},
     "output_type": "execute_result"
    }
   ],
   "source": [
    "squares = [1, 4, 9, 16, 25]\n",
    "squares"
   ]
  },
  {
   "cell_type": "code",
   "execution_count": 31,
   "id": "df8aa268",
   "metadata": {},
   "outputs": [
    {
     "data": {
      "text/plain": [
       "1"
      ]
     },
     "execution_count": 31,
     "metadata": {},
     "output_type": "execute_result"
    }
   ],
   "source": [
    "squares[0]"
   ]
  },
  {
   "cell_type": "code",
   "execution_count": 32,
   "id": "f6e8b31d",
   "metadata": {},
   "outputs": [
    {
     "data": {
      "text/plain": [
       "16"
      ]
     },
     "execution_count": 32,
     "metadata": {},
     "output_type": "execute_result"
    }
   ],
   "source": [
    "squares[3]"
   ]
  },
  {
   "cell_type": "code",
   "execution_count": 33,
   "id": "e195a83f",
   "metadata": {},
   "outputs": [
    {
     "data": {
      "text/plain": [
       "25"
      ]
     },
     "execution_count": 33,
     "metadata": {},
     "output_type": "execute_result"
    }
   ],
   "source": [
    "squares[-1]"
   ]
  },
  {
   "cell_type": "code",
   "execution_count": 34,
   "id": "31ec5823",
   "metadata": {},
   "outputs": [
    {
     "data": {
      "text/plain": [
       "[1, 4, 9]"
      ]
     },
     "execution_count": 34,
     "metadata": {},
     "output_type": "execute_result"
    }
   ],
   "source": [
    "squares[ : 3]"
   ]
  },
  {
   "cell_type": "code",
   "execution_count": 35,
   "id": "1f4954df",
   "metadata": {},
   "outputs": [
    {
     "data": {
      "text/plain": [
       "[1, 4, 9, 16, 25, 36]"
      ]
     },
     "execution_count": 35,
     "metadata": {},
     "output_type": "execute_result"
    }
   ],
   "source": [
    "squares.append(36)\n",
    "squares"
   ]
  },
  {
   "cell_type": "code",
   "execution_count": 48,
   "id": "e6b05bc9",
   "metadata": {},
   "outputs": [
    {
     "data": {
      "text/plain": [
       "[4, 9]"
      ]
     },
     "execution_count": 48,
     "metadata": {},
     "output_type": "execute_result"
    }
   ],
   "source": [
    "squares[1:3]"
   ]
  },
  {
   "cell_type": "code",
   "execution_count": 49,
   "id": "cd662bbc",
   "metadata": {},
   "outputs": [
    {
     "data": {
      "text/plain": [
       "[9, 16]"
      ]
     },
     "execution_count": 49,
     "metadata": {},
     "output_type": "execute_result"
    }
   ],
   "source": [
    "squares[2:4]"
   ]
  },
  {
   "cell_type": "code",
   "execution_count": 51,
   "id": "a52560e5",
   "metadata": {},
   "outputs": [
    {
     "data": {
      "text/plain": [
       "[1, 4, 9, 16, 25, 36, 36, 36]"
      ]
     },
     "execution_count": 51,
     "metadata": {},
     "output_type": "execute_result"
    }
   ],
   "source": [
    "squares.append(36)\n",
    "squares"
   ]
  },
  {
   "cell_type": "code",
   "execution_count": 52,
   "id": "17af7360",
   "metadata": {},
   "outputs": [
    {
     "data": {
      "text/plain": [
       "[1, 4, 9, 16, 25, 36, 36]"
      ]
     },
     "execution_count": 52,
     "metadata": {},
     "output_type": "execute_result"
    }
   ],
   "source": [
    "squares.remove(36)\n",
    "squares"
   ]
  },
  {
   "cell_type": "code",
   "execution_count": 53,
   "id": "12e7660e",
   "metadata": {},
   "outputs": [
    {
     "data": {
      "text/plain": [
       "[1, 4, 9, 16, 25, 36]"
      ]
     },
     "execution_count": 53,
     "metadata": {},
     "output_type": "execute_result"
    }
   ],
   "source": [
    "squares.remove(36)\n",
    "squares"
   ]
  },
  {
   "cell_type": "code",
   "execution_count": 36,
   "id": "9c6167c5",
   "metadata": {},
   "outputs": [
    {
     "data": {
      "text/plain": [
       "{'고구마': 4139, '감자': 4098, '쪽파': 100}"
      ]
     },
     "execution_count": 36,
     "metadata": {},
     "output_type": "execute_result"
    }
   ],
   "source": [
    "재고 = {'고구마': 4139, '감자': 4098, '쪽파': 100}\n",
    "재고"
   ]
  },
  {
   "cell_type": "code",
   "execution_count": 37,
   "id": "47494eed",
   "metadata": {},
   "outputs": [
    {
     "data": {
      "text/plain": [
       "{'고구마': 4139, '감자': 4098, '쪽파': 100, '대파': 321}"
      ]
     },
     "execution_count": 37,
     "metadata": {},
     "output_type": "execute_result"
    }
   ],
   "source": [
    "재고['대파'] = 321\n",
    "재고"
   ]
  },
  {
   "cell_type": "code",
   "execution_count": 38,
   "id": "ee5f416c",
   "metadata": {},
   "outputs": [
    {
     "data": {
      "text/plain": [
       "321"
      ]
     },
     "execution_count": 38,
     "metadata": {},
     "output_type": "execute_result"
    }
   ],
   "source": [
    "재고['대파']"
   ]
  },
  {
   "cell_type": "code",
   "execution_count": 41,
   "id": "2084fa08",
   "metadata": {},
   "outputs": [
    {
     "data": {
      "text/plain": [
       "{'고구마': 4139, '감자': 4098, '쪽파': 100, '대파': 321, '양파': 123}"
      ]
     },
     "execution_count": 41,
     "metadata": {},
     "output_type": "execute_result"
    }
   ],
   "source": [
    "재고['양파'] = 123\n",
    "재고"
   ]
  },
  {
   "cell_type": "code",
   "execution_count": 42,
   "id": "5b0e1bf9",
   "metadata": {},
   "outputs": [
    {
     "data": {
      "text/plain": [
       "{'고구마': 4139, '감자': 4098, '쪽파': 100, '대파': 321}"
      ]
     },
     "execution_count": 42,
     "metadata": {},
     "output_type": "execute_result"
    }
   ],
   "source": [
    "del 재고['양파']\n",
    "재고"
   ]
  },
  {
   "cell_type": "code",
   "execution_count": 45,
   "id": "1d76c511",
   "metadata": {},
   "outputs": [
    {
     "data": {
      "text/plain": [
       "['고구마', '감자', '쪽파', '대파']"
      ]
     },
     "execution_count": 45,
     "metadata": {},
     "output_type": "execute_result"
    }
   ],
   "source": [
    "list(재고.keys())"
   ]
  },
  {
   "cell_type": "code",
   "execution_count": 46,
   "id": "d55562f4",
   "metadata": {},
   "outputs": [
    {
     "data": {
      "text/plain": [
       "[100, 321, 4098, 4139]"
      ]
     },
     "execution_count": 46,
     "metadata": {},
     "output_type": "execute_result"
    }
   ],
   "source": [
    "sorted(재고.values())"
   ]
  },
  {
   "cell_type": "code",
   "execution_count": 47,
   "id": "518dd597",
   "metadata": {},
   "outputs": [
    {
     "data": {
      "text/plain": [
       "[4139, 4098, 321, 100]"
      ]
     },
     "execution_count": 47,
     "metadata": {},
     "output_type": "execute_result"
    }
   ],
   "source": [
    "sorted(재고.values())[::-1]"
   ]
  },
  {
   "cell_type": "code",
   "execution_count": null,
   "id": "830e1ede",
   "metadata": {},
   "outputs": [],
   "source": []
  }
 ],
 "metadata": {
  "kernelspec": {
   "display_name": "Python 3 (ipykernel)",
   "language": "python",
   "name": "python3"
  },
  "language_info": {
   "codemirror_mode": {
    "name": "ipython",
    "version": 3
   },
   "file_extension": ".py",
   "mimetype": "text/x-python",
   "name": "python",
   "nbconvert_exporter": "python",
   "pygments_lexer": "ipython3",
   "version": "3.9.7"
  }
 },
 "nbformat": 4,
 "nbformat_minor": 5
}
