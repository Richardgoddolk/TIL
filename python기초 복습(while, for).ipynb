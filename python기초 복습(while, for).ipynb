{
 "cells": [
  {
   "cell_type": "markdown",
   "id": "ce3f95b6-c38a-4dff-9c31-8057fb7ea262",
   "metadata": {},
   "source": [
    "# while 문"
   ]
  },
  {
   "cell_type": "code",
   "execution_count": 2,
   "id": "af43ef05-5020-4480-affa-c0c6681ac787",
   "metadata": {},
   "outputs": [
    {
     "name": "stdout",
     "output_type": "stream",
     "text": [
      "1\n",
      "2\n",
      "3\n",
      "4\n",
      "5\n",
      "6\n",
      "7\n",
      "8\n",
      "9\n",
      "10\n",
      "11\n"
     ]
    }
   ],
   "source": [
    "변수 = 0\n",
    "while True:\n",
    "    변수 = 변수 + 1\n",
    "    print(변수)\n",
    "    \n",
    "    if 변수 > 10 : \n",
    "        break\n",
    "        "
   ]
  },
  {
   "cell_type": "code",
   "execution_count": 3,
   "id": "221e874f-5fc0-406a-adf5-15f2780c8a4e",
   "metadata": {},
   "outputs": [
    {
     "name": "stdout",
     "output_type": "stream",
     "text": [
      "1\n",
      "2\n",
      "3\n",
      "4\n",
      "5\n",
      "6\n",
      "7\n",
      "8\n",
      "9\n",
      "10\n"
     ]
    }
   ],
   "source": [
    "변수 = 0\n",
    "while 변수<10:\n",
    "    변수 = 변수 + 1\n",
    "    print(변수)"
   ]
  },
  {
   "cell_type": "code",
   "execution_count": 4,
   "id": "27f29afa-b5a5-454f-9d30-c2c7d6cb0bf3",
   "metadata": {},
   "outputs": [
    {
     "name": "stdout",
     "output_type": "stream",
     "text": [
      "택시를 타고 가라\n"
     ]
    }
   ],
   "source": [
    "money = True\n",
    "if money :\n",
    "    print(\"택시를 타고 가라\")\n",
    "\n",
    "else :\n",
    "    print(\"넌 뚜벅이다\")\n",
    "    \n",
    "    "
   ]
  },
  {
   "cell_type": "code",
   "execution_count": 7,
   "id": "e34dc84b-af4d-4b6b-abc9-f4eae3117549",
   "metadata": {},
   "outputs": [
    {
     "data": {
      "text/plain": [
       "True"
      ]
     },
     "execution_count": 7,
     "metadata": {},
     "output_type": "execute_result"
    }
   ],
   "source": [
    "x = 3\n",
    "y = 2\n",
    "x > y"
   ]
  },
  {
   "cell_type": "code",
   "execution_count": 8,
   "id": "dbeb796f-32e3-416b-92af-0d5bc9252eb2",
   "metadata": {},
   "outputs": [
    {
     "data": {
      "text/plain": [
       "False"
      ]
     },
     "execution_count": 8,
     "metadata": {},
     "output_type": "execute_result"
    }
   ],
   "source": [
    "x < y"
   ]
  },
  {
   "cell_type": "code",
   "execution_count": 9,
   "id": "e8faf085-3a02-4d78-b8cd-55ff99557cf0",
   "metadata": {},
   "outputs": [
    {
     "data": {
      "text/plain": [
       "False"
      ]
     },
     "execution_count": 9,
     "metadata": {},
     "output_type": "execute_result"
    }
   ],
   "source": [
    "x == y"
   ]
  },
  {
   "cell_type": "code",
   "execution_count": 10,
   "id": "4167b737-276d-48ce-83af-fb612b8a9627",
   "metadata": {},
   "outputs": [
    {
     "data": {
      "text/plain": [
       "True"
      ]
     },
     "execution_count": 10,
     "metadata": {},
     "output_type": "execute_result"
    }
   ],
   "source": [
    "x != y"
   ]
  },
  {
   "cell_type": "code",
   "execution_count": 11,
   "id": "73fd1fe1-f865-4d6a-baf7-ee7f375f78ff",
   "metadata": {},
   "outputs": [
    {
     "name": "stdout",
     "output_type": "stream",
     "text": [
      "걸어 가라\n"
     ]
    }
   ],
   "source": [
    "money = 2000\n",
    "if money > 3000 : \n",
    "    print (\"택시를 타고 가라\")\n",
    "\n",
    "else :\n",
    "    print (\"걸어 가라\")"
   ]
  },
  {
   "cell_type": "code",
   "execution_count": 14,
   "id": "f246884f-c483-450e-a374-644e1cbae875",
   "metadata": {},
   "outputs": [
    {
     "name": "stdout",
     "output_type": "stream",
     "text": [
      "택시를 타고 가라\n"
     ]
    }
   ],
   "source": [
    "money = 2000\n",
    "card = True\n",
    "if money > 3000 or card : \n",
    "    print (\"택시를 타고 가라\")\n",
    "\n",
    "else :\n",
    "    print (\"걸어 가라\")"
   ]
  },
  {
   "cell_type": "code",
   "execution_count": 15,
   "id": "49967142-7ccc-4db6-b455-9e03751bf276",
   "metadata": {},
   "outputs": [
    {
     "data": {
      "text/plain": [
       "True"
      ]
     },
     "execution_count": 15,
     "metadata": {},
     "output_type": "execute_result"
    }
   ],
   "source": [
    "1 in [1, 2, 3]\n"
   ]
  },
  {
   "cell_type": "code",
   "execution_count": 16,
   "id": "9f613458-b3c5-4cf7-8886-753e9a5868f6",
   "metadata": {},
   "outputs": [
    {
     "data": {
      "text/plain": [
       "False"
      ]
     },
     "execution_count": 16,
     "metadata": {},
     "output_type": "execute_result"
    }
   ],
   "source": [
    "1 not in [1, 2, 3]"
   ]
  },
  {
   "cell_type": "code",
   "execution_count": 17,
   "id": "504ac308-bd66-437f-bb0a-ff649f1cf04d",
   "metadata": {},
   "outputs": [
    {
     "data": {
      "text/plain": [
       "True"
      ]
     },
     "execution_count": 17,
     "metadata": {},
     "output_type": "execute_result"
    }
   ],
   "source": [
    "'a' in ('a', 'b', 'c')"
   ]
  },
  {
   "cell_type": "code",
   "execution_count": 18,
   "id": "f60d9f32-0a0c-45e4-a0fc-56822be67021",
   "metadata": {},
   "outputs": [
    {
     "data": {
      "text/plain": [
       "True"
      ]
     },
     "execution_count": 18,
     "metadata": {},
     "output_type": "execute_result"
    }
   ],
   "source": [
    "'h' in 'python'"
   ]
  },
  {
   "cell_type": "code",
   "execution_count": 19,
   "id": "73f94adf-4bda-4f07-a693-ed604cc0a293",
   "metadata": {},
   "outputs": [
    {
     "data": {
      "text/plain": [
       "False"
      ]
     },
     "execution_count": 19,
     "metadata": {},
     "output_type": "execute_result"
    }
   ],
   "source": [
    "'h' not in 'python'"
   ]
  },
  {
   "cell_type": "code",
   "execution_count": 20,
   "id": "d7be5040-51da-4cb1-bb33-e1de166ef89e",
   "metadata": {},
   "outputs": [
    {
     "name": "stdout",
     "output_type": "stream",
     "text": [
      "택시를 타고 가라\n"
     ]
    }
   ],
   "source": [
    "pocket = ['paper', 'cellphoone', 'money']\n",
    "if 'money' in pocket : \n",
    "    print(\"택시를 타고 가라\")\n",
    "    \n",
    "else :\n",
    "    print(\"걸어가라\")"
   ]
  },
  {
   "cell_type": "code",
   "execution_count": 22,
   "id": "a4f925bf-2298-40df-a41f-d23ba31229e2",
   "metadata": {},
   "outputs": [
    {
     "name": "stdout",
     "output_type": "stream",
     "text": [
      "걸어가라\n"
     ]
    }
   ],
   "source": [
    "pocket = ['paper', 'cellphoone', 'mone']\n",
    "if 'money' in pocket : \n",
    "    pass\n",
    "    \n",
    "else :\n",
    "    print(\"걸어가라\")"
   ]
  },
  {
   "cell_type": "code",
   "execution_count": 23,
   "id": "c17c3de4-f18b-4598-aa09-e44b911882a2",
   "metadata": {},
   "outputs": [
    {
     "name": "stdout",
     "output_type": "stream",
     "text": [
      "택시를 타고 가라\n"
     ]
    }
   ],
   "source": [
    "pocket = ['paper', 'cellphoone']\n",
    "card = True\n",
    "if 'money' in pocket : \n",
    "    print(\"택시를 타고 가라\")\n",
    "    \n",
    "elif card:\n",
    "    print(\"택시를 타고 가라\")\n",
    "    \n",
    "else :\n",
    "    print(\"걸어가라\")"
   ]
  },
  {
   "cell_type": "code",
   "execution_count": 27,
   "id": "cec56431-51c7-4f05-9cf7-bc8ea504d2de",
   "metadata": {},
   "outputs": [
    {
     "name": "stdout",
     "output_type": "stream",
     "text": [
      "success\n"
     ]
    }
   ],
   "source": [
    "score = 89\n",
    "\n",
    "if score >= 60:\n",
    "    message = \"success\"\n",
    "    \n",
    "else : \n",
    "    message = \"failure\"\n",
    "    \n",
    "print(message)"
   ]
  },
  {
   "cell_type": "code",
   "execution_count": null,
   "id": "3272bdf8-dacf-42a0-99a7-2ac550c62989",
   "metadata": {},
   "outputs": [],
   "source": []
  }
 ],
 "metadata": {
  "kernelspec": {
   "display_name": "Python 3 (ipykernel)",
   "language": "python",
   "name": "python3"
  },
  "language_info": {
   "codemirror_mode": {
    "name": "ipython",
    "version": 3
   },
   "file_extension": ".py",
   "mimetype": "text/x-python",
   "name": "python",
   "nbconvert_exporter": "python",
   "pygments_lexer": "ipython3",
   "version": "3.7.13"
  }
 },
 "nbformat": 4,
 "nbformat_minor": 5
}
