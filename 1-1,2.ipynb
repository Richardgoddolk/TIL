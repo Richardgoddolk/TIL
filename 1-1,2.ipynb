{
 "cells": [
  {
   "cell_type": "code",
   "execution_count": 1,
   "id": "1ad17b6e",
   "metadata": {},
   "outputs": [
    {
     "name": "stdout",
     "output_type": "stream",
     "text": [
      "안녕하세요\n"
     ]
    }
   ],
   "source": [
    "print(\"안녕하세요\")"
   ]
  },
  {
   "cell_type": "code",
   "execution_count": 2,
   "id": "e90aaa36",
   "metadata": {},
   "outputs": [
    {
     "name": "stdout",
     "output_type": "stream",
     "text": [
      "강신석입니다\n"
     ]
    }
   ],
   "source": [
    "print(\"강신석입니다\")\n",
    "# print(\"안녕하세요\")  # 주석 : ctrl + / "
   ]
  },
  {
   "cell_type": "raw",
   "id": "71fe3ff4",
   "metadata": {},
   "source": [
    "#  왼쪽 코드 번호 입력 : 위 메뉴 바에서 View -> Toggle Line Numbers\n",
    "# 상단 키보드 클릭하면 주피터에서 사용할 수 있는 단축키, 기능들 확인 가능\n",
    "# 키보드 왼쪽에는 Code, Markdown, 등 셀 타입을 지정할 수 있음 -> 기본적으로 Python 명령어 입력시에는 Code로 설정해서 사용!"
   ]
  },
  {
   "cell_type": "code",
   "execution_count": 3,
   "id": "b54d0257",
   "metadata": {},
   "outputs": [
    {
     "name": "stdout",
     "output_type": "stream",
     "text": [
      "1\n"
     ]
    }
   ],
   "source": [
    "# 변수 = 값 또는 데이터 \n",
    "# 파이썬 에서는 변수 = 값 또는 데이터 형태로 인식하게 됨\n",
    "x = 1 \n",
    "print(x)"
   ]
  },
  {
   "cell_type": "code",
   "execution_count": 4,
   "id": "746db3e7",
   "metadata": {},
   "outputs": [
    {
     "name": "stdout",
     "output_type": "stream",
     "text": [
      "3\n"
     ]
    }
   ],
   "source": [
    "y = 1\n",
    "y = 3\n",
    "print(y)\n",
    "# 가장 마지막에 입력된 변수만 인식함"
   ]
  },
  {
   "cell_type": "code",
   "execution_count": 5,
   "id": "c555fb84",
   "metadata": {
    "scrolled": true
   },
   "outputs": [
    {
     "name": "stdout",
     "output_type": "stream",
     "text": [
      "<class 'int'>\n",
      "<class 'float'>\n"
     ]
    }
   ],
   "source": [
    "# int : 정수, float : 실수\n",
    "x = 15\n",
    "print(type(x))\n",
    "\n",
    "y = 3.14\n",
    "print(type(y))"
   ]
  },
  {
   "cell_type": "code",
   "execution_count": 6,
   "id": "a8469c05",
   "metadata": {},
   "outputs": [
    {
     "name": "stdout",
     "output_type": "stream",
     "text": [
      "14\n",
      "4\n",
      "45\n",
      "1.8\n"
     ]
    }
   ],
   "source": [
    "a = 9\n",
    "b = 5\n",
    "\n",
    "print(a + b)\n",
    "print(a - b)\n",
    "print(a * b)\n",
    "print(a / b)"
   ]
  },
  {
   "cell_type": "code",
   "execution_count": 7,
   "id": "3fdfca89",
   "metadata": {},
   "outputs": [
    {
     "name": "stdout",
     "output_type": "stream",
     "text": [
      "1\n",
      "4\n"
     ]
    }
   ],
   "source": [
    "print(a // b) # // 연산 의미 : 나눈 몫을 의미!\n",
    "print(a % b) # % 연산 의미 : 나누고 난 나머지!"
   ]
  },
  {
   "cell_type": "code",
   "execution_count": 8,
   "id": "3e59587e",
   "metadata": {},
   "outputs": [
    {
     "name": "stdout",
     "output_type": "stream",
     "text": [
      "<class 'str'>\n"
     ]
    }
   ],
   "source": [
    "# str : 문자\n",
    "\n",
    "s1 = \"문자\" # 문자데이터는 반드시 큰 따옴표 혹은 작은 따옴표로 표기해야 한다!\n",
    "print(type(s1))"
   ]
  },
  {
   "cell_type": "code",
   "execution_count": 9,
   "id": "5071f56e",
   "metadata": {},
   "outputs": [
    {
     "data": {
      "text/plain": [
       "'가나다라마바사'"
      ]
     },
     "execution_count": 9,
     "metadata": {},
     "output_type": "execute_result"
    }
   ],
   "source": [
    "s2 = \"가나다라마바사\"\n",
    "s2"
   ]
  },
  {
   "cell_type": "code",
   "execution_count": 10,
   "id": "41f75d41",
   "metadata": {
    "scrolled": true
   },
   "outputs": [
    {
     "name": "stdout",
     "output_type": "stream",
     "text": [
      "산토끼\n"
     ]
    }
   ],
   "source": [
    "s3 = \"산\"\n",
    "s4 = \"토끼\"\n",
    "print(s3 + s4)"
   ]
  },
  {
   "cell_type": "code",
   "execution_count": 11,
   "id": "d782707c",
   "metadata": {},
   "outputs": [
    {
     "data": {
      "text/plain": [
       "[1, 2, 3, 4, 5]"
      ]
     },
     "execution_count": 11,
     "metadata": {},
     "output_type": "execute_result"
    }
   ],
   "source": [
    "# list : 리스트, 순서대로 나열된 집합\n",
    "# 리스트명 = [원소1, 원소2, ... , 원소n]\n",
    "\n",
    "li = [1, 2, 3, 4, 5]\n",
    "li"
   ]
  },
  {
   "cell_type": "code",
   "execution_count": 12,
   "id": "82e68ab0",
   "metadata": {},
   "outputs": [
    {
     "data": {
      "text/plain": [
       "'라'"
      ]
     },
     "execution_count": 12,
     "metadata": {},
     "output_type": "execute_result"
    }
   ],
   "source": [
    "# 리스트에서는 순서대로 나열된 집합으로, 순서를 이용해 개별 원소를 선택할 수 있다\n",
    "# 왼쪽에서부터 0번 부터 시작, 오른쪽에서부터 -1 부터 시작함\n",
    "# 하나의 원소에 대해 접근하는 걸 '인덱싱' 이라고 함\n",
    "\n",
    "li = ['가', '나', '다', '라', '마']\n",
    "li[3]"
   ]
  },
  {
   "cell_type": "code",
   "execution_count": 13,
   "id": "a64513c8",
   "metadata": {},
   "outputs": [
    {
     "name": "stdout",
     "output_type": "stream",
     "text": [
      "마\n"
     ]
    }
   ],
   "source": [
    "print(li[-1])"
   ]
  },
  {
   "cell_type": "code",
   "execution_count": 14,
   "id": "b8744f01",
   "metadata": {},
   "outputs": [
    {
     "name": "stdout",
     "output_type": "stream",
     "text": [
      "라\n",
      "라\n"
     ]
    }
   ],
   "source": [
    "# 라 글자 출력\n",
    "print(li[3])\n",
    "print(li[-2])"
   ]
  },
  {
   "cell_type": "code",
   "execution_count": 15,
   "id": "8b6989c1",
   "metadata": {},
   "outputs": [
    {
     "name": "stdout",
     "output_type": "stream",
     "text": [
      "['나', '다', '라']\n",
      "['나', '다', '라']\n",
      "['나', '다', '라']\n",
      "['나', '다', '라']\n"
     ]
    }
   ],
   "source": [
    "# 하나의 원소가 아니라 특정 구간을 가져오는 방식을 '슬라이싱'이라고 함\n",
    "# 슬라이싱 : 리스트이름[ 시작인덱스번호 : 마지막인덱스번호 ]\n",
    "\n",
    "# 나, 다, 라 선택\n",
    "\n",
    "li[1:4] # 종료되는 위치, 종료 위치의 데이터는 포함하지 않음\n",
    "print(li[1:4])\n",
    "print(li[-4:4])\n",
    "print(li[-4:-1])\n",
    "print(li[1:-1])\n",
    "# 총 4가지 방식이 존재!"
   ]
  },
  {
   "cell_type": "code",
   "execution_count": 16,
   "id": "eee86d12",
   "metadata": {
    "scrolled": true
   },
   "outputs": [
    {
     "name": "stdout",
     "output_type": "stream",
     "text": [
      "['나', '다', '라', '마']\n",
      "['가', '나', '다', '라']\n"
     ]
    }
   ],
   "source": [
    "print(li[-4:]) # 끝나는 위치를 비우면 끝까지 \n",
    "print(li[:4]) # 시작 위치를 비우면 처음부터"
   ]
  },
  {
   "cell_type": "code",
   "execution_count": 17,
   "id": "a4ff7ef7",
   "metadata": {},
   "outputs": [
    {
     "name": "stdout",
     "output_type": "stream",
     "text": [
      "5\n"
     ]
    }
   ],
   "source": [
    "print(len(li)) # len : 괄호, 그룹에 들어간 원소의 개수(길이)를 출력"
   ]
  },
  {
   "cell_type": "code",
   "execution_count": 18,
   "id": "4cf1fb49",
   "metadata": {},
   "outputs": [
    {
     "data": {
      "text/plain": [
       "3"
      ]
     },
     "execution_count": 18,
     "metadata": {},
     "output_type": "execute_result"
    }
   ],
   "source": [
    "len(\"문자열\")\n",
    "# 문자열이라는 스트링에서는 총 3개의 원소를 가지고 있다는 것 확인 가능! \n",
    "# 각각의 글자, 문자가 하나의 원소로 되어 있음"
   ]
  },
  {
   "cell_type": "code",
   "execution_count": 19,
   "id": "b01c3b91",
   "metadata": {},
   "outputs": [
    {
     "name": "stdout",
     "output_type": "stream",
     "text": [
      "['사과', '감', '바나나', '파인애플', 1, 3, 5, 7, 9]\n",
      "[1, 3, 5, 7, 9, '사과', '감', '바나나', '파인애플']\n",
      "['사과', '감', '바나나', '파인애플', 1, 3, 5, 7, 9]\n"
     ]
    }
   ],
   "source": [
    "# 리스트 + 리스트 \n",
    "li1 = ['사과','감','바나나','파인애플']\n",
    "li2 = [1, 3, 5, 7, 9]\n",
    "\n",
    "print (li1 + li2)\n",
    "print (li2 + li1) # 더하는 리스트 순서대로 나옴\n",
    "\n",
    "li_total = li1 + li2\n",
    "print (li_total)"
   ]
  },
  {
   "cell_type": "code",
   "execution_count": 20,
   "id": "506d4c2a",
   "metadata": {},
   "outputs": [
    {
     "name": "stdout",
     "output_type": "stream",
     "text": [
      "['원숭이', '코끼리', '바나나', [2, 4, 6, 8, 10]]\n"
     ]
    }
   ],
   "source": [
    "li3 = ['원숭이', '코끼리', '바나나']\n",
    "li4 = [2,4,6,8,10]\n",
    "\n",
    "li3.append(li4)\n",
    "print(li3)"
   ]
  },
  {
   "cell_type": "code",
   "execution_count": 21,
   "id": "a51ff1f6",
   "metadata": {},
   "outputs": [
    {
     "name": "stdout",
     "output_type": "stream",
     "text": [
      "4\n"
     ]
    }
   ],
   "source": [
    "print(len(li3))\n",
    "# li4 의 원소들 집합이 li3 에서의 하나의 원소로 추가된 것! "
   ]
  },
  {
   "cell_type": "code",
   "execution_count": 22,
   "id": "df5a5045",
   "metadata": {},
   "outputs": [
    {
     "data": {
      "text/plain": [
       "{'일자': '2020-01-01', '이름': '홍길동', '전화번호': '010-0000-0080'}"
      ]
     },
     "execution_count": 22,
     "metadata": {},
     "output_type": "execute_result"
    }
   ],
   "source": [
    "# 딕셔너리 : 이름과 값을 함께 가지는 그룹형태!\n",
    "# 딕셔너리는 중괄호 기호 사용! \n",
    "# 이름 : 값 형태로 데이터 나열! 데이터는 콤마로 구분함\n",
    "\n",
    "data = {\n",
    "    '일자' : '2020-01-01',\n",
    "    '이름' : '홍길동',\n",
    "    '전화번호' : '010-0000-0080'\n",
    "}\n",
    "data"
   ]
  },
  {
   "cell_type": "code",
   "execution_count": 23,
   "id": "89a144e3",
   "metadata": {},
   "outputs": [
    {
     "data": {
      "text/plain": [
       "dict_keys(['일자', '이름', '전화번호'])"
      ]
     },
     "execution_count": 23,
     "metadata": {},
     "output_type": "execute_result"
    }
   ],
   "source": [
    "data.keys()\n",
    "# key 값 = 명칭 들 만 확인하려면 data.keys() 로 확인 가능! "
   ]
  },
  {
   "cell_type": "code",
   "execution_count": 24,
   "id": "42878185",
   "metadata": {},
   "outputs": [
    {
     "data": {
      "text/plain": [
       "dict_values(['2020-01-01', '홍길동', '010-0000-0080'])"
      ]
     },
     "execution_count": 24,
     "metadata": {},
     "output_type": "execute_result"
    }
   ],
   "source": [
    "data.values()\n",
    "# data의 (key에 매칭되는 실제 값들만 보기)"
   ]
  },
  {
   "cell_type": "code",
   "execution_count": 25,
   "id": "99c4b51f",
   "metadata": {},
   "outputs": [
    {
     "data": {
      "text/plain": [
       "dict_items([('일자', '2020-01-01'), ('이름', '홍길동'), ('전화번호', '010-0000-0080')])"
      ]
     },
     "execution_count": 25,
     "metadata": {},
     "output_type": "execute_result"
    }
   ],
   "source": [
    "data.items()\n",
    "# key와 values를 같이 확인, items 모두 확인"
   ]
  },
  {
   "cell_type": "code",
   "execution_count": 26,
   "id": "468dc706",
   "metadata": {},
   "outputs": [
    {
     "data": {
      "text/plain": [
       "'홍길동'"
      ]
     },
     "execution_count": 26,
     "metadata": {},
     "output_type": "execute_result"
    }
   ],
   "source": [
    "data['이름']"
   ]
  },
  {
   "cell_type": "code",
   "execution_count": 30,
   "id": "8b2211ca",
   "metadata": {},
   "outputs": [
    {
     "data": {
      "text/plain": [
       "{'일자': '2020-01-01', '이름': '홍길동', '전화번호': '010-0000-0080', '나이': 20}"
      ]
     },
     "execution_count": 30,
     "metadata": {},
     "output_type": "execute_result"
    }
   ],
   "source": [
    "#새로운 값 추가\n",
    "data['나이'] = 20\n",
    "data"
   ]
  },
  {
   "cell_type": "code",
   "execution_count": null,
   "id": "bf494a5e",
   "metadata": {},
   "outputs": [],
   "source": []
  }
 ],
 "metadata": {
  "kernelspec": {
   "display_name": "Python 3 (ipykernel)",
   "language": "python",
   "name": "python3"
  },
  "language_info": {
   "codemirror_mode": {
    "name": "ipython",
    "version": 3
   },
   "file_extension": ".py",
   "mimetype": "text/x-python",
   "name": "python",
   "nbconvert_exporter": "python",
   "pygments_lexer": "ipython3",
   "version": "3.9.7"
  }
 },
 "nbformat": 4,
 "nbformat_minor": 5
}
