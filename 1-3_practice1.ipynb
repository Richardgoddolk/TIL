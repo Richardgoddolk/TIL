{
 "cells": [
  {
   "cell_type": "code",
   "execution_count": 1,
   "id": "4e96b149",
   "metadata": {},
   "outputs": [],
   "source": [
    "fruits = ['바나나', '사과', '딸기', '배', '감']"
   ]
  },
  {
   "cell_type": "code",
   "execution_count": 2,
   "id": "b35e2b15",
   "metadata": {},
   "outputs": [
    {
     "name": "stdout",
     "output_type": "stream",
     "text": [
      "바나나\n",
      "사과\n",
      "딸기\n",
      "배\n",
      "감\n"
     ]
    }
   ],
   "source": [
    "for fruit in fruits:\n",
    "    print(fruit)"
   ]
  },
  {
   "cell_type": "code",
   "execution_count": 3,
   "id": "5eec1599",
   "metadata": {},
   "outputs": [
    {
     "name": "stdout",
     "output_type": "stream",
     "text": [
      "감\n"
     ]
    }
   ],
   "source": [
    "print(fruit)"
   ]
  },
  {
   "cell_type": "code",
   "execution_count": 4,
   "id": "5129d95e",
   "metadata": {},
   "outputs": [
    {
     "name": "stdout",
     "output_type": "stream",
     "text": [
      "바나나\n",
      "1\n",
      "사과\n",
      "1\n",
      "딸기\n",
      "1\n",
      "배\n",
      "1\n",
      "감\n",
      "1\n"
     ]
    }
   ],
   "source": [
    "for fruit in fruits:\n",
    "    print(fruit)\n",
    "    print(1)"
   ]
  },
  {
   "cell_type": "code",
   "execution_count": 5,
   "id": "22f74db2",
   "metadata": {},
   "outputs": [
    {
     "name": "stdout",
     "output_type": "stream",
     "text": [
      "바나나\n",
      "사과\n",
      "딸기\n",
      "배\n",
      "감\n",
      "1\n"
     ]
    }
   ],
   "source": [
    "for fruit in fruits:\n",
    "    print(fruit)\n",
    "print(1)"
   ]
  },
  {
   "cell_type": "code",
   "execution_count": 8,
   "id": "f0f677dc",
   "metadata": {},
   "outputs": [
    {
     "name": "stdout",
     "output_type": "stream",
     "text": [
      "짝수입니다.\n"
     ]
    }
   ],
   "source": [
    "n = 20\n",
    "\n",
    "if n < 1 : \n",
    "    print(\"1이상의 자연수를 입력해주세요\")\n",
    "elif n % 2 == 1 :\n",
    "    print(\"홀수입니다.\")\n",
    "else :\n",
    "    print(\"짝수입니다.\")"
   ]
  },
  {
   "cell_type": "code",
   "execution_count": 9,
   "id": "6c2f1f01",
   "metadata": {},
   "outputs": [
    {
     "name": "stdout",
     "output_type": "stream",
     "text": [
      "짝수입니다.\n"
     ]
    }
   ],
   "source": [
    "n = 20\n",
    "\n",
    "if n < 1 : \n",
    "    print(\"1이상의 자연수를 입력해주세요\")\n",
    "elif n % 2 == 1 :\n",
    "    print(\"홀수입니다.\")\n",
    "else :\n",
    "    print(\"짝수입니다.\")"
   ]
  },
  {
   "cell_type": "code",
   "execution_count": 10,
   "id": "62ca1dca",
   "metadata": {},
   "outputs": [],
   "source": [
    "shop_A = ['사과', '배', '파인애플']\n",
    "shop_B = ['딸기', '포도', '사과', '감']"
   ]
  },
  {
   "cell_type": "code",
   "execution_count": 11,
   "id": "e316e0ed",
   "metadata": {},
   "outputs": [
    {
     "name": "stdout",
     "output_type": "stream",
     "text": [
      "B가게가 A가게보다 더 과일수가 많다\n"
     ]
    }
   ],
   "source": [
    "if len(shop_A) > len(shop_B) : \n",
    "    print (\"A가게가 B가게보다 더 과일수가 많다.\")\n",
    "elif len(shop_A) < len(shop_B) : \n",
    "    print ('B가게가 A가게보다 더 과일수가 많다')\n",
    "else :\n",
    "    print('A,B 가게의 과일 수가 같다.')"
   ]
  },
  {
   "cell_type": "code",
   "execution_count": 24,
   "id": "af79a99f",
   "metadata": {},
   "outputs": [
    {
     "data": {
      "text/plain": [
       "False"
      ]
     },
     "execution_count": 24,
     "metadata": {},
     "output_type": "execute_result"
    }
   ],
   "source": [
    "'딸기' in shop_A"
   ]
  },
  {
   "cell_type": "code",
   "execution_count": 12,
   "id": "51378fb4",
   "metadata": {},
   "outputs": [
    {
     "data": {
      "text/plain": [
       "True"
      ]
     },
     "execution_count": 12,
     "metadata": {},
     "output_type": "execute_result"
    }
   ],
   "source": [
    "'딸기' in shop_B"
   ]
  },
  {
   "cell_type": "code",
   "execution_count": 13,
   "id": "be9dfe98",
   "metadata": {},
   "outputs": [
    {
     "name": "stdout",
     "output_type": "stream",
     "text": [
      "딸기 없음\n"
     ]
    }
   ],
   "source": [
    "if \"딸기\" in shop_A : \n",
    "    print (\"딸기 있음\")\n",
    "else : \n",
    "    print(\"딸기 없음\")"
   ]
  },
  {
   "cell_type": "code",
   "execution_count": 14,
   "id": "cf619f12",
   "metadata": {},
   "outputs": [
    {
     "name": "stdout",
     "output_type": "stream",
     "text": [
      "포도 있음\n"
     ]
    }
   ],
   "source": [
    "if \"포도\" not in shop_B : \n",
    "    print(\"포도 없음\")\n",
    "else : \n",
    "    print(\"포도 있음\")"
   ]
  },
  {
   "cell_type": "code",
   "execution_count": 15,
   "id": "8259d963",
   "metadata": {},
   "outputs": [],
   "source": [
    "A = \"태극기\"\n",
    "B = \"태극기가 바람에 펄럭입니다.\""
   ]
  },
  {
   "cell_type": "code",
   "execution_count": 16,
   "id": "c411cfd3",
   "metadata": {},
   "outputs": [
    {
     "name": "stdout",
     "output_type": "stream",
     "text": [
      "A가 B에 포함\n"
     ]
    }
   ],
   "source": [
    "if A == B : \n",
    "    print('일치')\n",
    "elif A in B :\n",
    "    print('A가 B에 포함')\n",
    "else : \n",
    "    print('A와 B는 불일치')"
   ]
  },
  {
   "cell_type": "code",
   "execution_count": 17,
   "id": "904a0638",
   "metadata": {},
   "outputs": [
    {
     "name": "stdout",
     "output_type": "stream",
     "text": [
      "안녕하세요 그린님 만나서 반갑습니다.\n"
     ]
    }
   ],
   "source": [
    "sentence = '안녕하세요 그린님 만나서 반갑습니다.'\n",
    "print(sentence)"
   ]
  },
  {
   "cell_type": "code",
   "execution_count": 18,
   "id": "48fd51f1",
   "metadata": {},
   "outputs": [
    {
     "name": "stdout",
     "output_type": "stream",
     "text": [
      "안녕하세요 그린님 만나서 반갑습니다.\n"
     ]
    }
   ],
   "source": [
    "name = '그린'\n",
    "\n",
    "sentence = f'안녕하세요 {name}님 만나서 반갑습니다.'\n",
    "print(sentence)"
   ]
  },
  {
   "cell_type": "code",
   "execution_count": 1,
   "id": "08da24ba",
   "metadata": {},
   "outputs": [
    {
     "name": "stdout",
     "output_type": "stream",
     "text": [
      "오늘은 12월 25일 입니다.\n"
     ]
    }
   ],
   "source": [
    "month = \"12월\"\n",
    "day = \"25일\"\n",
    "\n",
    "sentence = \"오늘은 {} {} 입니다.\".format(month, day)\n",
    "print(sentence)"
   ]
  },
  {
   "cell_type": "code",
   "execution_count": 2,
   "id": "000ae191",
   "metadata": {},
   "outputs": [
    {
     "name": "stdout",
     "output_type": "stream",
     "text": [
      "오늘은 12월 25일 입니다.\n"
     ]
    }
   ],
   "source": [
    "month = \"12월\"\n",
    "day = \"25일\"\n",
    "\n",
    "sentence = f\"오늘은 {month} {day} 입니다.\"\n",
    "print(sentence)"
   ]
  },
  {
   "cell_type": "code",
   "execution_count": 8,
   "id": "baed32e8",
   "metadata": {},
   "outputs": [
    {
     "name": "stdout",
     "output_type": "stream",
     "text": [
      "\n",
      "\t 태극기가 바람에 펄럭입니다. \n",
      "하늘 높이 하늘 높이 펄럭입니다.\n"
     ]
    }
   ],
   "source": [
    "raw = '\\n\\t 태극기가 바람에 펄럭입니다. \\n하늘 높이 하늘 높이 펄럭입니다.'\n",
    "print(raw)"
   ]
  },
  {
   "cell_type": "code",
   "execution_count": 9,
   "id": "2096ae61",
   "metadata": {},
   "outputs": [
    {
     "name": "stdout",
     "output_type": "stream",
     "text": [
      "태극기가 바람에 펄럭입니다. \n",
      "하늘 높이 하늘 높이 펄럭입니다.\n"
     ]
    }
   ],
   "source": [
    "raw_strip = raw.strip()\n",
    "print(raw_strip)"
   ]
  },
  {
   "cell_type": "code",
   "execution_count": 10,
   "id": "c9712b61",
   "metadata": {},
   "outputs": [
    {
     "name": "stdout",
     "output_type": "stream",
     "text": [
      "태극기가 바람에 펄럭입니다. \n",
      "하늘 높이 하늘 높이 펄럭입니다.\n"
     ]
    }
   ],
   "source": [
    "print(raw_strip)"
   ]
  },
  {
   "cell_type": "code",
   "execution_count": 11,
   "id": "b2775c5b",
   "metadata": {},
   "outputs": [
    {
     "name": "stdout",
     "output_type": "stream",
     "text": [
      "국기가 바람에 펄럭입니다. \n",
      "하늘 높이 하늘 높이 펄럭입니다.\n"
     ]
    }
   ],
   "source": [
    "raw_edit = raw_strip.replace(\"태극기\", \"국기\")\n",
    "print(raw_edit)"
   ]
  },
  {
   "cell_type": "code",
   "execution_count": 12,
   "id": "324eb43a",
   "metadata": {},
   "outputs": [
    {
     "data": {
      "text/plain": [
       "['미국', '중국', '일본', '러시아', '베트남', '태국']"
      ]
     },
     "execution_count": 12,
     "metadata": {},
     "output_type": "execute_result"
    }
   ],
   "source": [
    "data = \"미국/중국/일본/러시아/베트남/태국\"\n",
    "\n",
    "data.split('/')"
   ]
  },
  {
   "cell_type": "code",
   "execution_count": 13,
   "id": "49f9a58a",
   "metadata": {},
   "outputs": [],
   "source": [
    "def gob(a, b):\n",
    "    result = a * b\n",
    "    return result"
   ]
  },
  {
   "cell_type": "code",
   "execution_count": 16,
   "id": "72d38308",
   "metadata": {},
   "outputs": [
    {
     "data": {
      "text/plain": [
       "3"
      ]
     },
     "execution_count": 16,
     "metadata": {},
     "output_type": "execute_result"
    }
   ],
   "source": [
    "gob(1, 3)"
   ]
  },
  {
   "cell_type": "code",
   "execution_count": 17,
   "id": "a34ce826",
   "metadata": {},
   "outputs": [
    {
     "data": {
      "text/plain": [
       "20"
      ]
     },
     "execution_count": 17,
     "metadata": {},
     "output_type": "execute_result"
    }
   ],
   "source": [
    "gob(4, 5)"
   ]
  },
  {
   "cell_type": "code",
   "execution_count": 22,
   "id": "b9226cb4",
   "metadata": {},
   "outputs": [
    {
     "name": "stdout",
     "output_type": "stream",
     "text": [
      "1 x 1 = 1\n",
      "1 x 2 = 2\n",
      "1 x 3 = 3\n",
      "1 x 4 = 4\n",
      "1 x 5 = 5\n",
      "1 x 6 = 6\n",
      "1 x 7 = 7\n",
      "1 x 8 = 8\n",
      "1 x 9 = 9\n",
      "********\n",
      "2 x 1 = 2\n",
      "2 x 2 = 4\n",
      "2 x 3 = 6\n",
      "2 x 4 = 8\n",
      "2 x 5 = 10\n",
      "2 x 6 = 12\n",
      "2 x 7 = 14\n",
      "2 x 8 = 16\n",
      "2 x 9 = 18\n",
      "********\n",
      "3 x 1 = 3\n",
      "3 x 2 = 6\n",
      "3 x 3 = 9\n",
      "3 x 4 = 12\n",
      "3 x 5 = 15\n",
      "3 x 6 = 18\n",
      "3 x 7 = 21\n",
      "3 x 8 = 24\n",
      "3 x 9 = 27\n",
      "********\n",
      "4 x 1 = 4\n",
      "4 x 2 = 8\n",
      "4 x 3 = 12\n",
      "4 x 4 = 16\n",
      "4 x 5 = 20\n",
      "4 x 6 = 24\n",
      "4 x 7 = 28\n",
      "4 x 8 = 32\n",
      "4 x 9 = 36\n",
      "********\n",
      "5 x 1 = 5\n",
      "5 x 2 = 10\n",
      "5 x 3 = 15\n",
      "5 x 4 = 20\n",
      "5 x 5 = 25\n",
      "5 x 6 = 30\n",
      "5 x 7 = 35\n",
      "5 x 8 = 40\n",
      "5 x 9 = 45\n",
      "********\n",
      "6 x 1 = 6\n",
      "6 x 2 = 12\n",
      "6 x 3 = 18\n",
      "6 x 4 = 24\n",
      "6 x 5 = 30\n",
      "6 x 6 = 36\n",
      "6 x 7 = 42\n",
      "6 x 8 = 48\n",
      "6 x 9 = 54\n",
      "********\n",
      "7 x 1 = 7\n",
      "7 x 2 = 14\n",
      "7 x 3 = 21\n",
      "7 x 4 = 28\n",
      "7 x 5 = 35\n",
      "7 x 6 = 42\n",
      "7 x 7 = 49\n",
      "7 x 8 = 56\n",
      "7 x 9 = 63\n",
      "********\n",
      "8 x 1 = 8\n",
      "8 x 2 = 16\n",
      "8 x 3 = 24\n",
      "8 x 4 = 32\n",
      "8 x 5 = 40\n",
      "8 x 6 = 48\n",
      "8 x 7 = 56\n",
      "8 x 8 = 64\n",
      "8 x 9 = 72\n",
      "********\n",
      "9 x 1 = 9\n",
      "9 x 2 = 18\n",
      "9 x 3 = 27\n",
      "9 x 4 = 36\n",
      "9 x 5 = 45\n",
      "9 x 6 = 54\n",
      "9 x 7 = 63\n",
      "9 x 8 = 72\n",
      "9 x 9 = 81\n",
      "********\n"
     ]
    }
   ],
   "source": [
    "a = 2\n",
    "for a in [1,2,3,4,5,6,7,8,9]:\n",
    "    \n",
    "    for b in [1,2,3,4,5,6,7,8,9]:\n",
    "        구구단 = f\"{a} x {b} = {gob(a,b)}\"\n",
    "        print(구구단)\n",
    "    print('********')"
   ]
  },
  {
   "cell_type": "code",
   "execution_count": null,
   "id": "cc374965",
   "metadata": {},
   "outputs": [],
   "source": []
  }
 ],
 "metadata": {
  "kernelspec": {
   "display_name": "Python 3 (ipykernel)",
   "language": "python",
   "name": "python3"
  },
  "language_info": {
   "codemirror_mode": {
    "name": "ipython",
    "version": 3
   },
   "file_extension": ".py",
   "mimetype": "text/x-python",
   "name": "python",
   "nbconvert_exporter": "python",
   "pygments_lexer": "ipython3",
   "version": "3.9.7"
  }
 },
 "nbformat": 4,
 "nbformat_minor": 5
}
