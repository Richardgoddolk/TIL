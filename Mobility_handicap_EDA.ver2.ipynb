{
 "cells": [
  {
   "cell_type": "markdown",
   "id": "874d8ae0-fd18-43fe-ac09-02516abf1882",
   "metadata": {},
   "source": [
    "# Import Library "
   ]
  },
  {
   "cell_type": "code",
   "execution_count": 1,
   "id": "385b24f7-6f59-4711-960b-6fe2eba6e1b3",
   "metadata": {},
   "outputs": [],
   "source": [
    "import pandas as pd\n",
    "import numpy as np\n",
    "import matplotlib.pyplot as plt\n",
    "from matplotlib import font_manager, rc\n",
    "plt.rc(\"font\", family = \"Malgun Gothic\")\n",
    "\n",
    "import platform\n",
    "import seaborn as sns\n",
    "sns.set(rc={'figure.figsize':(11.7,8.27)})\n",
    "sns.set(font=\"Malgun Gothic\", \n",
    "rc={\"axes.unicode_minus\":False}, style='darkgrid')\n",
    "\n",
    "from datetime import datetime\n",
    "\n"
   ]
  },
  {
   "cell_type": "code",
   "execution_count": 2,
   "id": "91f5542e-27f6-483e-ac0e-61e41cc5d5aa",
   "metadata": {},
   "outputs": [],
   "source": [
    "# import os\n",
    "# path = os.getcwd()\n",
    "# print(path)"
   ]
  },
  {
   "cell_type": "markdown",
   "id": "cecd2559-cc6f-42d2-95f4-f95492814ea3",
   "metadata": {
    "tags": []
   },
   "source": [
    "# Import Data"
   ]
  },
  {
   "cell_type": "code",
   "execution_count": 3,
   "id": "34ba70f2-324e-4308-9430-782fe52d93b6",
   "metadata": {},
   "outputs": [
    {
     "data": {
      "text/html": [
       "<div>\n",
       "<style scoped>\n",
       "    .dataframe tbody tr th:only-of-type {\n",
       "        vertical-align: middle;\n",
       "    }\n",
       "\n",
       "    .dataframe tbody tr th {\n",
       "        vertical-align: top;\n",
       "    }\n",
       "\n",
       "    .dataframe thead th {\n",
       "        text-align: right;\n",
       "    }\n",
       "</style>\n",
       "<table border=\"1\" class=\"dataframe\">\n",
       "  <thead>\n",
       "    <tr style=\"text-align: right;\">\n",
       "      <th></th>\n",
       "      <th>Column1</th>\n",
       "      <th>no</th>\n",
       "      <th>cartype</th>\n",
       "      <th>receipttime</th>\n",
       "      <th>settime</th>\n",
       "      <th>ridetime</th>\n",
       "      <th>startpos1</th>\n",
       "      <th>startpos2</th>\n",
       "      <th>endpos1</th>\n",
       "      <th>endpos2</th>\n",
       "    </tr>\n",
       "  </thead>\n",
       "  <tbody>\n",
       "    <tr>\n",
       "      <th>0</th>\n",
       "      <td>0</td>\n",
       "      <td>7658</td>\n",
       "      <td>중형승합</td>\n",
       "      <td>2018-01-23 00:04:00</td>\n",
       "      <td>2018-01-23 00:18:42</td>\n",
       "      <td>2018-01-23 00:34:08</td>\n",
       "      <td>성북구</td>\n",
       "      <td>장위제1동</td>\n",
       "      <td>동대문구</td>\n",
       "      <td>회기동</td>\n",
       "    </tr>\n",
       "    <tr>\n",
       "      <th>1</th>\n",
       "      <td>1</td>\n",
       "      <td>1551</td>\n",
       "      <td>중형 승합</td>\n",
       "      <td>2018-01-23 00:17:00</td>\n",
       "      <td>2018-01-23 00:50:37</td>\n",
       "      <td>2018-01-23 01:19:22</td>\n",
       "      <td>중랑구</td>\n",
       "      <td>면목제7동</td>\n",
       "      <td>노원구</td>\n",
       "      <td>상계1동</td>\n",
       "    </tr>\n",
       "    <tr>\n",
       "      <th>2</th>\n",
       "      <td>2</td>\n",
       "      <td>5804</td>\n",
       "      <td>중형승합</td>\n",
       "      <td>2018-01-23 00:30:00</td>\n",
       "      <td>2018-01-23 00:17:06</td>\n",
       "      <td>2018-01-23 00:17:39</td>\n",
       "      <td>성북구</td>\n",
       "      <td>정릉제3동</td>\n",
       "      <td>강북구</td>\n",
       "      <td>수유제3동</td>\n",
       "    </tr>\n",
       "    <tr>\n",
       "      <th>3</th>\n",
       "      <td>3</td>\n",
       "      <td>7650</td>\n",
       "      <td>중형승합</td>\n",
       "      <td>2018-01-23 00:47:00</td>\n",
       "      <td>2018-01-23 00:51:19</td>\n",
       "      <td>2018-01-23 01:09:33</td>\n",
       "      <td>구로구</td>\n",
       "      <td>고척제2동</td>\n",
       "      <td>관악구</td>\n",
       "      <td>은천동</td>\n",
       "    </tr>\n",
       "    <tr>\n",
       "      <th>4</th>\n",
       "      <td>4</td>\n",
       "      <td>1061</td>\n",
       "      <td>중형승합</td>\n",
       "      <td>2018-01-23 01:08:00</td>\n",
       "      <td>2018-01-23 01:44:17</td>\n",
       "      <td>2018-01-23 02:06:53</td>\n",
       "      <td>동대문구</td>\n",
       "      <td>회기동</td>\n",
       "      <td>성북구</td>\n",
       "      <td>장위제2동</td>\n",
       "    </tr>\n",
       "    <tr>\n",
       "      <th>5</th>\n",
       "      <td>5</td>\n",
       "      <td>9568</td>\n",
       "      <td>중형승합</td>\n",
       "      <td>2018-01-23 01:11:00</td>\n",
       "      <td>2018-01-23 01:20:37</td>\n",
       "      <td>2018-01-23 01:55:30</td>\n",
       "      <td>마포구</td>\n",
       "      <td>도화동</td>\n",
       "      <td>부천시소사구</td>\n",
       "      <td>심곡본1동</td>\n",
       "    </tr>\n",
       "    <tr>\n",
       "      <th>6</th>\n",
       "      <td>6</td>\n",
       "      <td>1551</td>\n",
       "      <td>중형 승합</td>\n",
       "      <td>2018-01-23 01:22:00</td>\n",
       "      <td>2018-01-23 01:40:01</td>\n",
       "      <td>2018-01-23 02:05:23</td>\n",
       "      <td>중랑구</td>\n",
       "      <td>상봉제1동</td>\n",
       "      <td>중랑구</td>\n",
       "      <td>신내2동</td>\n",
       "    </tr>\n",
       "    <tr>\n",
       "      <th>7</th>\n",
       "      <td>7</td>\n",
       "      <td>9539</td>\n",
       "      <td>중형승합</td>\n",
       "      <td>2018-01-23 01:26:00</td>\n",
       "      <td>2018-01-23 02:39:02</td>\n",
       "      <td>2018-01-23 02:56:38</td>\n",
       "      <td>영등포구</td>\n",
       "      <td>여의동</td>\n",
       "      <td>성북구</td>\n",
       "      <td>돈암제2동</td>\n",
       "    </tr>\n",
       "    <tr>\n",
       "      <th>8</th>\n",
       "      <td>8</td>\n",
       "      <td>7638</td>\n",
       "      <td>중형승합</td>\n",
       "      <td>2018-01-23 01:41:00</td>\n",
       "      <td>2018-01-23 01:54:28</td>\n",
       "      <td>2018-01-23 02:13:05</td>\n",
       "      <td>광진구</td>\n",
       "      <td>구의제1동</td>\n",
       "      <td>광진구</td>\n",
       "      <td>능동</td>\n",
       "    </tr>\n",
       "    <tr>\n",
       "      <th>9</th>\n",
       "      <td>9</td>\n",
       "      <td>9566</td>\n",
       "      <td>중형승합</td>\n",
       "      <td>2018-01-23 01:41:00</td>\n",
       "      <td>2018-01-23 02:34:34</td>\n",
       "      <td>2018-01-23 03:00:01</td>\n",
       "      <td>종로구</td>\n",
       "      <td>청운효자동</td>\n",
       "      <td>성동구</td>\n",
       "      <td>행당제1동</td>\n",
       "    </tr>\n",
       "  </tbody>\n",
       "</table>\n",
       "</div>"
      ],
      "text/plain": [
       "   Column1    no cartype         receipttime             settime  \\\n",
       "0        0  7658    중형승합 2018-01-23 00:04:00 2018-01-23 00:18:42   \n",
       "1        1  1551   중형 승합 2018-01-23 00:17:00 2018-01-23 00:50:37   \n",
       "2        2  5804    중형승합 2018-01-23 00:30:00 2018-01-23 00:17:06   \n",
       "3        3  7650    중형승합 2018-01-23 00:47:00 2018-01-23 00:51:19   \n",
       "4        4  1061    중형승합 2018-01-23 01:08:00 2018-01-23 01:44:17   \n",
       "5        5  9568    중형승합 2018-01-23 01:11:00 2018-01-23 01:20:37   \n",
       "6        6  1551   중형 승합 2018-01-23 01:22:00 2018-01-23 01:40:01   \n",
       "7        7  9539    중형승합 2018-01-23 01:26:00 2018-01-23 02:39:02   \n",
       "8        8  7638    중형승합 2018-01-23 01:41:00 2018-01-23 01:54:28   \n",
       "9        9  9566    중형승합 2018-01-23 01:41:00 2018-01-23 02:34:34   \n",
       "\n",
       "             ridetime startpos1 startpos2 endpos1 endpos2  \n",
       "0 2018-01-23 00:34:08       성북구     장위제1동    동대문구     회기동  \n",
       "1 2018-01-23 01:19:22       중랑구     면목제7동     노원구    상계1동  \n",
       "2 2018-01-23 00:17:39       성북구     정릉제3동     강북구   수유제3동  \n",
       "3 2018-01-23 01:09:33       구로구     고척제2동     관악구     은천동  \n",
       "4 2018-01-23 02:06:53      동대문구       회기동     성북구   장위제2동  \n",
       "5 2018-01-23 01:55:30       마포구       도화동  부천시소사구   심곡본1동  \n",
       "6 2018-01-23 02:05:23       중랑구     상봉제1동     중랑구    신내2동  \n",
       "7 2018-01-23 02:56:38      영등포구       여의동     성북구   돈암제2동  \n",
       "8 2018-01-23 02:13:05       광진구     구의제1동     광진구      능동  \n",
       "9 2018-01-23 03:00:01       종로구     청운효자동     성동구   행당제1동  "
      ]
     },
     "execution_count": 3,
     "metadata": {},
     "output_type": "execute_result"
    }
   ],
   "source": [
    "df1 = pd.read_excel('master_data.xlsx')\n",
    "df1.head(10)"
   ]
  },
  {
   "cell_type": "code",
   "execution_count": 4,
   "id": "551eaff2-bfc2-4cc8-a707-5d307989b83f",
   "metadata": {},
   "outputs": [
    {
     "data": {
      "text/plain": [
       "(407613, 10)"
      ]
     },
     "execution_count": 4,
     "metadata": {},
     "output_type": "execute_result"
    }
   ],
   "source": [
    "df1.shape"
   ]
  },
  {
   "cell_type": "code",
   "execution_count": 5,
   "id": "4414567f-878a-4a60-a085-6f1662bb202a",
   "metadata": {},
   "outputs": [
    {
     "name": "stdout",
     "output_type": "stream",
     "text": [
      "<class 'pandas.core.frame.DataFrame'>\n",
      "RangeIndex: 407613 entries, 0 to 407612\n",
      "Data columns (total 10 columns):\n",
      " #   Column       Non-Null Count   Dtype         \n",
      "---  ------       --------------   -----         \n",
      " 0   Column1      407613 non-null  int64         \n",
      " 1   no           407613 non-null  int64         \n",
      " 2   cartype      407603 non-null  object        \n",
      " 3   receipttime  407613 non-null  datetime64[ns]\n",
      " 4   settime      407583 non-null  datetime64[ns]\n",
      " 5   ridetime     407603 non-null  datetime64[ns]\n",
      " 6   startpos1    407613 non-null  object        \n",
      " 7   startpos2    407613 non-null  object        \n",
      " 8   endpos1      407613 non-null  object        \n",
      " 9   endpos2      407613 non-null  object        \n",
      "dtypes: datetime64[ns](3), int64(2), object(5)\n",
      "memory usage: 31.1+ MB\n"
     ]
    }
   ],
   "source": [
    "df1.info()"
   ]
  },
  {
   "cell_type": "code",
   "execution_count": 6,
   "id": "e6c0866a-6bd8-4ffd-ac33-1266ce9fe83d",
   "metadata": {},
   "outputs": [
    {
     "data": {
      "text/plain": [
       "Index(['Column1', 'no', 'cartype', 'receipttime', 'settime', 'ridetime',\n",
       "       'startpos1', 'startpos2', 'endpos1', 'endpos2'],\n",
       "      dtype='object')"
      ]
     },
     "execution_count": 6,
     "metadata": {},
     "output_type": "execute_result"
    }
   ],
   "source": [
    "df1.columns"
   ]
  },
  {
   "cell_type": "code",
   "execution_count": 7,
   "id": "4219fafc-8fe2-4aa1-b0c9-0aab31bae247",
   "metadata": {},
   "outputs": [
    {
     "data": {
      "text/plain": [
       "dtype('O')"
      ]
     },
     "execution_count": 7,
     "metadata": {},
     "output_type": "execute_result"
    }
   ],
   "source": [
    "df1['cartype'].dtype"
   ]
  },
  {
   "cell_type": "code",
   "execution_count": 8,
   "id": "35ba88ac-81c7-44e3-9345-e4924cfc1fed",
   "metadata": {},
   "outputs": [
    {
     "data": {
      "text/html": [
       "<div>\n",
       "<style scoped>\n",
       "    .dataframe tbody tr th:only-of-type {\n",
       "        vertical-align: middle;\n",
       "    }\n",
       "\n",
       "    .dataframe tbody tr th {\n",
       "        vertical-align: top;\n",
       "    }\n",
       "\n",
       "    .dataframe thead th {\n",
       "        text-align: right;\n",
       "    }\n",
       "</style>\n",
       "<table border=\"1\" class=\"dataframe\">\n",
       "  <thead>\n",
       "    <tr style=\"text-align: right;\">\n",
       "      <th></th>\n",
       "      <th>Column1</th>\n",
       "      <th>no</th>\n",
       "      <th>cartype</th>\n",
       "      <th>receipttime</th>\n",
       "      <th>settime</th>\n",
       "      <th>ridetime</th>\n",
       "      <th>startpos1</th>\n",
       "      <th>startpos2</th>\n",
       "      <th>endpos1</th>\n",
       "      <th>endpos2</th>\n",
       "    </tr>\n",
       "  </thead>\n",
       "  <tbody>\n",
       "    <tr>\n",
       "      <th>0</th>\n",
       "      <td>False</td>\n",
       "      <td>False</td>\n",
       "      <td>False</td>\n",
       "      <td>False</td>\n",
       "      <td>False</td>\n",
       "      <td>False</td>\n",
       "      <td>False</td>\n",
       "      <td>False</td>\n",
       "      <td>False</td>\n",
       "      <td>False</td>\n",
       "    </tr>\n",
       "    <tr>\n",
       "      <th>1</th>\n",
       "      <td>False</td>\n",
       "      <td>False</td>\n",
       "      <td>False</td>\n",
       "      <td>False</td>\n",
       "      <td>False</td>\n",
       "      <td>False</td>\n",
       "      <td>False</td>\n",
       "      <td>False</td>\n",
       "      <td>False</td>\n",
       "      <td>False</td>\n",
       "    </tr>\n",
       "    <tr>\n",
       "      <th>2</th>\n",
       "      <td>False</td>\n",
       "      <td>False</td>\n",
       "      <td>False</td>\n",
       "      <td>False</td>\n",
       "      <td>False</td>\n",
       "      <td>False</td>\n",
       "      <td>False</td>\n",
       "      <td>False</td>\n",
       "      <td>False</td>\n",
       "      <td>False</td>\n",
       "    </tr>\n",
       "    <tr>\n",
       "      <th>3</th>\n",
       "      <td>False</td>\n",
       "      <td>False</td>\n",
       "      <td>False</td>\n",
       "      <td>False</td>\n",
       "      <td>False</td>\n",
       "      <td>False</td>\n",
       "      <td>False</td>\n",
       "      <td>False</td>\n",
       "      <td>False</td>\n",
       "      <td>False</td>\n",
       "    </tr>\n",
       "    <tr>\n",
       "      <th>4</th>\n",
       "      <td>False</td>\n",
       "      <td>False</td>\n",
       "      <td>False</td>\n",
       "      <td>False</td>\n",
       "      <td>False</td>\n",
       "      <td>False</td>\n",
       "      <td>False</td>\n",
       "      <td>False</td>\n",
       "      <td>False</td>\n",
       "      <td>False</td>\n",
       "    </tr>\n",
       "    <tr>\n",
       "      <th>...</th>\n",
       "      <td>...</td>\n",
       "      <td>...</td>\n",
       "      <td>...</td>\n",
       "      <td>...</td>\n",
       "      <td>...</td>\n",
       "      <td>...</td>\n",
       "      <td>...</td>\n",
       "      <td>...</td>\n",
       "      <td>...</td>\n",
       "      <td>...</td>\n",
       "    </tr>\n",
       "    <tr>\n",
       "      <th>407608</th>\n",
       "      <td>False</td>\n",
       "      <td>False</td>\n",
       "      <td>False</td>\n",
       "      <td>False</td>\n",
       "      <td>False</td>\n",
       "      <td>False</td>\n",
       "      <td>False</td>\n",
       "      <td>False</td>\n",
       "      <td>False</td>\n",
       "      <td>False</td>\n",
       "    </tr>\n",
       "    <tr>\n",
       "      <th>407609</th>\n",
       "      <td>False</td>\n",
       "      <td>False</td>\n",
       "      <td>False</td>\n",
       "      <td>False</td>\n",
       "      <td>False</td>\n",
       "      <td>False</td>\n",
       "      <td>False</td>\n",
       "      <td>False</td>\n",
       "      <td>False</td>\n",
       "      <td>False</td>\n",
       "    </tr>\n",
       "    <tr>\n",
       "      <th>407610</th>\n",
       "      <td>False</td>\n",
       "      <td>False</td>\n",
       "      <td>False</td>\n",
       "      <td>False</td>\n",
       "      <td>False</td>\n",
       "      <td>False</td>\n",
       "      <td>False</td>\n",
       "      <td>False</td>\n",
       "      <td>False</td>\n",
       "      <td>False</td>\n",
       "    </tr>\n",
       "    <tr>\n",
       "      <th>407611</th>\n",
       "      <td>False</td>\n",
       "      <td>False</td>\n",
       "      <td>False</td>\n",
       "      <td>False</td>\n",
       "      <td>False</td>\n",
       "      <td>False</td>\n",
       "      <td>False</td>\n",
       "      <td>False</td>\n",
       "      <td>False</td>\n",
       "      <td>False</td>\n",
       "    </tr>\n",
       "    <tr>\n",
       "      <th>407612</th>\n",
       "      <td>False</td>\n",
       "      <td>False</td>\n",
       "      <td>False</td>\n",
       "      <td>False</td>\n",
       "      <td>False</td>\n",
       "      <td>False</td>\n",
       "      <td>False</td>\n",
       "      <td>False</td>\n",
       "      <td>False</td>\n",
       "      <td>False</td>\n",
       "    </tr>\n",
       "  </tbody>\n",
       "</table>\n",
       "<p>407613 rows × 10 columns</p>\n",
       "</div>"
      ],
      "text/plain": [
       "        Column1     no  cartype  receipttime  settime  ridetime  startpos1  \\\n",
       "0         False  False    False        False    False     False      False   \n",
       "1         False  False    False        False    False     False      False   \n",
       "2         False  False    False        False    False     False      False   \n",
       "3         False  False    False        False    False     False      False   \n",
       "4         False  False    False        False    False     False      False   \n",
       "...         ...    ...      ...          ...      ...       ...        ...   \n",
       "407608    False  False    False        False    False     False      False   \n",
       "407609    False  False    False        False    False     False      False   \n",
       "407610    False  False    False        False    False     False      False   \n",
       "407611    False  False    False        False    False     False      False   \n",
       "407612    False  False    False        False    False     False      False   \n",
       "\n",
       "        startpos2  endpos1  endpos2  \n",
       "0           False    False    False  \n",
       "1           False    False    False  \n",
       "2           False    False    False  \n",
       "3           False    False    False  \n",
       "4           False    False    False  \n",
       "...           ...      ...      ...  \n",
       "407608      False    False    False  \n",
       "407609      False    False    False  \n",
       "407610      False    False    False  \n",
       "407611      False    False    False  \n",
       "407612      False    False    False  \n",
       "\n",
       "[407613 rows x 10 columns]"
      ]
     },
     "execution_count": 8,
     "metadata": {},
     "output_type": "execute_result"
    }
   ],
   "source": [
    "df1.isnull()"
   ]
  },
  {
   "cell_type": "code",
   "execution_count": 9,
   "id": "b2f8c7e6-a7f5-46eb-b36b-8f20de630fae",
   "metadata": {},
   "outputs": [
    {
     "data": {
      "text/plain": [
       "Column1         0\n",
       "no              0\n",
       "cartype        10\n",
       "receipttime     0\n",
       "settime        30\n",
       "ridetime       10\n",
       "startpos1       0\n",
       "startpos2       0\n",
       "endpos1         0\n",
       "endpos2         0\n",
       "dtype: int64"
      ]
     },
     "execution_count": 9,
     "metadata": {},
     "output_type": "execute_result"
    }
   ],
   "source": [
    "df1.isnull().sum()"
   ]
  },
  {
   "cell_type": "code",
   "execution_count": 10,
   "id": "4fb4a4de-28f9-4336-8709-721086cb3ccf",
   "metadata": {},
   "outputs": [
    {
     "data": {
      "text/html": [
       "<div>\n",
       "<style scoped>\n",
       "    .dataframe tbody tr th:only-of-type {\n",
       "        vertical-align: middle;\n",
       "    }\n",
       "\n",
       "    .dataframe tbody tr th {\n",
       "        vertical-align: top;\n",
       "    }\n",
       "\n",
       "    .dataframe thead th {\n",
       "        text-align: right;\n",
       "    }\n",
       "</style>\n",
       "<table border=\"1\" class=\"dataframe\">\n",
       "  <thead>\n",
       "    <tr style=\"text-align: right;\">\n",
       "      <th></th>\n",
       "      <th>nan_ratio</th>\n",
       "    </tr>\n",
       "  </thead>\n",
       "  <tbody>\n",
       "    <tr>\n",
       "      <th>Column1</th>\n",
       "      <td>0.000000</td>\n",
       "    </tr>\n",
       "    <tr>\n",
       "      <th>no</th>\n",
       "      <td>0.000000</td>\n",
       "    </tr>\n",
       "    <tr>\n",
       "      <th>cartype</th>\n",
       "      <td>0.000025</td>\n",
       "    </tr>\n",
       "    <tr>\n",
       "      <th>receipttime</th>\n",
       "      <td>0.000000</td>\n",
       "    </tr>\n",
       "    <tr>\n",
       "      <th>settime</th>\n",
       "      <td>0.000074</td>\n",
       "    </tr>\n",
       "    <tr>\n",
       "      <th>ridetime</th>\n",
       "      <td>0.000025</td>\n",
       "    </tr>\n",
       "    <tr>\n",
       "      <th>startpos1</th>\n",
       "      <td>0.000000</td>\n",
       "    </tr>\n",
       "    <tr>\n",
       "      <th>startpos2</th>\n",
       "      <td>0.000000</td>\n",
       "    </tr>\n",
       "    <tr>\n",
       "      <th>endpos1</th>\n",
       "      <td>0.000000</td>\n",
       "    </tr>\n",
       "    <tr>\n",
       "      <th>endpos2</th>\n",
       "      <td>0.000000</td>\n",
       "    </tr>\n",
       "  </tbody>\n",
       "</table>\n",
       "</div>"
      ],
      "text/plain": [
       "             nan_ratio\n",
       "Column1       0.000000\n",
       "no            0.000000\n",
       "cartype       0.000025\n",
       "receipttime   0.000000\n",
       "settime       0.000074\n",
       "ridetime      0.000025\n",
       "startpos1     0.000000\n",
       "startpos2     0.000000\n",
       "endpos1       0.000000\n",
       "endpos2       0.000000"
      ]
     },
     "execution_count": 10,
     "metadata": {},
     "output_type": "execute_result"
    }
   ],
   "source": [
    "pd.DataFrame(data=df1.isnull().sum()/len(df1),columns=['nan_ratio'])"
   ]
  },
  {
   "cell_type": "code",
   "execution_count": 11,
   "id": "dfa958b1-9bdf-4396-9e6e-429e20c98fdd",
   "metadata": {},
   "outputs": [
    {
     "data": {
      "text/plain": [
       "Column1        407613\n",
       "no               1087\n",
       "cartype             8\n",
       "receipttime    139725\n",
       "settime        383015\n",
       "ridetime       393697\n",
       "startpos1          45\n",
       "startpos2         557\n",
       "endpos1            60\n",
       "endpos2           691\n",
       "dtype: int64"
      ]
     },
     "execution_count": 11,
     "metadata": {},
     "output_type": "execute_result"
    }
   ],
   "source": [
    "df1.nunique()"
   ]
  },
  {
   "cell_type": "markdown",
   "id": "9f62f279-8d08-405b-972b-52f21d0ee0d8",
   "metadata": {},
   "source": [
    "# 차량 타입 별 배치 수 분석"
   ]
  },
  {
   "cell_type": "code",
   "execution_count": 12,
   "id": "c9743248-1ec8-45c6-9ba4-c33c13fcf9e7",
   "metadata": {},
   "outputs": [
    {
     "data": {
      "text/plain": [
       "8"
      ]
     },
     "execution_count": 12,
     "metadata": {},
     "output_type": "execute_result"
    }
   ],
   "source": [
    "df1['cartype'].nunique()"
   ]
  },
  {
   "cell_type": "code",
   "execution_count": 13,
   "id": "67a5385d-ed0b-4e14-b4e6-c7aaec06b63b",
   "metadata": {},
   "outputs": [
    {
     "data": {
      "text/plain": [
       "array(['중형승합', '중형 승합', '중형승용', '승합', '중형 승용', '대형승용', '대형 승용', nan,\n",
       "       '증형승용'], dtype=object)"
      ]
     },
     "execution_count": 13,
     "metadata": {},
     "output_type": "execute_result"
    }
   ],
   "source": [
    "df1['cartype'].unique()"
   ]
  },
  {
   "cell_type": "code",
   "execution_count": 20,
   "id": "ab987517-be7c-444c-b257-1884fcc31a6d",
   "metadata": {},
   "outputs": [
    {
     "data": {
      "text/plain": [
       "<AxesSubplot:xlabel='cartype', ylabel='count'>"
      ]
     },
     "execution_count": 20,
     "metadata": {},
     "output_type": "execute_result"
    },
    {
     "data": {
      "image/png": "[encoded data removed]",
      "text/plain": [
       "<Figure size 842.4x595.44 with 1 Axes>"
      ]
     },
     "metadata": {},
     "output_type": "display_data"
    }
   ],
   "source": [
    "sns.countplot(data=df1, x = 'cartype')"
   ]
  },
  {
   "cell_type": "markdown",
   "id": "300fa082-3439-4dc8-91df-b4c35d0e167b",
   "metadata": {},
   "source": [
    "# 지역 - 구 갯수 분석 \n",
    "\n",
    "### startpos1 -> 시작 지역 '구'\n",
    "### startpos2 -> 시작 지역 '동'\n",
    "\n",
    "### endpos1 -> 종료 지역 '구'\n",
    "### endpos2 -> 종료 지역 '동'"
   ]
  },
  {
   "cell_type": "code",
   "execution_count": 80,
   "id": "037d04cb-f653-4281-a1f4-e5c44d95f492",
   "metadata": {},
   "outputs": [
    {
     "data": {
      "text/plain": [
       "45"
      ]
     },
     "execution_count": 80,
     "metadata": {},
     "output_type": "execute_result"
    }
   ],
   "source": [
    "df1['startpos1'].nunique()"
   ]
  },
  {
   "cell_type": "code",
   "execution_count": 81,
   "id": "603a1fb7-4cb0-4293-ae17-1a653321baa0",
   "metadata": {},
   "outputs": [
    {
     "data": {
      "text/plain": [
       "60"
      ]
     },
     "execution_count": 81,
     "metadata": {},
     "output_type": "execute_result"
    }
   ],
   "source": [
    "df1['endpos1'].nunique()"
   ]
  },
  {
   "cell_type": "code",
   "execution_count": 84,
   "id": "4258f28d-e60b-4dc8-b231-8aadecdf63b9",
   "metadata": {},
   "outputs": [
    {
     "data": {
      "text/plain": [
       "array(['성북구', '중랑구', '구로구', '동대문구', '마포구', '영등포구', '광진구', '종로구', '금천구',\n",
       "       '서대문구', '강남구', '용산구', '강서구', '노원구', '관악구', '도봉구', '송파구', '서초구',\n",
       "       '양천구', '성동구', '은평구', '동작구', '중구', '강북구', '강동구', '광명시', '하남시',\n",
       "       '의정부시', '성남시수정구', '성남시분당구', '양주시', '성남시중원구', '남양주시', '부천시오정구',\n",
       "       '안양시만안구', '과천시', '김포시', '부천시소사구', '부천시원미구', '고양시덕양구', '구리시',\n",
       "       '고양시일산동구', '안양시동안구', '고양시일산서구', '용인시수지구'], dtype=object)"
      ]
     },
     "execution_count": 84,
     "metadata": {},
     "output_type": "execute_result"
    }
   ],
   "source": [
    "df1['startpos1'].unique()"
   ]
  },
  {
   "cell_type": "code",
   "execution_count": 83,
   "id": "ca5b554b-d44f-4916-a9fd-4d757cb323cb",
   "metadata": {},
   "outputs": [
    {
     "data": {
      "text/plain": [
       "array(['동대문구', '노원구', '강북구', '관악구', '성북구', '부천시소사구', '중랑구', '광진구', '성동구',\n",
       "       '구로구', '광명시', '서대문구', '용산구', '중구', '강서구', '도봉구', '영등포구', '송파구',\n",
       "       '종로구', '강동구', '과천시', '강남구', '서초구', '양천구', '은평구', '마포구', '부평구',\n",
       "       '금천구', '고양시일산서구', '동작구', '성남시분당구', '구리시', '성남시중원구', '안양시동안구',\n",
       "       '의정부시', '고양시일산동구', '하남시', '안양시만안구', '고양시덕양구', '남양주시', '김포시',\n",
       "       '부천시원미구', '양주시', '성남시수정구', '부천시오정구', '안산시상록구', '남동구', '수원시영통구',\n",
       "       '용인시기흥구', '광주시', '파주시', '계양구', '화성시', '용인시수지구', '연수구', '서구', '여주군',\n",
       "       '용인시처인구', '수원시팔달구', '평택시'], dtype=object)"
      ]
     },
     "execution_count": 83,
     "metadata": {},
     "output_type": "execute_result"
    }
   ],
   "source": [
    "df1['endpos1'].unique()"
   ]
  },
  {
   "cell_type": "code",
   "execution_count": 30,
   "id": "5177021a-35f3-4ad1-bf9e-f779838af5b5",
   "metadata": {},
   "outputs": [
    {
     "ename": "ValueError",
     "evalue": "not enough values to unpack (expected 2, got 1)",
     "output_type": "error",
     "traceback": [
      "\u001b[1;31m---------------------------------------------------------------------------\u001b[0m",
      "\u001b[1;31mValueError\u001b[0m                                Traceback (most recent call last)",
      "\u001b[1;32m~\\AppData\\Local\\Temp\\ipykernel_6564\\2457703650.py\u001b[0m in \u001b[0;36m<module>\u001b[1;34m\u001b[0m\n\u001b[0;32m      1\u001b[0m \u001b[0mdf1\u001b[0m\u001b[1;33m[\u001b[0m\u001b[1;34m'startpos1'\u001b[0m\u001b[1;33m]\u001b[0m\u001b[1;33m.\u001b[0m\u001b[0mhist\u001b[0m\u001b[1;33m(\u001b[0m\u001b[0mfigsize\u001b[0m \u001b[1;33m=\u001b[0m \u001b[1;33m(\u001b[0m\u001b[1;36m25\u001b[0m\u001b[1;33m,\u001b[0m\u001b[1;36m25\u001b[0m\u001b[1;33m)\u001b[0m\u001b[1;33m,\u001b[0m \u001b[0mbins\u001b[0m \u001b[1;33m=\u001b[0m \u001b[1;36m10\u001b[0m\u001b[1;33m)\u001b[0m\u001b[1;33m\u001b[0m\u001b[1;33m\u001b[0m\u001b[0m\n\u001b[1;32m----> 2\u001b[1;33m \u001b[0mplt\u001b[0m\u001b[1;33m.\u001b[0m\u001b[0mylim\u001b[0m\u001b[1;33m(\u001b[0m\u001b[1;33m[\u001b[0m\u001b[1;36m10000\u001b[0m\u001b[1;33m,\u001b[0m\u001b[1;33m]\u001b[0m\u001b[1;33m)\u001b[0m\u001b[1;33m\u001b[0m\u001b[1;33m\u001b[0m\u001b[0m\n\u001b[0m\u001b[0;32m      3\u001b[0m \u001b[0mplt\u001b[0m\u001b[1;33m.\u001b[0m\u001b[0mxlabel\u001b[0m\u001b[1;33m(\u001b[0m\u001b[1;34m\"배차량\"\u001b[0m\u001b[1;33m,\u001b[0m \u001b[0msize\u001b[0m\u001b[1;33m=\u001b[0m\u001b[1;36m15\u001b[0m\u001b[1;33m)\u001b[0m\u001b[1;33m\u001b[0m\u001b[1;33m\u001b[0m\u001b[0m\n\u001b[0;32m      4\u001b[0m \u001b[0mplt\u001b[0m\u001b[1;33m.\u001b[0m\u001b[0mylabel\u001b[0m\u001b[1;33m(\u001b[0m\u001b[1;34m\"시군구\"\u001b[0m\u001b[1;33m,\u001b[0m \u001b[0msize\u001b[0m\u001b[1;33m=\u001b[0m\u001b[1;36m15\u001b[0m\u001b[1;33m)\u001b[0m\u001b[1;33m\u001b[0m\u001b[1;33m\u001b[0m\u001b[0m\n\u001b[0;32m      5\u001b[0m \u001b[0mplt\u001b[0m\u001b[1;33m.\u001b[0m\u001b[0mshow\u001b[0m\u001b[1;33m(\u001b[0m\u001b[1;33m)\u001b[0m\u001b[1;33m\u001b[0m\u001b[1;33m\u001b[0m\u001b[0m\n",
      "\u001b[1;32mC:\\ProgramData\\Anaconda3\\envs\\goddol\\lib\\site-packages\\matplotlib\\pyplot.py\u001b[0m in \u001b[0;36mylim\u001b[1;34m(*args, **kwargs)\u001b[0m\n\u001b[0;32m   1755\u001b[0m     \u001b[1;32mif\u001b[0m \u001b[1;32mnot\u001b[0m \u001b[0margs\u001b[0m \u001b[1;32mand\u001b[0m \u001b[1;32mnot\u001b[0m \u001b[0mkwargs\u001b[0m\u001b[1;33m:\u001b[0m\u001b[1;33m\u001b[0m\u001b[1;33m\u001b[0m\u001b[0m\n\u001b[0;32m   1756\u001b[0m         \u001b[1;32mreturn\u001b[0m \u001b[0max\u001b[0m\u001b[1;33m.\u001b[0m\u001b[0mget_ylim\u001b[0m\u001b[1;33m(\u001b[0m\u001b[1;33m)\u001b[0m\u001b[1;33m\u001b[0m\u001b[1;33m\u001b[0m\u001b[0m\n\u001b[1;32m-> 1757\u001b[1;33m     \u001b[0mret\u001b[0m \u001b[1;33m=\u001b[0m \u001b[0max\u001b[0m\u001b[1;33m.\u001b[0m\u001b[0mset_ylim\u001b[0m\u001b[1;33m(\u001b[0m\u001b[1;33m*\u001b[0m\u001b[0margs\u001b[0m\u001b[1;33m,\u001b[0m \u001b[1;33m**\u001b[0m\u001b[0mkwargs\u001b[0m\u001b[1;33m)\u001b[0m\u001b[1;33m\u001b[0m\u001b[1;33m\u001b[0m\u001b[0m\n\u001b[0m\u001b[0;32m   1758\u001b[0m     \u001b[1;32mreturn\u001b[0m \u001b[0mret\u001b[0m\u001b[1;33m\u001b[0m\u001b[1;33m\u001b[0m\u001b[0m\n\u001b[0;32m   1759\u001b[0m \u001b[1;33m\u001b[0m\u001b[0m\n",
      "\u001b[1;32mC:\\ProgramData\\Anaconda3\\envs\\goddol\\lib\\site-packages\\matplotlib\\axes\\_base.py\u001b[0m in \u001b[0;36mset_ylim\u001b[1;34m(self, bottom, top, emit, auto, ymin, ymax)\u001b[0m\n\u001b[0;32m   4014\u001b[0m         \"\"\"\n\u001b[0;32m   4015\u001b[0m         \u001b[1;32mif\u001b[0m \u001b[0mtop\u001b[0m \u001b[1;32mis\u001b[0m \u001b[1;32mNone\u001b[0m \u001b[1;32mand\u001b[0m \u001b[0mnp\u001b[0m\u001b[1;33m.\u001b[0m\u001b[0miterable\u001b[0m\u001b[1;33m(\u001b[0m\u001b[0mbottom\u001b[0m\u001b[1;33m)\u001b[0m\u001b[1;33m:\u001b[0m\u001b[1;33m\u001b[0m\u001b[1;33m\u001b[0m\u001b[0m\n\u001b[1;32m-> 4016\u001b[1;33m             \u001b[0mbottom\u001b[0m\u001b[1;33m,\u001b[0m \u001b[0mtop\u001b[0m \u001b[1;33m=\u001b[0m \u001b[0mbottom\u001b[0m\u001b[1;33m\u001b[0m\u001b[1;33m\u001b[0m\u001b[0m\n\u001b[0m\u001b[0;32m   4017\u001b[0m         \u001b[1;32mif\u001b[0m \u001b[0mymin\u001b[0m \u001b[1;32mis\u001b[0m \u001b[1;32mnot\u001b[0m \u001b[1;32mNone\u001b[0m\u001b[1;33m:\u001b[0m\u001b[1;33m\u001b[0m\u001b[1;33m\u001b[0m\u001b[0m\n\u001b[0;32m   4018\u001b[0m             \u001b[1;32mif\u001b[0m \u001b[0mbottom\u001b[0m \u001b[1;32mis\u001b[0m \u001b[1;32mnot\u001b[0m \u001b[1;32mNone\u001b[0m\u001b[1;33m:\u001b[0m\u001b[1;33m\u001b[0m\u001b[1;33m\u001b[0m\u001b[0m\n",
      "\u001b[1;31mValueError\u001b[0m: not enough values to unpack (expected 2, got 1)"
     ]
    },
    {
     "data": {
      "image/png": "[encoded data removed]",
      "text/plain": [
       "<Figure size 1800x1800 with 1 Axes>"
      ]
     },
     "metadata": {
      "needs_background": "light"
     },
     "output_type": "display_data"
    }
   ],
   "source": [
    "df1['startpos1'].hist(figsize = (25,25), bins = 10)\n",
    "plt.ylim([10000,])\n",
    "plt.show()"
   ]
  },
  {
   "cell_type": "code",
   "execution_count": 25,
   "id": "d014f9a6-b2c4-491c-869e-d9e96fa2c11c",
   "metadata": {},
   "outputs": [
    {
     "data": {
      "text/plain": [
       "557"
      ]
     },
     "execution_count": 25,
     "metadata": {},
     "output_type": "execute_result"
    }
   ],
   "source": [
    "df1['startpos2'].nunique()"
   ]
  },
  {
   "cell_type": "code",
   "execution_count": 29,
   "id": "e28c93d5-5ff1-42cd-821d-7a1f2975429a",
   "metadata": {},
   "outputs": [
    {
     "data": {
      "text/plain": [
       "691"
      ]
     },
     "execution_count": 29,
     "metadata": {},
     "output_type": "execute_result"
    }
   ],
   "source": [
    "df1['endpos2'].nunique()"
   ]
  },
  {
   "cell_type": "code",
   "execution_count": 26,
   "id": "53643b9f-2782-43f8-a120-dbda9dc3465e",
   "metadata": {},
   "outputs": [
    {
     "data": {
      "text/plain": [
       "array(['장위제1동', '면목제7동', '정릉제3동', '고척제2동', '회기동', '도화동', '상봉제1동', '여의동',\n",
       "       '구의제1동', '청운효자동', '가산동', '영등포동', '남가좌제1동', '능동', '일원1동', '이태원제1동',\n",
       "       '등촌제3동', '석관동', '하계1동', '상봉제2동', '은천동', '안암동', '합정동', '오류제1동',\n",
       "       '방학제1동', '부암동', '장지동', '하계2동', '종암동', '중계2.3동', '양재2동', '가락본동',\n",
       "       '면목제5동', '고척제1동', '삼성동', '성현동', '목1동', '면목제2동', '창신제1동', '삼선동',\n",
       "       '난향동', '방배3동', '대림제3동', '잠실2동', '이문제3동', '세곡동', '북아현동', '인헌동',\n",
       "       '쌍문제3동', '청룡동', '연희동', '망우본동', '성산제2동', '오류제2동', '왕십리도선동', '개봉제2동',\n",
       "       '돈암제2동', '신사제1동', '대치1동', '신대방제1동', '상암동', '석촌동', '가양제1동', '논현1동',\n",
       "       '월계2동', '시흥제3동', '신대방제2동', '화곡제3동', '대학동', '내곡동', '길음제1동', '역촌동',\n",
       "       '신월2동', '가양제3동', '명동', '도봉제2동', '송천동', '방학제2동', '발산제1동', '삼성2동',\n",
       "       '상계8동', '잠실7동', '장안제2동', '신길제6동', '방배2동', '둔촌제2동', '상계6.7동', '신설동',\n",
       "       '역삼1동', '양재1동', '일원2동', '전농제2동', '방배4동', '행당제2동', '이촌제1동', '군자동',\n",
       "       '수궁동', '가양제2동', '송중동', '신내2동', '아현동', '쌍문제4동', '상계1동', '공릉1.3동',\n",
       "       '동선동', '수서동', '번제3동', '용두동', '응암제3동', '도곡2동', '쌍문제1동', '양평제1동',\n",
       "       '방화제3동', '홍은제1동', '반포2동', '중곡제4동', '잠원동', '신사동', '번제1동', '사당제2동',\n",
       "       '강일동', '개봉제1동', '황학동', '천호제3동', '풍납1동', '방배본동', '낙성대동', '구로제3동',\n",
       "       '홍제제3동', '상도제1동', '방학제3동', '신월1동', '방이2동', '거여2동', '대방동', '번제2동',\n",
       "       '구산동', '삼전동', '화곡제6동', '길동', '수유제3동', '묵제2동', '청량리동', '답십리제1동',\n",
       "       '서초1동', '천호제2동', '면목제4동', '신월7동', '수색동', '오륜동', '시흥제5동', '신정2동',\n",
       "       '신정3동', '묵제1동', '시흥제1동', '독산제4동', '신월4동', '대흥동', '목3동', '염창동',\n",
       "       '일원본동', '용문동', '흑석동', '마장동', '서초3동', '회현동', '서원동', '종로1.2.3.4가동',\n",
       "       '월계1동', '광희동', '구의제2동', '용강동', '상도제2동', '신내1동', '구로제4동', '답십리제4동',\n",
       "       '공항동', '거여1동', '신당제3동', '신촌동', '갈현제1동', '신정4동', '창제3동', '양평제2동',\n",
       "       '한강로동', '개포2동', '서초4동', '잠실3동', '월곡제1동', '신월3동', '청림동', '상계10동',\n",
       "       '서강동', '신정7동', '이촌제2동', '남가좌제2동', '창제4동', '숭인제1동', '중계4동', '시흥제2동',\n",
       "       '효창동', '장안제3동', '남영동', '상일동', '숭인제2동', '망우제3동', '하안3동', '상도제4동',\n",
       "       '성산제1동', '성수2가제3동', '반포4동', '월계3동', '압구정동', '상계3.4동', '응암제2동',\n",
       "       '삼양동', '암사제1동', '풍납2동', '논현2동', '신월6동', '명일제1동', '장안제4동', '우장산동',\n",
       "       '목4동', '상도제3동', '화곡제1동', '암사제3동', '신도림동', '신수동', '홍은제2동', '중계본동',\n",
       "       '방화제2동', '등촌제2동', '후암동', '당산제2동', '금호2.3가동', '독산제1동', '신림동', '보문동',\n",
       "       '행당제1동', '미아동', '가락2동', '불광제1동', '독산제3동', '대조동', '감북동', '진관동',\n",
       "       '서빙고동', '신당제4동', '면목본동', '보라매동', '신길제1동', '휘경제2동', '공릉2동', '전농제3동',\n",
       "       '시흥제4동', '공덕동', '불광제2동', '노량진제2동', '고덕제2동', '구로제2동', '원효로제1동',\n",
       "       '구로제5동', '창제5동', '돈암제1동', '천호제1동', '장충동', '용답동', '성북동', '화양동',\n",
       "       '사당제4동', '역삼2동', '삼성1동', '목2동', '갈현제2동', '명일제2동', '사직동', '교남동',\n",
       "       '미성동', '정릉제2동', '신원동', '녹번동', '서림동', '마천1동', '사당제5동', '서초2동',\n",
       "       '성내제2동', '대림제1동', '원효로제2동', '삼각산동', '필동', '답십리제2동', '중화제1동',\n",
       "       '신월5동', '방배1동', '남현동', '잠실6동', '화곡제8동', '상계5동', '구의제3동', '서교동',\n",
       "       '북가좌제2동', '장위제2동', '창제2동', '금호1가동', '종로5.6가동', '한남동', '잠실본동',\n",
       "       '상계2동', '마천2동', '중계1동', '월곡제2동', '방화제1동', '송정동', '장안제1동', '가회동',\n",
       "       '화곡본동', '자양제2동', '행운동', '신당제5동', '신정6동', '개봉제3동', '홍제제1동', '화곡제4동',\n",
       "       '인수동', '상계9동', '성수2가제1동', '평창동', '사당제3동', '창제1동', '도봉제1동', '개포1동',\n",
       "       '노량진제1동', '성수1가제1동', '수유제2동', '신길제5동', '문정2동', '문래동', '난곡동',\n",
       "       '정릉제1동', '고덕제1동', '청담동', '정릉제4동', '자양제1동', '창신제3동', '광장동', '조원동',\n",
       "       '쌍문제2동', '중림동', '이문제2동', '답십리제3동', '명륜3가동', '소공동', '중곡제2동',\n",
       "       '자양제3동', '우이동', '신길제4동', '이화동', '사당제1동', '자양제4동', '염리동', '성내제3동',\n",
       "       '청파동', '제기제2동', '등촌제1동', '중앙동', '북가좌제1동', '이태원제2동', '중화제2동', '옥수동',\n",
       "       '가리봉동', '영등포본동', '목5동', '반포1동', '이문제1동', '면목제3.8동', '송파2동', '증산동',\n",
       "       '수유제1동', '독산제2동', '길음제2동', '송파1동', '화곡제2동', '문정1동', '신사제2동',\n",
       "       '홍제제2동', '휘경제1동', '신길제3동', '당산제1동', '응암제1동', '연남동', '장위제3동',\n",
       "       '신곡2동', '복정동', '사근동', '충현동', '신당제1동', '삼청동', '금곡동', '혜화동', '도곡1동',\n",
       "       '신정1동', '응봉동', '반포본동', '암사제2동', '오금동', '금호4가동', '도림동', '가락1동',\n",
       "       '망원제1동', '망원제2동', '천연동', '제기제1동', '용산2가동', '구로제1동', '왕십리제2동',\n",
       "       '성내제1동', '신길제7동', '신당제2동', '중곡제3동', '신당제6동', '대림제2동', '무악동', '남면',\n",
       "       '중곡제1동', '풍산동', '둔촌제1동', '반포3동', '신장2동', '대치4동', '송산1동', '야탑3동',\n",
       "       '보광동', '단대동', '을지로동', '광명3동', '대치2동', '개포4동', '성수1가제2동', '금광1동',\n",
       "       '진건읍', '방이1동', '전농제1동', '장암동', '원종1동', '안양3동', '잠실4동', '성남동',\n",
       "       '창신제2동', '오남읍', '은행2동', '별양동', '통진읍', '역곡3동', '김포2동', '중동', '서현1동',\n",
       "       '야탑2동', '이매1동', '의정부2동', '자금동', '의정부1동', '별내면', '광명2동', '와부읍',\n",
       "       '안양1동', '하안2동', '춘의동', '성사1동', '송산2동', '수택3동', '지금동', '화도읍', '월곶면',\n",
       "       '소하1동', '원종2동', '성곡동', '원신동', '백석읍', '퇴계원면', '고양동', '창릉동', '회천2동',\n",
       "       '장항2동', '장흥면', '호평동', '김포1동', '양주1동', '안양6동', '교문1동', '고봉동',\n",
       "       '관양1동', '고촌면', '송내1동', '관산동', '구미동', '일산2동', '동천동', '야탑1동', '판교동',\n",
       "       '동구동', '가능1동', '대곶면', '소하2동', '영종동', '비산1동', '행주동', '화정1동', '회천4동',\n",
       "       '학온동', '상1동', '상3동', '송산동', '철산3동', '안양4동', '신곡1동', '심곡1동', '광적면',\n",
       "       '문원동', '풍무동', '심곡본동', '백석1동', '양주2동', '은현면', '탄현동', '양촌면', '녹양동',\n",
       "       '관양2동', '양정동', '효자동', '춘궁동', '식사동', '상대원1동', '부림동', '흥도동', '고강1동',\n",
       "       '상2동', '진접읍', '정자3동', '조안면', '운중동', '삼평동', '분당동', '사우동', '소사본3동',\n",
       "       '덕풍2동', '호계3동', '일산3동', '갈매동', '행신3동', '심곡2동', '석수1동', '호계2동',\n",
       "       '심곡본1동', '신흥3동', '대덕동', '석수2동'], dtype=object)"
      ]
     },
     "execution_count": 26,
     "metadata": {},
     "output_type": "execute_result"
    }
   ],
   "source": [
    "df1['startpos2'].unique()"
   ]
  },
  {
   "cell_type": "code",
   "execution_count": 27,
   "id": "6aa79226-9959-4c70-be9f-34a5d9c05f4f",
   "metadata": {},
   "outputs": [
    {
     "data": {
      "text/plain": [
       "691"
      ]
     },
     "execution_count": 27,
     "metadata": {},
     "output_type": "execute_result"
    }
   ],
   "source": [
    "df1['endpos2'].nunique()"
   ]
  },
  {
   "cell_type": "code",
   "execution_count": 28,
   "id": "be143266-8606-40d8-b061-b094daf67cb9",
   "metadata": {},
   "outputs": [
    {
     "data": {
      "text/plain": [
       "array(['회기동', '상계1동', '수유제3동', '은천동', '장위제2동', '심곡본1동', '신내2동', '돈암제2동',\n",
       "       '능동', '행당제1동', '구로제4동', '철산3동', '남가좌제2동', '한강로동', '석관동', '월곡제2동',\n",
       "       '신당제1동', '등촌제3동', '중계2.3동', '상봉제1동', '보라매동', '삼선동', '방학제1동', '명동',\n",
       "       '대림제3동', '풍납2동', '창신제1동', '명일제1동', '청운효자동', '상계6.7동', '과천동',\n",
       "       '일원본동', '휘경제2동', '고척제1동', '서원동', '둔촌제2동', '서초1동', '충현동', '신정6동',\n",
       "       '회현동', '양평제2동', '수서동', '중앙동', '구산동', '신내1동', '하계1동', '서교동', '신원동',\n",
       "       '일신동', '신정3동', '역곡3동', '교남동', '역삼1동', '독산제3동', '역촌동', '부암동', '상암동',\n",
       "       '신정7동', '구의제1동', '탄현동', '영등포동', '광희동', '오류제1동', '서초2동', '응암제3동',\n",
       "       '발산제1동', '흑석동', '목3동', '쌍문제3동', '신촌동', '논현1동', '화곡제6동', '연희동',\n",
       "       '삼성1동', '번제1동', '종로1.2.3.4가동', '가양제1동', '송중동', '양재2동', '서초3동',\n",
       "       '인수동', '당산제2동', '반포4동', '정자1동', '홍은제2동', '천호제1동', '방배3동', '개봉제1동',\n",
       "       '갈매동', '쌍문제2동', '장지동', '오금동', '일원1동', '안암동', '도곡1동', '잠실4동', '여의동',\n",
       "       '한남동', '광명5동', '길음제2동', '영종동', '동구동', '상대원1동', '삼평동', '월계1동',\n",
       "       '대림제2동', '청룡동', '면목제3.8동', '야탑1동', '중곡제1동', '구로제5동', '창제1동',\n",
       "       '잠실6동', '보문동', '천호제2동', '잠실3동', '공릉2동', '구의제2동', '송내1동', '성내제2동',\n",
       "       '상일동', '상계2동', '장안제1동', '장안제2동', '이화동', '문정2동', '양재1동', '묵제1동',\n",
       "       '방화제1동', '구로제2동', '상도제2동', '관양2동', '월계3동', '효창동', '신도림동', '신림동',\n",
       "       '공덕동', '목5동', '신대방제2동', '교문1동', '시흥제1동', '불광제2동', '대치2동', '반포3동',\n",
       "       '가양제2동', '홍제제1동', '방배4동', '화곡본동', '노량진제2동', '자금동', '성수2가제3동',\n",
       "       '신월5동', '용강동', '가산동', '면목본동', '시흥제4동', '상봉제2동', '녹번동', '서현1동',\n",
       "       '송산1동', '중곡제4동', '대림제1동', '대흥동', '이촌제1동', '낙성대동', '성현동', '삼성동',\n",
       "       '난향동', '천호제3동', '왕십리제2동', '백석1동', '신장2동', '진관동', '성산제1동', '가능1동',\n",
       "       '중계1동', '방화제2동', '개봉제2동', '중계4동', '가락본동', '하대원동', '화곡제1동', '아현동',\n",
       "       '안양8동', '혜화동', '마장동', '성수1가제1동', '풍산동', '삼각산동', '독산제1동', '도림동',\n",
       "       '답십리제3동', '서강동', '신사동', '묵제2동', '오륜동', '도봉제2동', '성내제3동', '종암동',\n",
       "       '고양동', '방이2동', '신대방제1동', '장위제3동', '소하1동', '별내면', '성산제2동', '구의제3동',\n",
       "       '자양제1동', '응암제2동', '장충동', '대곶면', '대치1동', '개포2동', '창제4동', '독산제2동',\n",
       "       '금호2.3가동', '필동', '미성동', '상계9동', '망우본동', '우장산동', '신길제1동', '목4동',\n",
       "       '청파동', '사당제1동', '문정1동', '상2동', '회천1동', '송천동', '성수2가제1동', '마천1동',\n",
       "       '제기제1동', '북아현동', '화도읍', '신월3동', '전농제2동', '고봉동', '당산제1동', '오류제2동',\n",
       "       '북가좌제1동', '관양1동', '월계2동', '을지로동', '삼양동', '합정동', '답십리제4동', '신정4동',\n",
       "       '신사제1동', '중화제2동', '난곡동', '중계본동', '공항동', '화양동', '공릉1.3동', '사당제3동',\n",
       "       '중1동', '신정2동', '방배2동', '수궁동', '삼성2동', '창제3동', '대학동', '소하2동',\n",
       "       '화곡제2동', '목2동', '용산2가동', '정릉제3동', '잠실본동', '소공동', '서림동', '사직동',\n",
       "       '신길제7동', '서빙고동', '철산2동', '구로제3동', '청량리동', '장위제1동', '상계3.4동',\n",
       "       '호계3동', '북가좌제2동', '개포1동', '창제5동', '시흥제5동', '은행2동', '남영동', '홍제제3동',\n",
       "       '도봉제1동', '신길제6동', '흥도동', '관산동', '효자동', '수유제2동', '백석2동', '화정1동',\n",
       "       '복정동', '신당제6동', '구미동', '성사1동', '상계8동', '방화제3동', '이문제2동', '정자3동',\n",
       "       '월곡제1동', '상계5동', '불광제1동', '도촌동', '고척제2동', '갈현제1동', '신설동', '홍제제2동',\n",
       "       '부림동', '왕십리도선동', '금곡동', '의정부3동', '성남동', '방배1동', '석촌동', '반포1동',\n",
       "       '일원2동', '고덕제1동', '번제2동', '상도제3동', '소사동', '안양1동', '진접읍', '하계2동',\n",
       "       '무악동', '신월7동', '신월2동', '가양제3동', '개봉제3동', '인창동', '답십리제2동', '제기제2동',\n",
       "       '등촌제2동', '보광동', '용답동', '갈현제2동', '회천3동', '망우제3동', '망원제2동', '면목제5동',\n",
       "       '쌍문제4동', '신흥1동', '마두1동', '용두동', '소사본2동', '중곡제2동', '길음제1동', '대방동',\n",
       "       '신길제3동', '행운동', '노량진제1동', '가리봉동', '김포1동', '도화동', '신월4동', '암사제1동',\n",
       "       '하안1동', '거여1동', '사근동', '식사동', '신곡1동', '길동', '자양제4동', '중화제1동',\n",
       "       '증산동', '수택3동', '성내제1동', '세곡동', '평창동', '중곡제3동', '장안제3동', '이태원제1동',\n",
       "       '성북동', '사당제4동', '미아동', '신당제3동', '인헌동', '상3동', '전농제3동', '면목제4동',\n",
       "       '행주동', '화곡제8동', '광명3동', '호원1동', '우이동', '하안3동', '내곡동', '휘경제1동',\n",
       "       '수진1동', '진건읍', '마천2동', '양주1동', '사우동', '구미1동', '장안제4동', '원종2동',\n",
       "       '범박동', '번제3동', '독산제4동', '성곡동', '춘의동', '홍은제1동', '망원제1동', '면목제2동',\n",
       "       '수진2동', '종로5.6가동', '목1동', '영등포본동', '청담동', '신도동', '강일동', '중2동',\n",
       "       '풍납1동', '쌍문제1동', '상도제1동', '응암제1동', '잠실7동', '방배본동', '행신1동',\n",
       "       '원효로제1동', '야탑3동', '군자동', '잠원동', '양촌면', '행당제2동', '양지동', '돈암제1동',\n",
       "       '신당제5동', '호원2동', '자양제3동', '신길제4동', '논현2동', '신곡2동', '수내1동', '대조동',\n",
       "       '금호4가동', '창제2동', '상도제4동', '성수1가제2동', '조원동', '숭인제2동', '사당제2동',\n",
       "       '와부읍', '평내동', '신정1동', '역삼2동', '신수동', '화곡제3동', '염창동', '회천4동', '주교동',\n",
       "       '역곡2동', '오남읍', '압구정동', '명륜3가동', '수택2동', '가락2동', '고덕제2동', '답십리제1동',\n",
       "       '문원동', '호계2동', '송정동', '화곡제4동', '염리동', '시흥제2동', '평안동', '창신제2동',\n",
       "       '동선동', '수유제1동', '원종1동', '정릉제4동', '석수3동', '범계동', '양주2동', '김포2동',\n",
       "       '방학제2동', '송포동', '신흥동', '암사제3동', '상계10동', '시흥제3동', '판교동', '호평동',\n",
       "       '고촌면', '광명6동', '송내2동', '부흥동', '일산2동', '녹양동', '잠실2동', '방이1동', '후암동',\n",
       "       '용문동', '정릉제2동', '춘궁동', '대화동', '중동', '정발산동', '청림동', '금호1가동', '하안4동',\n",
       "       '풍무동', '자양제2동', '태평1동', '의정부2동', '신장1동', '광명7동', '수색동', '신당제4동',\n",
       "       '신월1동', '천현동', '운중동', '삼청동', '응봉동', '서초4동', '원신동', '주엽1동', '거여2동',\n",
       "       '신흥2동', '심곡3동', '분당동', '소사본1동', '천연동', '퇴계원면', '조안면', '남현동',\n",
       "       '이문제3동', '석수1동', '비산1동', '남면', '장항2동', '송산동', '창신제3동', '정릉제1동',\n",
       "       '학온동', '백석읍', '광장동', '신월6동', '원효로제2동', '일산1동', '신사제2동', '전농제1동',\n",
       "       '안양7동', '송파2동', '일동', '석수2동', '문래동', '도농동', '월곶면', '고강본동', '심곡2동',\n",
       "       '신흥3동', '가능3동', '철산4동', '신길제5동', '대치4동', '방학제3동', '도곡2동', '이문제1동',\n",
       "       '중림동', '단대동', '송산2동', '비산3동', '하안2동', '장암동', '명일제2동', '정자2동',\n",
       "       '구월1동', '양정동', '등촌제1동', '중산동', '수택1동', '안양6동', '상동', '원천동', '마두2동',\n",
       "       '이매1동', '달안동', '사당제5동', '평촌동', '장흥면', '가회동', '황학동', '구로제1동',\n",
       "       '양평제1동', '광적면', '별양동', '괴안동', '광명4동', '장항1동', '안양3동', '가락1동',\n",
       "       '반포2동', '회천2동', '능곡동', '중3동', '남가좌제1동', '신당제2동', '이촌제2동', '심곡1동',\n",
       "       '원미1동', '이매2동', '이태원제2동', '창릉동', '갈현동', '감북동', '도당동', '행신2동',\n",
       "       '면목제7동', '호계1동', '산성동', '서현2동', '지금동', '수내2동', '통진읍', '일산3동',\n",
       "       '고강1동', '광명2동', '행신3동', '성사2동', '비산2동', '교문2동', '화정2동', '야탑2동',\n",
       "       '의정부1동', '중4동', '반포본동', '암사제2동', '삼전동', '심곡본동', '안양5동', '안양4동',\n",
       "       '역곡1동', '철산1동', '소사본3동', '신갈동', '수내3동', '안양2동', '수동면', '약대동',\n",
       "       '주엽2동', '초이동', '시흥동', '덕풍1동', '송파1동', '덕풍2동', '귀인동', '옥수동', '초월읍',\n",
       "       '대덕동', '오정동', '금광1동', '개포4동', '가능2동', '연남동', '하성면', '덕풍3동', '금촌2동',\n",
       "       '태평4동', '금광2동', '교하읍', '갈산동', '동백동', '작전서운동', '우정읍', '죽전2동', '화전동',\n",
       "       '연수3동', '검단3동', '안양9동', '고등동', '동천동', '가남면', '숭인제1동', '상1동', '지동',\n",
       "       '검단4동', '은현면', '행궁동', '계산1동', '산곡2동', '상대원2동', '원미2동', '고덕면',\n",
       "       '태평3동', '박달2동', '동탄1동', '태평2동', '상대원3동'], dtype=object)"
      ]
     },
     "execution_count": 28,
     "metadata": {},
     "output_type": "execute_result"
    }
   ],
   "source": [
    "df1['endpos2'].unique()"
   ]
  },
  {
   "cell_type": "markdown",
   "id": "1f770e4d-c3d0-4ac9-ae40-11b5fb800d9d",
   "metadata": {
    "tags": []
   },
   "source": [
    "## 차량 고유번호별 빈도수 분석"
   ]
  },
  {
   "cell_type": "code",
   "execution_count": 49,
   "id": "0fb77746-6a39-46f9-a48c-96a3fe5759a2",
   "metadata": {},
   "outputs": [
    {
     "data": {
      "text/plain": [
       "<AxesSubplot:xlabel='no', ylabel='count'>"
      ]
     },
     "execution_count": 49,
     "metadata": {},
     "output_type": "execute_result"
    },
    {
     "data": {
      "image/png": "[encoded data removed]",
      "text/plain": [
       "<Figure size 842.4x595.44 with 1 Axes>"
      ]
     },
     "metadata": {},
     "output_type": "display_data"
    }
   ],
   "source": [
    "sns.countplot(data=df1, x='no')"
   ]
  },
  {
   "cell_type": "code",
   "execution_count": 42,
   "id": "22e58b5e-2821-4e16-95e3-ce40f8c09325",
   "metadata": {},
   "outputs": [
    {
     "data": {
      "text/plain": [
       "407613"
      ]
     },
     "execution_count": 42,
     "metadata": {},
     "output_type": "execute_result"
    }
   ],
   "source": [
    "df1['no'].count()"
   ]
  },
  {
   "cell_type": "code",
   "execution_count": 58,
   "id": "7631da93-d13c-49f1-a55e-5c308d9d91ff",
   "metadata": {},
   "outputs": [
    {
     "data": {
      "text/plain": [
       "<AxesSubplot:xlabel='no'>"
      ]
     },
     "execution_count": 58,
     "metadata": {},
     "output_type": "execute_result"
    },
    {
     "data": {
      "image/png": "[encoded data removed]",
      "text/plain": [
       "<Figure size 842.4x595.44 with 1 Axes>"
      ]
     },
     "metadata": {},
     "output_type": "display_data"
    }
   ],
   "source": [
    "sns.violinplot(data=df1, x='no')"
   ]
  },
  {
   "cell_type": "code",
   "execution_count": 56,
   "id": "0b6716e2-d524-4f95-a8f2-df426dbede8c",
   "metadata": {},
   "outputs": [
    {
     "data": {
      "text/plain": [
       "<AxesSubplot:xlabel='no'>"
      ]
     },
     "execution_count": 56,
     "metadata": {},
     "output_type": "execute_result"
    },
    {
     "data": {
      "image/png": "[encoded data removed]",
      "text/plain": [
       "<Figure size 842.4x595.44 with 1 Axes>"
      ]
     },
     "metadata": {},
     "output_type": "display_data"
    }
   ],
   "source": [
    "plt.xlim(0,25000)\n",
    "sns.violinplot(data=df1, x='no')"
   ]
  },
  {
   "cell_type": "code",
   "execution_count": 61,
   "id": "56a2809e-99f2-4945-bf24-a52e42f4e6fe",
   "metadata": {},
   "outputs": [
    {
     "data": {
      "text/plain": [
       "<AxesSubplot:xlabel='no'>"
      ]
     },
     "execution_count": 61,
     "metadata": {},
     "output_type": "execute_result"
    },
    {
     "data": {
      "image/png": "[encoded data removed]",
      "text/plain": [
       "<Figure size 842.4x595.44 with 1 Axes>"
      ]
     },
     "metadata": {},
     "output_type": "display_data"
    }
   ],
   "source": [
    "plt.xlim(0,15000)\n",
    "sns.violinplot(data=df1, x='no')"
   ]
  },
  {
   "cell_type": "code",
   "execution_count": 60,
   "id": "1a6c0be3-390a-4e08-957b-926b2328a012",
   "metadata": {},
   "outputs": [
    {
     "data": {
      "text/plain": [
       "<AxesSubplot:xlabel='no'>"
      ]
     },
     "execution_count": 60,
     "metadata": {},
     "output_type": "execute_result"
    },
    {
     "data": {
      "image/png": "[encoded data removed]",
      "text/plain": [
       "<Figure size 842.4x595.44 with 1 Axes>"
      ]
     },
     "metadata": {},
     "output_type": "display_data"
    }
   ],
   "source": [
    "plt.xlim(0,15000)\n",
    "sns.boxenplot(data=df1, x='no')"
   ]
  },
  {
   "cell_type": "code",
   "execution_count": 79,
   "id": "e1f792d0-cbb7-487a-9b7b-6bea7d00b70b",
   "metadata": {},
   "outputs": [
    {
     "ename": "NameError",
     "evalue": "name 'count' is not defined",
     "output_type": "error",
     "traceback": [
      "\u001b[1;31m---------------------------------------------------------------------------\u001b[0m",
      "\u001b[1;31mNameError\u001b[0m                                 Traceback (most recent call last)",
      "\u001b[1;32m~\\AppData\\Local\\Temp\\ipykernel_13236\\4103753832.py\u001b[0m in \u001b[0;36m<module>\u001b[1;34m\u001b[0m\n\u001b[1;32m----> 1\u001b[1;33m \u001b[0mdf1\u001b[0m\u001b[1;33m[\u001b[0m\u001b[1;34m'startpos1'\u001b[0m\u001b[1;33m]\u001b[0m\u001b[1;33m.\u001b[0m\u001b[0munique\u001b[0m\u001b[1;33m(\u001b[0m\u001b[0mcount\u001b[0m\u001b[1;33m(\u001b[0m\u001b[1;33m)\u001b[0m\u001b[1;33m)\u001b[0m\u001b[1;33m\u001b[0m\u001b[1;33m\u001b[0m\u001b[0m\n\u001b[0m",
      "\u001b[1;31mNameError\u001b[0m: name 'count' is not defined"
     ]
    }
   ],
   "source": []
  },
  {
   "cell_type": "code",
   "execution_count": 74,
   "id": "99920d48-2052-406f-ab47-faabcc53697c",
   "metadata": {},
   "outputs": [
    {
     "data": {
      "text/plain": [
       "array(['동대문구', '노원구', '강북구', '관악구', '성북구', '부천시소사구', '중랑구', '광진구', '성동구',\n",
       "       '구로구', '광명시', '서대문구', '용산구', '중구', '강서구', '도봉구', '영등포구', '송파구',\n",
       "       '종로구', '강동구', '과천시', '강남구', '서초구', '양천구', '은평구', '마포구', '부평구',\n",
       "       '금천구', '고양시일산서구', '동작구', '성남시분당구', '구리시', '성남시중원구', '안양시동안구',\n",
       "       '의정부시', '고양시일산동구', '하남시', '안양시만안구', '고양시덕양구', '남양주시', '김포시',\n",
       "       '부천시원미구', '양주시', '성남시수정구', '부천시오정구', '안산시상록구', '남동구', '수원시영통구',\n",
       "       '용인시기흥구', '광주시', '파주시', '계양구', '화성시', '용인시수지구', '연수구', '서구', '여주군',\n",
       "       '용인시처인구', '수원시팔달구', '평택시'], dtype=object)"
      ]
     },
     "execution_count": 74,
     "metadata": {},
     "output_type": "execute_result"
    }
   ],
   "source": []
  },
  {
   "cell_type": "code",
   "execution_count": null,
   "id": "92ba90b4-1024-45c2-929f-ed5304c49002",
   "metadata": {},
   "outputs": [],
   "source": [
    "### 동대문구, 노원구, 강북구, 관악구, 부천시소사구, 중랑구, 성동구, 광명시, "
   ]
  }
 ],
 "metadata": {
  "kernelspec": {
   "display_name": "Python 3 (ipykernel)",
   "language": "python",
   "name": "python3"
  },
  "language_info": {
   "codemirror_mode": {
    "name": "ipython",
    "version": 3
   },
   "file_extension": ".py",
   "mimetype": "text/x-python",
   "name": "python",
   "nbconvert_exporter": "python",
   "pygments_lexer": "ipython3",
   "version": "3.7.13"
  }
 },
 "nbformat": 4,
 "nbformat_minor": 5
}
