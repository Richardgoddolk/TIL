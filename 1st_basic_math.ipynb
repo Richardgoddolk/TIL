{
 "cells": [
  {
   "cell_type": "code",
   "execution_count": 1,
   "id": "4b53df1a",
   "metadata": {},
   "outputs": [],
   "source": [
    "x = 6\n",
    "y = 2 "
   ]
  },
  {
   "cell_type": "code",
   "execution_count": 2,
   "id": "6fc7f2bf",
   "metadata": {},
   "outputs": [
    {
     "data": {
      "text/plain": [
       "8"
      ]
     },
     "execution_count": 2,
     "metadata": {},
     "output_type": "execute_result"
    }
   ],
   "source": [
    "x + y"
   ]
  },
  {
   "cell_type": "code",
   "execution_count": 3,
   "id": "662b272d",
   "metadata": {},
   "outputs": [
    {
     "data": {
      "text/plain": [
       "12"
      ]
     },
     "execution_count": 3,
     "metadata": {},
     "output_type": "execute_result"
    }
   ],
   "source": [
    "x * y"
   ]
  },
  {
   "cell_type": "code",
   "execution_count": 4,
   "id": "29f356db",
   "metadata": {},
   "outputs": [
    {
     "data": {
      "text/plain": [
       "3"
      ]
     },
     "execution_count": 4,
     "metadata": {},
     "output_type": "execute_result"
    }
   ],
   "source": [
    "x // y"
   ]
  },
  {
   "cell_type": "code",
   "execution_count": 5,
   "id": "34e3f440",
   "metadata": {},
   "outputs": [
    {
     "data": {
      "text/plain": [
       "0"
      ]
     },
     "execution_count": 5,
     "metadata": {},
     "output_type": "execute_result"
    }
   ],
   "source": [
    "x % y"
   ]
  },
  {
   "cell_type": "code",
   "execution_count": 6,
   "id": "e1cf9467",
   "metadata": {},
   "outputs": [
    {
     "data": {
      "text/plain": [
       "3.0"
      ]
     },
     "execution_count": 6,
     "metadata": {},
     "output_type": "execute_result"
    }
   ],
   "source": [
    "x / y"
   ]
  },
  {
   "cell_type": "code",
   "execution_count": 7,
   "id": "3bbd9c9f",
   "metadata": {},
   "outputs": [
    {
     "data": {
      "text/plain": [
       "4"
      ]
     },
     "execution_count": 7,
     "metadata": {},
     "output_type": "execute_result"
    }
   ],
   "source": [
    "x - y"
   ]
  },
  {
   "cell_type": "code",
   "execution_count": 15,
   "id": "b478e5fa",
   "metadata": {},
   "outputs": [],
   "source": [
    "x = 6\n",
    "y = 2\n",
    "z = 4\n"
   ]
  },
  {
   "cell_type": "code",
   "execution_count": 16,
   "id": "9d59b9bf",
   "metadata": {},
   "outputs": [
    {
     "data": {
      "text/plain": [
       "-1.0"
      ]
     },
     "execution_count": 16,
     "metadata": {},
     "output_type": "execute_result"
    }
   ],
   "source": [
    "(x-(y*z))/y"
   ]
  },
  {
   "cell_type": "markdown",
   "id": "13dde3ca",
   "metadata": {},
   "source": [
    "# 시그마\n",
    "\n",
    "덧셈의 반복 -> for 문!"
   ]
  },
  {
   "cell_type": "code",
   "execution_count": 21,
   "id": "3ba2f89f",
   "metadata": {},
   "outputs": [
    {
     "data": {
      "text/plain": [
       "190"
      ]
     },
     "execution_count": 21,
     "metadata": {},
     "output_type": "execute_result"
    }
   ],
   "source": [
    "# result = res or ret 으로 많이 사용! \n",
    "res = 0\n",
    "for a in range(1,20) : \n",
    "    res = res + a\n",
    "\n",
    "res"
   ]
  },
  {
   "cell_type": "code",
   "execution_count": 25,
   "id": "5fefe853",
   "metadata": {},
   "outputs": [
    {
     "data": {
      "text/plain": [
       "24"
      ]
     },
     "execution_count": 25,
     "metadata": {},
     "output_type": "execute_result"
    }
   ],
   "source": [
    "res = 0\n",
    "for i in range(7,10) :\n",
    "    res = res + i\n",
    "    \n",
    "res\n",
    "\n",
    "# 7 + 8 + 9 계산"
   ]
  },
  {
   "cell_type": "code",
   "execution_count": 28,
   "id": "371123a1",
   "metadata": {},
   "outputs": [
    {
     "data": {
      "text/plain": [
       "30"
      ]
     },
     "execution_count": 28,
     "metadata": {},
     "output_type": "execute_result"
    }
   ],
   "source": [
    "res = 0\n",
    "for i in range(1, 11):\n",
    "    res = res + 3\n",
    "    \n",
    "res"
   ]
  },
  {
   "cell_type": "code",
   "execution_count": 30,
   "id": "018d914a",
   "metadata": {},
   "outputs": [
    {
     "data": {
      "text/plain": [
       "0"
      ]
     },
     "execution_count": 30,
     "metadata": {},
     "output_type": "execute_result"
    }
   ],
   "source": [
    "res = 0\n",
    "for i in range(1,11) :\n",
    "    res \n",
    "    3 * i  \n",
    "    \n",
    "res"
   ]
  },
  {
   "cell_type": "code",
   "execution_count": 38,
   "id": "86787c12",
   "metadata": {},
   "outputs": [
    {
     "data": {
      "text/plain": [
       "-3"
      ]
     },
     "execution_count": 38,
     "metadata": {},
     "output_type": "execute_result"
    }
   ],
   "source": [
    "res = 0\n",
    "for i in range(1,3) :\n",
    "    for j in range(1,4):\n",
    "        res += i - j\n",
    "        \n",
    "res"
   ]
  },
  {
   "cell_type": "markdown",
   "id": "bfe4c9b7",
   "metadata": {},
   "source": [
    "# 파이"
   ]
  },
  {
   "cell_type": "code",
   "execution_count": 42,
   "id": "5bf6c93f",
   "metadata": {},
   "outputs": [
    {
     "data": {
      "text/plain": [
       "3628800"
      ]
     },
     "execution_count": 42,
     "metadata": {},
     "output_type": "execute_result"
    }
   ],
   "source": [
    "res = 1\n",
    "for i in range (1,11):\n",
    "    res = res * i\n",
    "    \n",
    "res"
   ]
  },
  {
   "cell_type": "code",
   "execution_count": 43,
   "id": "21c2f951",
   "metadata": {},
   "outputs": [
    {
     "data": {
      "text/plain": [
       "243"
      ]
     },
     "execution_count": 43,
     "metadata": {},
     "output_type": "execute_result"
    }
   ],
   "source": [
    "res = 1\n",
    "for i in range(1,6):\n",
    "    res = res * 3\n",
    "    \n",
    "res"
   ]
  },
  {
   "cell_type": "code",
   "execution_count": 46,
   "id": "76813a99",
   "metadata": {},
   "outputs": [
    {
     "data": {
      "text/plain": [
       "3840"
      ]
     },
     "execution_count": 46,
     "metadata": {},
     "output_type": "execute_result"
    }
   ],
   "source": [
    "res = 1\n",
    "for i in range(1,6):\n",
    "    res *= 2*i\n",
    "\n",
    "res"
   ]
  },
  {
   "cell_type": "code",
   "execution_count": 47,
   "id": "db3e2e42",
   "metadata": {},
   "outputs": [
    {
     "data": {
      "text/plain": [
       "144"
      ]
     },
     "execution_count": 47,
     "metadata": {},
     "output_type": "execute_result"
    }
   ],
   "source": [
    "res = 1\n",
    "for i in range(1, 4):\n",
    "    for j in range(4, 6):\n",
    "        res *= i-j\n",
    "        \n",
    "        \n",
    "res"
   ]
  },
  {
   "cell_type": "markdown",
   "id": "3074654b",
   "metadata": {},
   "source": [
    "# 팩토리얼"
   ]
  },
  {
   "cell_type": "code",
   "execution_count": 48,
   "id": "28ec6fdb",
   "metadata": {},
   "outputs": [
    {
     "data": {
      "text/plain": [
       "120"
      ]
     },
     "execution_count": 48,
     "metadata": {},
     "output_type": "execute_result"
    }
   ],
   "source": [
    "res = 1\n",
    "for i in range(1, 6):\n",
    "    res *= i\n",
    "    \n",
    "res"
   ]
  },
  {
   "cell_type": "code",
   "execution_count": 49,
   "id": "1937b2a8",
   "metadata": {},
   "outputs": [
    {
     "data": {
      "text/plain": [
       "120"
      ]
     },
     "execution_count": 49,
     "metadata": {},
     "output_type": "execute_result"
    }
   ],
   "source": [
    "res = 1\n",
    "for i in range(5, 0, -1):\n",
    "    res *= i\n",
    "    \n",
    "res"
   ]
  },
  {
   "cell_type": "code",
   "execution_count": 51,
   "id": "46132c47",
   "metadata": {},
   "outputs": [],
   "source": [
    "# factorial(n) 함수를 정의해보자! \n",
    "\n",
    "def factorial(n):\n",
    "    res = 1\n",
    "    for i in range(1, n+1):\n",
    "        res *= i\n",
    "    return res"
   ]
  },
  {
   "cell_type": "code",
   "execution_count": 52,
   "id": "8647b320",
   "metadata": {},
   "outputs": [
    {
     "data": {
      "text/plain": [
       "120"
      ]
     },
     "execution_count": 52,
     "metadata": {},
     "output_type": "execute_result"
    }
   ],
   "source": [
    "factorial(5)"
   ]
  },
  {
   "cell_type": "markdown",
   "id": "6802e61a",
   "metadata": {},
   "source": [
    "# 이항함수 (binomial)"
   ]
  },
  {
   "cell_type": "code",
   "execution_count": 55,
   "id": "3755b127",
   "metadata": {},
   "outputs": [
    {
     "data": {
      "text/plain": [
       "6.0"
      ]
     },
     "execution_count": 55,
     "metadata": {},
     "output_type": "execute_result"
    }
   ],
   "source": [
    "factorial(4)/(factorial(2)*factorial(4-2))"
   ]
  },
  {
   "cell_type": "code",
   "execution_count": 53,
   "id": "110786a6",
   "metadata": {},
   "outputs": [],
   "source": [
    "def binomial(n, x):\n",
    "    res = factorial(n) / (factorial(x) * factorial(n - x))\n",
    "    return res\n",
    "\n",
    "# binomial 을 정의하기 위해서도 결국 factorial을 정의해야하는 상황임!!! \n",
    "# 함수를 작게부터 정의하고, 그걸 가지고 간단하게 코드를 구현시키는게 중요하다!\n",
    "# 함수를 간결하게 짜는게 중요!!!\n",
    "# 함수를 행위나 의미 중 행위단위로 짜는게 중요!!!\n",
    "\n",
    "# 데이터를 불러오는 '행위' -> 데이터를 읽어오는 함수 등... \n",
    "\n",
    "# 데이터 분석하는 사람은 함수에 취약한 경우가 많다!!!\n",
    "# 왜냐하면 그냥 라이브러리를 불러와서 작업하는게 익숙하기 때문!\n",
    "# 따라서 데이터 분석 + 함수를 만들어 내는 습관, 능력까지 있으면 엄청난 경험치가 쌓이게 되고, 더 간결한 코드를 만들 수 있게 된다!!!"
   ]
  },
  {
   "cell_type": "code",
   "execution_count": 54,
   "id": "ae380d37",
   "metadata": {},
   "outputs": [
    {
     "data": {
      "text/plain": [
       "6.0"
      ]
     },
     "execution_count": 54,
     "metadata": {},
     "output_type": "execute_result"
    }
   ],
   "source": [
    "binomial(4, 2)"
   ]
  },
  {
   "cell_type": "markdown",
   "id": "56907d68",
   "metadata": {},
   "source": [
    "# 지시 함수 (indicator function)\n",
    "\n",
    "많이 쓴다!\n",
    "\n",
    "if 문 사용!"
   ]
  },
  {
   "cell_type": "code",
   "execution_count": 58,
   "id": "0fd95738",
   "metadata": {},
   "outputs": [
    {
     "data": {
      "text/plain": [
       "False"
      ]
     },
     "execution_count": 58,
     "metadata": {},
     "output_type": "execute_result"
    }
   ],
   "source": [
    "x = 13\n",
    "x < 10"
   ]
  },
  {
   "cell_type": "code",
   "execution_count": 59,
   "id": "5e46a04d",
   "metadata": {},
   "outputs": [
    {
     "data": {
      "text/plain": [
       "0"
      ]
     },
     "execution_count": 59,
     "metadata": {},
     "output_type": "execute_result"
    }
   ],
   "source": [
    "int(x < 10)"
   ]
  },
  {
   "cell_type": "code",
   "execution_count": 60,
   "id": "e40e4c86",
   "metadata": {},
   "outputs": [
    {
     "data": {
      "text/plain": [
       "0.0"
      ]
     },
     "execution_count": 60,
     "metadata": {},
     "output_type": "execute_result"
    }
   ],
   "source": [
    "float(x < 10)"
   ]
  },
  {
   "cell_type": "code",
   "execution_count": 56,
   "id": "92055d6d",
   "metadata": {},
   "outputs": [],
   "source": [
    "x = 13\n",
    "if x > 13 :\n",
    "    res = 1\n",
    "else :\n",
    "    res = 0"
   ]
  },
  {
   "cell_type": "code",
   "execution_count": 57,
   "id": "a13c53b7",
   "metadata": {},
   "outputs": [
    {
     "data": {
      "text/plain": [
       "0"
      ]
     },
     "execution_count": 57,
     "metadata": {},
     "output_type": "execute_result"
    }
   ],
   "source": [
    "res"
   ]
  },
  {
   "cell_type": "markdown",
   "id": "e88e60d5",
   "metadata": {},
   "source": [
    "# 자연상수 e"
   ]
  },
  {
   "cell_type": "code",
   "execution_count": 61,
   "id": "159da209",
   "metadata": {},
   "outputs": [
    {
     "name": "stdout",
     "output_type": "stream",
     "text": [
      "2.7048138294215285\n"
     ]
    }
   ],
   "source": [
    "n = 100\n",
    "e = (1+(1/n))**n\n",
    "print(e)"
   ]
  },
  {
   "cell_type": "code",
   "execution_count": 62,
   "id": "095fd3cb",
   "metadata": {},
   "outputs": [
    {
     "name": "stdout",
     "output_type": "stream",
     "text": [
      "2.7169239322355936\n"
     ]
    }
   ],
   "source": [
    "n = 1000\n",
    "e = (1+(1/n))**n\n",
    "print(e)"
   ]
  },
  {
   "cell_type": "code",
   "execution_count": 63,
   "id": "85b3e519",
   "metadata": {},
   "outputs": [
    {
     "name": "stdout",
     "output_type": "stream",
     "text": [
      "2.7181459268249255\n"
     ]
    }
   ],
   "source": [
    "n = 10000\n",
    "e = (1+(1/n))**n\n",
    "print(e)"
   ]
  },
  {
   "cell_type": "code",
   "execution_count": 64,
   "id": "24e1b113",
   "metadata": {},
   "outputs": [
    {
     "name": "stdout",
     "output_type": "stream",
     "text": [
      "2.7182682371922975\n"
     ]
    }
   ],
   "source": [
    "n = 100000\n",
    "e = (1+(1/n))**n\n",
    "print(e)"
   ]
  },
  {
   "cell_type": "code",
   "execution_count": 65,
   "id": "48ab1c5c",
   "metadata": {},
   "outputs": [
    {
     "name": "stdout",
     "output_type": "stream",
     "text": [
      "2.7182820532347876\n"
     ]
    }
   ],
   "source": [
    "n = 10000000000\n",
    "e = (1+(1/n))**n\n",
    "print(e)"
   ]
  },
  {
   "cell_type": "markdown",
   "id": "d59ec026",
   "metadata": {},
   "source": [
    "# min x / argmin x    ,   max x  / argmax x\n",
    "\n",
    "최소값 / 최소값의 인덱스 값    ,  최대값 / 최대값의 인덱스 값"
   ]
  },
  {
   "cell_type": "code",
   "execution_count": 67,
   "id": "e7e09698",
   "metadata": {},
   "outputs": [],
   "source": [
    "x = [4, 2, 8, 9, 3]"
   ]
  },
  {
   "cell_type": "code",
   "execution_count": 68,
   "id": "fb1573a1",
   "metadata": {},
   "outputs": [],
   "source": [
    "min_value = min(x)"
   ]
  },
  {
   "cell_type": "code",
   "execution_count": 69,
   "id": "2ee4bb25",
   "metadata": {},
   "outputs": [
    {
     "data": {
      "text/plain": [
       "2"
      ]
     },
     "execution_count": 69,
     "metadata": {},
     "output_type": "execute_result"
    }
   ],
   "source": [
    "min_value"
   ]
  },
  {
   "cell_type": "code",
   "execution_count": 70,
   "id": "dc2778cd",
   "metadata": {},
   "outputs": [
    {
     "data": {
      "text/plain": [
       "1"
      ]
     },
     "execution_count": 70,
     "metadata": {},
     "output_type": "execute_result"
    }
   ],
   "source": [
    "x.index(min_value)"
   ]
  },
  {
   "cell_type": "code",
   "execution_count": null,
   "id": "e6a3c6e6",
   "metadata": {},
   "outputs": [],
   "source": []
  },
  {
   "cell_type": "code",
   "execution_count": 71,
   "id": "d6027486",
   "metadata": {},
   "outputs": [
    {
     "data": {
      "text/plain": [
       "2"
      ]
     },
     "execution_count": 71,
     "metadata": {},
     "output_type": "execute_result"
    }
   ],
   "source": [
    "import numpy as np\n",
    "np.min(x)"
   ]
  },
  {
   "cell_type": "code",
   "execution_count": 72,
   "id": "d7d65b9b",
   "metadata": {},
   "outputs": [
    {
     "data": {
      "text/plain": [
       "1"
      ]
     },
     "execution_count": 72,
     "metadata": {},
     "output_type": "execute_result"
    }
   ],
   "source": [
    "np.argmin(x)"
   ]
  },
  {
   "cell_type": "code",
   "execution_count": null,
   "id": "2038ebcc",
   "metadata": {},
   "outputs": [],
   "source": []
  },
  {
   "cell_type": "code",
   "execution_count": 73,
   "id": "50d64b96",
   "metadata": {},
   "outputs": [
    {
     "data": {
      "text/plain": [
       "9"
      ]
     },
     "execution_count": 73,
     "metadata": {},
     "output_type": "execute_result"
    }
   ],
   "source": [
    "max_value = max(x)\n",
    "max_value"
   ]
  },
  {
   "cell_type": "code",
   "execution_count": 74,
   "id": "e589378a",
   "metadata": {},
   "outputs": [
    {
     "data": {
      "text/plain": [
       "3"
      ]
     },
     "execution_count": 74,
     "metadata": {},
     "output_type": "execute_result"
    }
   ],
   "source": [
    "x.index(max_value)"
   ]
  },
  {
   "cell_type": "code",
   "execution_count": 75,
   "id": "4b9a9127",
   "metadata": {},
   "outputs": [
    {
     "data": {
      "text/plain": [
       "9"
      ]
     },
     "execution_count": 75,
     "metadata": {},
     "output_type": "execute_result"
    }
   ],
   "source": [
    "import numpy as np\n",
    "np.max(x)"
   ]
  },
  {
   "cell_type": "code",
   "execution_count": 76,
   "id": "2a5c2319",
   "metadata": {},
   "outputs": [
    {
     "data": {
      "text/plain": [
       "3"
      ]
     },
     "execution_count": 76,
     "metadata": {},
     "output_type": "execute_result"
    }
   ],
   "source": [
    "np.argmax(x)"
   ]
  },
  {
   "cell_type": "code",
   "execution_count": null,
   "id": "338937c8",
   "metadata": {},
   "outputs": [],
   "source": []
  }
 ],
 "metadata": {
  "kernelspec": {
   "display_name": "Python 3 (ipykernel)",
   "language": "python",
   "name": "python3"
  },
  "language_info": {
   "codemirror_mode": {
    "name": "ipython",
    "version": 3
   },
   "file_extension": ".py",
   "mimetype": "text/x-python",
   "name": "python",
   "nbconvert_exporter": "python",
   "pygments_lexer": "ipython3",
   "version": "3.9.7"
  }
 },
 "nbformat": 4,
 "nbformat_minor": 5
}
